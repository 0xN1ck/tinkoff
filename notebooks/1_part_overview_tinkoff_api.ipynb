{
 "cells": [
  {
   "cell_type": "code",
   "execution_count": 8,
   "id": "1734862b",
   "metadata": {},
   "outputs": [],
   "source": [
    "import tinvest\n",
    "import pandas as pd\n",
    "from configparser import ConfigParser\n",
    "from datetime import datetime, timedelta"
   ]
  },
  {
   "cell_type": "code",
   "execution_count": 9,
   "id": "656fda47",
   "metadata": {},
   "outputs": [],
   "source": [
    "config_parser = ConfigParser()"
   ]
  },
  {
   "cell_type": "code",
   "execution_count": 10,
   "id": "5afaee04",
   "metadata": {},
   "outputs": [
    {
     "data": {
      "text/plain": [
       "['../airflow/tinkoff.cfg']"
      ]
     },
     "execution_count": 10,
     "metadata": {},
     "output_type": "execute_result"
    }
   ],
   "source": [
    "config_parser.read(\"../airflow/tinkoff.cfg\")"
   ]
  },
  {
   "cell_type": "code",
   "execution_count": 11,
   "id": "fc49b64d",
   "metadata": {},
   "outputs": [],
   "source": [
    "token = config_parser.get(\"core\", \"TOKEN_TINKOFF\")"
   ]
  },
  {
   "cell_type": "code",
   "execution_count": 12,
   "id": "278bf99e",
   "metadata": {
    "scrolled": true
   },
   "outputs": [],
   "source": [
    "client = tinvest.SyncClient(token, use_sandbox=True)"
   ]
  },
  {
   "cell_type": "code",
   "execution_count": 13,
   "id": "54dfd906",
   "metadata": {},
   "outputs": [
    {
     "data": {
      "text/plain": [
       "Empty(payload={}, status='Ok', tracking_id='72a5219d44292522')"
      ]
     },
     "execution_count": 13,
     "metadata": {},
     "output_type": "execute_result"
    }
   ],
   "source": [
    "client.clear_sandbox_account()"
   ]
  },
  {
   "cell_type": "code",
   "execution_count": 14,
   "id": "164efcf6",
   "metadata": {},
   "outputs": [
    {
     "data": {
      "text/plain": [
       "PortfolioCurrenciesResponse(payload=Currencies(currencies=[CurrencyPosition(balance=Decimal('0'), blocked=None, currency=<Currency.eur: 'EUR'>), CurrencyPosition(balance=Decimal('0'), blocked=None, currency=<Currency.rub: 'RUB'>), CurrencyPosition(balance=Decimal('0'), blocked=None, currency=<Currency.usd: 'USD'>)]), status='Ok', tracking_id='cd5327ceddb5d707')"
      ]
     },
     "execution_count": 14,
     "metadata": {},
     "output_type": "execute_result"
    }
   ],
   "source": [
    "client.get_portfolio_currencies()"
   ]
  },
  {
   "cell_type": "code",
   "execution_count": 8,
   "id": "178c25bc",
   "metadata": {},
   "outputs": [
    {
     "data": {
      "text/plain": [
       "Empty(payload={}, status='Ok', tracking_id='851b54d243017d25')"
      ]
     },
     "execution_count": 8,
     "metadata": {},
     "output_type": "execute_result"
    }
   ],
   "source": [
    "client.set_sandbox_currencies_balance(\n",
    "    tinvest.schemas.SandboxSetCurrencyBalanceRequest(\n",
    "        balance=100000,\n",
    "        currency=tinvest.schemas.SandboxCurrency('USD')\n",
    "    )\n",
    ")"
   ]
  },
  {
   "cell_type": "code",
   "execution_count": 9,
   "id": "f8e1b6c1",
   "metadata": {},
   "outputs": [],
   "source": [
    "aapl = client.get_market_search_by_ticker('AAPL')"
   ]
  },
  {
   "cell_type": "code",
   "execution_count": 10,
   "id": "ae92ff00",
   "metadata": {},
   "outputs": [
    {
     "data": {
      "text/plain": [
       "MarketInstrumentListResponse(payload=MarketInstrumentList(instruments=[MarketInstrument(currency=<Currency.usd: 'USD'>, figi='BBG000B9XRY4', isin='US0378331005', lot=1, min_price_increment=Decimal('0.01'), name='Apple', ticker='AAPL', type=<InstrumentType.stock: 'Stock'>, min_quantity=None)], total=Decimal('1')), status='Ok', tracking_id='9b1de1795eaf5c60')"
      ]
     },
     "execution_count": 10,
     "metadata": {},
     "output_type": "execute_result"
    }
   ],
   "source": [
    "aapl"
   ]
  },
  {
   "cell_type": "code",
   "execution_count": 11,
   "id": "5b39fa7d",
   "metadata": {},
   "outputs": [],
   "source": [
    "aapl_figi = aapl.payload.instruments[0].figi"
   ]
  },
  {
   "cell_type": "code",
   "execution_count": 12,
   "id": "0c208231",
   "metadata": {},
   "outputs": [],
   "source": [
    "data = client.get_market_candles(\n",
    "    aapl_figi,\n",
    "    datetime.now() - timedelta(days=365),\n",
    "    datetime.now(),\n",
    "    tinvest.schemas.CandleResolution.day\n",
    ")"
   ]
  },
  {
   "cell_type": "code",
   "execution_count": 13,
   "id": "55ce6f29",
   "metadata": {},
   "outputs": [
    {
     "data": {
      "text/plain": [
       "[Candle(c=Decimal('124.38'), figi='BBG000B9XRY4', h=Decimal('124.98'), interval=<CandleResolution.day: 'day'>, l=Decimal('123.05'), o=Decimal('123.69'), time=datetime.datetime(2020, 12, 8, 7, 0, tzinfo=datetime.timezone.utc), v=19517377),\n",
       " Candle(c=Decimal('121.78'), figi='BBG000B9XRY4', h=Decimal('125.95'), interval=<CandleResolution.day: 'day'>, l=Decimal('121.07'), o=Decimal('124.5'), time=datetime.datetime(2020, 12, 9, 7, 0, tzinfo=datetime.timezone.utc), v=30229870),\n",
       " Candle(c=Decimal('123.24'), figi='BBG000B9XRY4', h=Decimal('123.85'), interval=<CandleResolution.day: 'day'>, l=Decimal('120.01'), o=Decimal('121.45'), time=datetime.datetime(2020, 12, 10, 7, 0, tzinfo=datetime.timezone.utc), v=21004315),\n",
       " Candle(c=Decimal('122.41'), figi='BBG000B9XRY4', h=Decimal('123.7'), interval=<CandleResolution.day: 'day'>, l=Decimal('120.56'), o=Decimal('123.16'), time=datetime.datetime(2020, 12, 11, 7, 0, tzinfo=datetime.timezone.utc), v=21024768),\n",
       " Candle(c=Decimal('121.78'), figi='BBG000B9XRY4', h=Decimal('123.33'), interval=<CandleResolution.day: 'day'>, l=Decimal('121.66'), o=Decimal('122.81'), time=datetime.datetime(2020, 12, 14, 7, 0, tzinfo=datetime.timezone.utc), v=25192382),\n",
       " Candle(c=Decimal('127.88'), figi='BBG000B9XRY4', h=Decimal('127.99'), interval=<CandleResolution.day: 'day'>, l=Decimal('121.73'), o=Decimal('121.83'), time=datetime.datetime(2020, 12, 15, 7, 0, tzinfo=datetime.timezone.utc), v=35498287),\n",
       " Candle(c=Decimal('127.81'), figi='BBG000B9XRY4', h=Decimal('128.73'), interval=<CandleResolution.day: 'day'>, l=Decimal('126.56'), o=Decimal('128.52'), time=datetime.datetime(2020, 12, 16, 7, 0, tzinfo=datetime.timezone.utc), v=22918829),\n",
       " Candle(c=Decimal('128.7'), figi='BBG000B9XRY4', h=Decimal('129.56'), interval=<CandleResolution.day: 'day'>, l=Decimal('127.96'), o=Decimal('128.37'), time=datetime.datetime(2020, 12, 17, 7, 0, tzinfo=datetime.timezone.utc), v=20943490),\n",
       " Candle(c=Decimal('126.66'), figi='BBG000B9XRY4', h=Decimal('129.35'), interval=<CandleResolution.day: 'day'>, l=Decimal('126.13'), o=Decimal('128.55'), time=datetime.datetime(2020, 12, 18, 7, 0, tzinfo=datetime.timezone.utc), v=98946734),\n",
       " Candle(c=Decimal('128.23'), figi='BBG000B9XRY4', h=Decimal('132'), interval=<CandleResolution.day: 'day'>, l=Decimal('123.12'), o=Decimal('127.6'), time=datetime.datetime(2020, 12, 21, 7, 0, tzinfo=datetime.timezone.utc), v=30421273),\n",
       " Candle(c=Decimal('131.88'), figi='BBG000B9XRY4', h=Decimal('134.4'), interval=<CandleResolution.day: 'day'>, l=Decimal('127.28'), o=Decimal('128.81'), time=datetime.datetime(2020, 12, 22, 7, 0, tzinfo=datetime.timezone.utc), v=31510984),\n",
       " Candle(c=Decimal('130.96'), figi='BBG000B9XRY4', h=Decimal('132.8'), interval=<CandleResolution.day: 'day'>, l=Decimal('130.5'), o=Decimal('130.5'), time=datetime.datetime(2020, 12, 23, 7, 0, tzinfo=datetime.timezone.utc), v=20511617),\n",
       " Candle(c=Decimal('131.97'), figi='BBG000B9XRY4', h=Decimal('133.46'), interval=<CandleResolution.day: 'day'>, l=Decimal('130.67'), o=Decimal('131.15'), time=datetime.datetime(2020, 12, 24, 7, 0, tzinfo=datetime.timezone.utc), v=9470208),\n",
       " Candle(c=Decimal('136.69'), figi='BBG000B9XRY4', h=Decimal('137.33'), interval=<CandleResolution.day: 'day'>, l=Decimal('131.75'), o=Decimal('133.1'), time=datetime.datetime(2020, 12, 28, 7, 0, tzinfo=datetime.timezone.utc), v=23459873),\n",
       " Candle(c=Decimal('134.87'), figi='BBG000B9XRY4', h=Decimal('138.78'), interval=<CandleResolution.day: 'day'>, l=Decimal('134.35'), o=Decimal('137'), time=datetime.datetime(2020, 12, 29, 7, 0, tzinfo=datetime.timezone.utc), v=22534735),\n",
       " Candle(c=Decimal('133.72'), figi='BBG000B9XRY4', h=Decimal('135.99'), interval=<CandleResolution.day: 'day'>, l=Decimal('133.41'), o=Decimal('135.1'), time=datetime.datetime(2020, 12, 30, 7, 0, tzinfo=datetime.timezone.utc), v=18890796),\n",
       " Candle(c=Decimal('132.69'), figi='BBG000B9XRY4', h=Decimal('134.71'), interval=<CandleResolution.day: 'day'>, l=Decimal('131.73'), o=Decimal('133.5'), time=datetime.datetime(2020, 12, 31, 7, 0, tzinfo=datetime.timezone.utc), v=23561134),\n",
       " Candle(c=Decimal('129.41'), figi='BBG000B9XRY4', h=Decimal('135'), interval=<CandleResolution.day: 'day'>, l=Decimal('126.78'), o=Decimal('132.99'), time=datetime.datetime(2021, 1, 4, 7, 0, tzinfo=datetime.timezone.utc), v=36048526),\n",
       " Candle(c=Decimal('131.01'), figi='BBG000B9XRY4', h=Decimal('131.74'), interval=<CandleResolution.day: 'day'>, l=Decimal('128.32'), o=Decimal('129.76'), time=datetime.datetime(2021, 1, 5, 7, 0, tzinfo=datetime.timezone.utc), v=20355266),\n",
       " Candle(c=Decimal('126.6'), figi='BBG000B9XRY4', h=Decimal('131.51'), interval=<CandleResolution.day: 'day'>, l=Decimal('126.33'), o=Decimal('130.42'), time=datetime.datetime(2021, 1, 6, 7, 0, tzinfo=datetime.timezone.utc), v=35525626),\n",
       " Candle(c=Decimal('130.92'), figi='BBG000B9XRY4', h=Decimal('131.62'), interval=<CandleResolution.day: 'day'>, l=Decimal('127.11'), o=Decimal('127.51'), time=datetime.datetime(2021, 1, 7, 7, 0, tzinfo=datetime.timezone.utc), v=24404904),\n",
       " Candle(c=Decimal('132.05'), figi='BBG000B9XRY4', h=Decimal('132.79'), interval=<CandleResolution.day: 'day'>, l=Decimal('130.25'), o=Decimal('131'), time=datetime.datetime(2021, 1, 8, 7, 0, tzinfo=datetime.timezone.utc), v=22804683),\n",
       " Candle(c=Decimal('128.98'), figi='BBG000B9XRY4', h=Decimal('132.99'), interval=<CandleResolution.day: 'day'>, l=Decimal('128.54'), o=Decimal('132.44'), time=datetime.datetime(2021, 1, 11, 7, 0, tzinfo=datetime.timezone.utc), v=23293195),\n",
       " Candle(c=Decimal('128.8'), figi='BBG000B9XRY4', h=Decimal('130.0'), interval=<CandleResolution.day: 'day'>, l=Decimal('126.86'), o=Decimal('129.01'), time=datetime.datetime(2021, 1, 12, 7, 0, tzinfo=datetime.timezone.utc), v=17651342),\n",
       " Candle(c=Decimal('130.89'), figi='BBG000B9XRY4', h=Decimal('131.44'), interval=<CandleResolution.day: 'day'>, l=Decimal('128.41'), o=Decimal('129.1'), time=datetime.datetime(2021, 1, 13, 7, 0, tzinfo=datetime.timezone.utc), v=20159509),\n",
       " Candle(c=Decimal('128.91'), figi='BBG000B9XRY4', h=Decimal('131.28'), interval=<CandleResolution.day: 'day'>, l=Decimal('128.78'), o=Decimal('131.15'), time=datetime.datetime(2021, 1, 14, 7, 0, tzinfo=datetime.timezone.utc), v=19886440),\n",
       " Candle(c=Decimal('127.14'), figi='BBG000B9XRY4', h=Decimal('130.2'), interval=<CandleResolution.day: 'day'>, l=Decimal('126.92'), o=Decimal('127.03'), time=datetime.datetime(2021, 1, 15, 7, 0, tzinfo=datetime.timezone.utc), v=28313213),\n",
       " Candle(c=Decimal('127.83'), figi='BBG000B9XRY4', h=Decimal('129.19'), interval=<CandleResolution.day: 'day'>, l=Decimal('126.94'), o=Decimal('128.5'), time=datetime.datetime(2021, 1, 19, 7, 0, tzinfo=datetime.timezone.utc), v=18916421),\n",
       " Candle(c=Decimal('132.03'), figi='BBG000B9XRY4', h=Decimal('132.49'), interval=<CandleResolution.day: 'day'>, l=Decimal('127.82'), o=Decimal('128.5'), time=datetime.datetime(2021, 1, 20, 7, 0, tzinfo=datetime.timezone.utc), v=24242294),\n",
       " Candle(c=Decimal('136.87'), figi='BBG000B9XRY4', h=Decimal('137.5'), interval=<CandleResolution.day: 'day'>, l=Decimal('132.38'), o=Decimal('132.51'), time=datetime.datetime(2021, 1, 21, 7, 0, tzinfo=datetime.timezone.utc), v=23735496),\n",
       " Candle(c=Decimal('139.07'), figi='BBG000B9XRY4', h=Decimal('139.85'), interval=<CandleResolution.day: 'day'>, l=Decimal('134.36'), o=Decimal('137.3'), time=datetime.datetime(2021, 1, 22, 7, 0, tzinfo=datetime.timezone.utc), v=22084450),\n",
       " Candle(c=Decimal('142.92'), figi='BBG000B9XRY4', h=Decimal('145.08'), interval=<CandleResolution.day: 'day'>, l=Decimal('136.55'), o=Decimal('140.35'), time=datetime.datetime(2021, 1, 25, 7, 0, tzinfo=datetime.timezone.utc), v=30653431),\n",
       " Candle(c=Decimal('143.16'), figi='BBG000B9XRY4', h=Decimal('145'), interval=<CandleResolution.day: 'day'>, l=Decimal('140.64'), o=Decimal('142'), time=datetime.datetime(2021, 1, 26, 7, 0, tzinfo=datetime.timezone.utc), v=19015575),\n",
       " Candle(c=Decimal('142.06'), figi='BBG000B9XRY4', h=Decimal('145.14'), interval=<CandleResolution.day: 'day'>, l=Decimal('137.01'), o=Decimal('144.44'), time=datetime.datetime(2021, 1, 27, 7, 0, tzinfo=datetime.timezone.utc), v=33798457),\n",
       " Candle(c=Decimal('137.09'), figi='BBG000B9XRY4', h=Decimal('142.1'), interval=<CandleResolution.day: 'day'>, l=Decimal('135.46'), o=Decimal('138.49'), time=datetime.datetime(2021, 1, 28, 7, 0, tzinfo=datetime.timezone.utc), v=35914916),\n",
       " Candle(c=Decimal('131.96'), figi='BBG000B9XRY4', h=Decimal('137.37'), interval=<CandleResolution.day: 'day'>, l=Decimal('130.22'), o=Decimal('136.4'), time=datetime.datetime(2021, 1, 29, 7, 0, tzinfo=datetime.timezone.utc), v=42468042),\n",
       " Candle(c=Decimal('134.14'), figi='BBG000B9XRY4', h=Decimal('135.38'), interval=<CandleResolution.day: 'day'>, l=Decimal('130.96'), o=Decimal('133.12'), time=datetime.datetime(2021, 2, 1, 7, 0, tzinfo=datetime.timezone.utc), v=25563867),\n",
       " Candle(c=Decimal('134.99'), figi='BBG000B9XRY4', h=Decimal('136.45'), interval=<CandleResolution.day: 'day'>, l=Decimal('134.5'), o=Decimal('134.76'), time=datetime.datetime(2021, 2, 2, 7, 0, tzinfo=datetime.timezone.utc), v=19587632),\n",
       " Candle(c=Decimal('133.94'), figi='BBG000B9XRY4', h=Decimal('136'), interval=<CandleResolution.day: 'day'>, l=Decimal('133.62'), o=Decimal('135.7'), time=datetime.datetime(2021, 2, 3, 7, 0, tzinfo=datetime.timezone.utc), v=18380120),\n",
       " Candle(c=Decimal('137.39'), figi='BBG000B9XRY4', h=Decimal('137.46'), interval=<CandleResolution.day: 'day'>, l=Decimal('134.63'), o=Decimal('136.02'), time=datetime.datetime(2021, 2, 4, 7, 0, tzinfo=datetime.timezone.utc), v=19081589),\n",
       " Candle(c=Decimal('136.76'), figi='BBG000B9XRY4', h=Decimal('138.4'), interval=<CandleResolution.day: 'day'>, l=Decimal('135.87'), o=Decimal('137.32'), time=datetime.datetime(2021, 2, 5, 7, 0, tzinfo=datetime.timezone.utc), v=15678428),\n",
       " Candle(c=Decimal('136.91'), figi='BBG000B9XRY4', h=Decimal('137.91'), interval=<CandleResolution.day: 'day'>, l=Decimal('135'), o=Decimal('137.18'), time=datetime.datetime(2021, 2, 8, 7, 0, tzinfo=datetime.timezone.utc), v=16655834),\n",
       " Candle(c=Decimal('136.01'), figi='BBG000B9XRY4', h=Decimal('137.87'), interval=<CandleResolution.day: 'day'>, l=Decimal('135.8'), o=Decimal('136.01'), time=datetime.datetime(2021, 2, 9, 7, 0, tzinfo=datetime.timezone.utc), v=14578810),\n",
       " Candle(c=Decimal('135.39'), figi='BBG000B9XRY4', h=Decimal('137.34'), interval=<CandleResolution.day: 'day'>, l=Decimal('134.41'), o=Decimal('136.51'), time=datetime.datetime(2021, 2, 10, 7, 0, tzinfo=datetime.timezone.utc), v=15590571),\n",
       " Candle(c=Decimal('135.13'), figi='BBG000B9XRY4', h=Decimal('136.36'), interval=<CandleResolution.day: 'day'>, l=Decimal('133.79'), o=Decimal('135.39'), time=datetime.datetime(2021, 2, 11, 7, 0, tzinfo=datetime.timezone.utc), v=13551807),\n",
       " Candle(c=Decimal('135.37'), figi='BBG000B9XRY4', h=Decimal('135.5'), interval=<CandleResolution.day: 'day'>, l=Decimal('133.71'), o=Decimal('134.8'), time=datetime.datetime(2021, 2, 12, 7, 0, tzinfo=datetime.timezone.utc), v=14199593),\n",
       " Candle(c=Decimal('133.19'), figi='BBG000B9XRY4', h=Decimal('136.72'), interval=<CandleResolution.day: 'day'>, l=Decimal('132.82'), o=Decimal('136.71'), time=datetime.datetime(2021, 2, 16, 7, 0, tzinfo=datetime.timezone.utc), v=18658772),\n",
       " Candle(c=Decimal('130.84'), figi='BBG000B9XRY4', h=Decimal('133.66'), interval=<CandleResolution.day: 'day'>, l=Decimal('129.5'), o=Decimal('133.66'), time=datetime.datetime(2021, 2, 17, 7, 0, tzinfo=datetime.timezone.utc), v=21042119),\n",
       " Candle(c=Decimal('129.71'), figi='BBG000B9XRY4', h=Decimal('131.38'), interval=<CandleResolution.day: 'day'>, l=Decimal('127.43'), o=Decimal('130.8'), time=datetime.datetime(2021, 2, 18, 7, 0, tzinfo=datetime.timezone.utc), v=20428185),\n",
       " Candle(c=Decimal('129.87'), figi='BBG000B9XRY4', h=Decimal('130.78'), interval=<CandleResolution.day: 'day'>, l=Decimal('128.5'), o=Decimal('129.95'), time=datetime.datetime(2021, 2, 19, 7, 0, tzinfo=datetime.timezone.utc), v=21624018),\n",
       " Candle(c=Decimal('126'), figi='BBG000B9XRY4', h=Decimal('129.9'), interval=<CandleResolution.day: 'day'>, l=Decimal('125.61'), o=Decimal('129.5'), time=datetime.datetime(2021, 2, 22, 7, 0, tzinfo=datetime.timezone.utc), v=26731134),\n",
       " Candle(c=Decimal('125.86'), figi='BBG000B9XRY4', h=Decimal('126.99'), interval=<CandleResolution.day: 'day'>, l=Decimal('118.42'), o=Decimal('126.09'), time=datetime.datetime(2021, 2, 23, 7, 0, tzinfo=datetime.timezone.utc), v=33489034),\n",
       " Candle(c=Decimal('125.35'), figi='BBG000B9XRY4', h=Decimal('127.49'), interval=<CandleResolution.day: 'day'>, l=Decimal('122.24'), o=Decimal('125'), time=datetime.datetime(2021, 2, 24, 7, 0, tzinfo=datetime.timezone.utc), v=26364578),\n",
       " Candle(c=Decimal('120.99'), figi='BBG000B9XRY4', h=Decimal('126.6'), interval=<CandleResolution.day: 'day'>, l=Decimal('120.45'), o=Decimal('125.27'), time=datetime.datetime(2021, 2, 25, 7, 0, tzinfo=datetime.timezone.utc), v=34754523),\n",
       " Candle(c=Decimal('121.26'), figi='BBG000B9XRY4', h=Decimal('124.84'), interval=<CandleResolution.day: 'day'>, l=Decimal('117.37'), o=Decimal('120.7'), time=datetime.datetime(2021, 2, 26, 7, 0, tzinfo=datetime.timezone.utc), v=47163223),\n",
       " Candle(c=Decimal('127.79'), figi='BBG000B9XRY4', h=Decimal('128.67'), interval=<CandleResolution.day: 'day'>, l=Decimal('122.2'), o=Decimal('122.2'), time=datetime.datetime(2021, 3, 1, 4, 0, tzinfo=datetime.timezone.utc), v=27732483),\n",
       " Candle(c=Decimal('125.12'), figi='BBG000B9XRY4', h=Decimal('128.7'), interval=<CandleResolution.day: 'day'>, l=Decimal('125.01'), o=Decimal('128.3'), time=datetime.datetime(2021, 3, 2, 4, 0, tzinfo=datetime.timezone.utc), v=24637406),\n",
       " Candle(c=Decimal('122.06'), figi='BBG000B9XRY4', h=Decimal('126.96'), interval=<CandleResolution.day: 'day'>, l=Decimal('121.87'), o=Decimal('125.2'), time=datetime.datetime(2021, 3, 3, 4, 0, tzinfo=datetime.timezone.utc), v=28349349),\n",
       " Candle(c=Decimal('120.13'), figi='BBG000B9XRY4', h=Decimal('123.6'), interval=<CandleResolution.day: 'day'>, l=Decimal('118.63'), o=Decimal('121.09'), time=datetime.datetime(2021, 3, 4, 4, 0, tzinfo=datetime.timezone.utc), v=39867459),\n",
       " Candle(c=Decimal('121.42'), figi='BBG000B9XRY4', h=Decimal('121.93'), interval=<CandleResolution.day: 'day'>, l=Decimal('117.57'), o=Decimal('119'), time=datetime.datetime(2021, 3, 5, 4, 0, tzinfo=datetime.timezone.utc), v=37283545),\n",
       " Candle(c=Decimal('116.36'), figi='BBG000B9XRY4', h=Decimal('122.33'), interval=<CandleResolution.day: 'day'>, l=Decimal('116.16'), o=Decimal('121.37'), time=datetime.datetime(2021, 3, 8, 4, 0, tzinfo=datetime.timezone.utc), v=36192053),\n",
       " Candle(c=Decimal('121.09'), figi='BBG000B9XRY4', h=Decimal('122.04'), interval=<CandleResolution.day: 'day'>, l=Decimal('116.77'), o=Decimal('116.95'), time=datetime.datetime(2021, 3, 9, 4, 0, tzinfo=datetime.timezone.utc), v=30773422),\n",
       " Candle(c=Decimal('119.98'), figi='BBG000B9XRY4', h=Decimal('122.2'), interval=<CandleResolution.day: 'day'>, l=Decimal('119.45'), o=Decimal('120.7'), time=datetime.datetime(2021, 3, 10, 4, 0, tzinfo=datetime.timezone.utc), v=24300686),\n",
       " Candle(c=Decimal('121.89'), figi='BBG000B9XRY4', h=Decimal('123.2'), interval=<CandleResolution.day: 'day'>, l=Decimal('120.39'), o=Decimal('120.39'), time=datetime.datetime(2021, 3, 11, 4, 0, tzinfo=datetime.timezone.utc), v=23487626),\n",
       " Candle(c=Decimal('121.03'), figi='BBG000B9XRY4', h=Decimal('122.09'), interval=<CandleResolution.day: 'day'>, l=Decimal('119.15'), o=Decimal('122.09'), time=datetime.datetime(2021, 3, 12, 4, 0, tzinfo=datetime.timezone.utc), v=18576312),\n",
       " Candle(c=Decimal('123.99'), figi='BBG000B9XRY4', h=Decimal('124.55'), interval=<CandleResolution.day: 'day'>, l=Decimal('120.42'), o=Decimal('121.4'), time=datetime.datetime(2021, 3, 15, 4, 0, tzinfo=datetime.timezone.utc), v=21703597),\n",
       " Candle(c=Decimal('125.57'), figi='BBG000B9XRY4', h=Decimal('127.21'), interval=<CandleResolution.day: 'day'>, l=Decimal('123.4'), o=Decimal('124.4'), time=datetime.datetime(2021, 3, 16, 4, 0, tzinfo=datetime.timezone.utc), v=20139307),\n",
       " Candle(c=Decimal('124.76'), figi='BBG000B9XRY4', h=Decimal('125.86'), interval=<CandleResolution.day: 'day'>, l=Decimal('122.35'), o=Decimal('125.73'), time=datetime.datetime(2021, 3, 17, 4, 0, tzinfo=datetime.timezone.utc), v=24799654),\n",
       " Candle(c=Decimal('120.53'), figi='BBG000B9XRY4', h=Decimal('125.9'), interval=<CandleResolution.day: 'day'>, l=Decimal('120.34'), o=Decimal('125.7'), time=datetime.datetime(2021, 3, 18, 4, 0, tzinfo=datetime.timezone.utc), v=30016521),\n",
       " Candle(c=Decimal('119.99'), figi='BBG000B9XRY4', h=Decimal('121.15'), interval=<CandleResolution.day: 'day'>, l=Decimal('119.68'), o=Decimal('121.15'), time=datetime.datetime(2021, 3, 19, 4, 0, tzinfo=datetime.timezone.utc), v=74547350),\n",
       " Candle(c=Decimal('123.39'), figi='BBG000B9XRY4', h=Decimal('123.86'), interval=<CandleResolution.day: 'day'>, l=Decimal('120.14'), o=Decimal('120.7'), time=datetime.datetime(2021, 3, 22, 4, 0, tzinfo=datetime.timezone.utc), v=27105916),\n",
       " Candle(c=Decimal('122.46'), figi='BBG000B9XRY4', h=Decimal('124.22'), interval=<CandleResolution.day: 'day'>, l=Decimal('122.15'), o=Decimal('123.98'), time=datetime.datetime(2021, 3, 23, 4, 0, tzinfo=datetime.timezone.utc), v=21841371),\n",
       " Candle(c=Decimal('120.09'), figi='BBG000B9XRY4', h=Decimal('123.4'), interval=<CandleResolution.day: 'day'>, l=Decimal('120.03'), o=Decimal('122.7'), time=datetime.datetime(2021, 3, 24, 4, 0, tzinfo=datetime.timezone.utc), v=19151655),\n",
       " Candle(c=Decimal('120.59'), figi='BBG000B9XRY4', h=Decimal('121.65'), interval=<CandleResolution.day: 'day'>, l=Decimal('118.6'), o=Decimal('120.62'), time=datetime.datetime(2021, 3, 25, 4, 0, tzinfo=datetime.timezone.utc), v=22008864),\n",
       " Candle(c=Decimal('121.21'), figi='BBG000B9XRY4', h=Decimal('121.49'), interval=<CandleResolution.day: 'day'>, l=Decimal('118.93'), o=Decimal('120.47'), time=datetime.datetime(2021, 3, 26, 4, 0, tzinfo=datetime.timezone.utc), v=22618429),\n",
       " Candle(c=Decimal('121.39'), figi='BBG000B9XRY4', h=Decimal('122.58'), interval=<CandleResolution.day: 'day'>, l=Decimal('119.9'), o=Decimal('121'), time=datetime.datetime(2021, 3, 29, 4, 0, tzinfo=datetime.timezone.utc), v=17670874),\n",
       " Candle(c=Decimal('119.9'), figi='BBG000B9XRY4', h=Decimal('121.4'), interval=<CandleResolution.day: 'day'>, l=Decimal('118.87'), o=Decimal('121.19'), time=datetime.datetime(2021, 3, 30, 4, 0, tzinfo=datetime.timezone.utc), v=20095577),\n",
       " Candle(c=Decimal('122.15'), figi='BBG000B9XRY4', h=Decimal('123.52'), interval=<CandleResolution.day: 'day'>, l=Decimal('119.55'), o=Decimal('119.78'), time=datetime.datetime(2021, 3, 31, 4, 0, tzinfo=datetime.timezone.utc), v=32720364),\n",
       " Candle(c=Decimal('123'), figi='BBG000B9XRY4', h=Decimal('124.17'), interval=<CandleResolution.day: 'day'>, l=Decimal('122.19'), o=Decimal('122.45'), time=datetime.datetime(2021, 4, 1, 4, 0, tzinfo=datetime.timezone.utc), v=15733530),\n",
       " Candle(c=Decimal('125.9'), figi='BBG000B9XRY4', h=Decimal('126.31'), interval=<CandleResolution.day: 'day'>, l=Decimal('123'), o=Decimal('123.7'), time=datetime.datetime(2021, 4, 5, 4, 0, tzinfo=datetime.timezone.utc), v=18038195),\n",
       " Candle(c=Decimal('126.21'), figi='BBG000B9XRY4', h=Decimal('127.12'), interval=<CandleResolution.day: 'day'>, l=Decimal('125.02'), o=Decimal('126.22'), time=datetime.datetime(2021, 4, 6, 4, 0, tzinfo=datetime.timezone.utc), v=15780208),\n",
       " Candle(c=Decimal('127.9'), figi='BBG000B9XRY4', h=Decimal('128.24'), interval=<CandleResolution.day: 'day'>, l=Decimal('125.15'), o=Decimal('126.66'), time=datetime.datetime(2021, 4, 7, 4, 0, tzinfo=datetime.timezone.utc), v=16048640),\n",
       " Candle(c=Decimal('130.36'), figi='BBG000B9XRY4', h=Decimal('130.7'), interval=<CandleResolution.day: 'day'>, l=Decimal('127.8'), o=Decimal('129.3'), time=datetime.datetime(2021, 4, 8, 4, 0, tzinfo=datetime.timezone.utc), v=18628434),\n",
       " Candle(c=Decimal('133'), figi='BBG000B9XRY4', h=Decimal('133.01'), interval=<CandleResolution.day: 'day'>, l=Decimal('129.3'), o=Decimal('130.48'), time=datetime.datetime(2021, 4, 9, 4, 0, tzinfo=datetime.timezone.utc), v=21594156),\n",
       " Candle(c=Decimal('131.24'), figi='BBG000B9XRY4', h=Decimal('133'), interval=<CandleResolution.day: 'day'>, l=Decimal('130.64'), o=Decimal('133'), time=datetime.datetime(2021, 4, 12, 4, 0, tzinfo=datetime.timezone.utc), v=20298904),\n",
       " Candle(c=Decimal('134.43'), figi='BBG000B9XRY4', h=Decimal('134.65'), interval=<CandleResolution.day: 'day'>, l=Decimal('130.43'), o=Decimal('131.4'), time=datetime.datetime(2021, 4, 13, 4, 0, tzinfo=datetime.timezone.utc), v=18277726),\n",
       " Candle(c=Decimal('132.03'), figi='BBG000B9XRY4', h=Decimal('135.21'), interval=<CandleResolution.day: 'day'>, l=Decimal('131'), o=Decimal('134.51'), time=datetime.datetime(2021, 4, 14, 4, 0, tzinfo=datetime.timezone.utc), v=18224368),\n",
       " Candle(c=Decimal('134.5'), figi='BBG000B9XRY4', h=Decimal('134.99'), interval=<CandleResolution.day: 'day'>, l=Decimal('132.23'), o=Decimal('132.97'), time=datetime.datetime(2021, 4, 15, 4, 0, tzinfo=datetime.timezone.utc), v=21675664),\n",
       " Candle(c=Decimal('134.16'), figi='BBG000B9XRY4', h=Decimal('134.9'), interval=<CandleResolution.day: 'day'>, l=Decimal('133.7'), o=Decimal('133.7'), time=datetime.datetime(2021, 4, 16, 4, 0, tzinfo=datetime.timezone.utc), v=22761281),\n",
       " Candle(c=Decimal('134.84'), figi='BBG000B9XRY4', h=Decimal('135.46'), interval=<CandleResolution.day: 'day'>, l=Decimal('123.22'), o=Decimal('125.91'), time=datetime.datetime(2021, 4, 19, 4, 0, tzinfo=datetime.timezone.utc), v=16867726),\n",
       " Candle(c=Decimal('133.11'), figi='BBG000B9XRY4', h=Decimal('135.98'), interval=<CandleResolution.day: 'day'>, l=Decimal('131.82'), o=Decimal('135.79'), time=datetime.datetime(2021, 4, 20, 4, 0, tzinfo=datetime.timezone.utc), v=18543327),\n",
       " Candle(c=Decimal('133.5'), figi='BBG000B9XRY4', h=Decimal('133.73'), interval=<CandleResolution.day: 'day'>, l=Decimal('131.31'), o=Decimal('132.02'), time=datetime.datetime(2021, 4, 21, 4, 0, tzinfo=datetime.timezone.utc), v=14794888),\n",
       " Candle(c=Decimal('131.94'), figi='BBG000B9XRY4', h=Decimal('134.14'), interval=<CandleResolution.day: 'day'>, l=Decimal('131.43'), o=Decimal('133.67'), time=datetime.datetime(2021, 4, 22, 4, 0, tzinfo=datetime.timezone.utc), v=16807331),\n",
       " Candle(c=Decimal('134.32'), figi='BBG000B9XRY4', h=Decimal('135.11'), interval=<CandleResolution.day: 'day'>, l=Decimal('131.7'), o=Decimal('131.7'), time=datetime.datetime(2021, 4, 23, 4, 0, tzinfo=datetime.timezone.utc), v=17184137),\n",
       " Candle(c=Decimal('134.72'), figi='BBG000B9XRY4', h=Decimal('135.06'), interval=<CandleResolution.day: 'day'>, l=Decimal('133.3'), o=Decimal('134.64'), time=datetime.datetime(2021, 4, 26, 4, 0, tzinfo=datetime.timezone.utc), v=15517486),\n",
       " Candle(c=Decimal('134.39'), figi='BBG000B9XRY4', h=Decimal('135.74'), interval=<CandleResolution.day: 'day'>, l=Decimal('134.12'), o=Decimal('134.23'), time=datetime.datetime(2021, 4, 27, 4, 0, tzinfo=datetime.timezone.utc), v=14536856),\n",
       " Candle(c=Decimal('133.58'), figi='BBG000B9XRY4', h=Decimal('139.49'), interval=<CandleResolution.day: 'day'>, l=Decimal('133.09'), o=Decimal('135'), time=datetime.datetime(2021, 4, 28, 4, 0, tzinfo=datetime.timezone.utc), v=25173082),\n",
       " Candle(c=Decimal('133.48'), figi='BBG000B9XRY4', h=Decimal('137.96'), interval=<CandleResolution.day: 'day'>, l=Decimal('132.46'), o=Decimal('136.59'), time=datetime.datetime(2021, 4, 29, 4, 0, tzinfo=datetime.timezone.utc), v=27677071),\n",
       " Candle(c=Decimal('131.46'), figi='BBG000B9XRY4', h=Decimal('132.82'), interval=<CandleResolution.day: 'day'>, l=Decimal('131.08'), o=Decimal('132.82'), time=datetime.datetime(2021, 4, 30, 4, 0, tzinfo=datetime.timezone.utc), v=24463406),\n",
       " Candle(c=Decimal('132.54'), figi='BBG000B9XRY4', h=Decimal('134.06'), interval=<CandleResolution.day: 'day'>, l=Decimal('131.22'), o=Decimal('131.5'), time=datetime.datetime(2021, 5, 3, 4, 0, tzinfo=datetime.timezone.utc), v=15997255),\n",
       " Candle(c=Decimal('127.85'), figi='BBG000B9XRY4', h=Decimal('132.8'), interval=<CandleResolution.day: 'day'>, l=Decimal('126.71'), o=Decimal('132.25'), time=datetime.datetime(2021, 5, 4, 4, 0, tzinfo=datetime.timezone.utc), v=30867943),\n",
       " Candle(c=Decimal('128.1'), figi='BBG000B9XRY4', h=Decimal('130.43'), interval=<CandleResolution.day: 'day'>, l=Decimal('127.82'), o=Decimal('128.43'), time=datetime.datetime(2021, 5, 5, 4, 0, tzinfo=datetime.timezone.utc), v=17598896),\n",
       " Candle(c=Decimal('129.74'), figi='BBG000B9XRY4', h=Decimal('130.23'), interval=<CandleResolution.day: 'day'>, l=Decimal('127.14'), o=Decimal('127.98'), time=datetime.datetime(2021, 5, 6, 4, 0, tzinfo=datetime.timezone.utc), v=17856689),\n",
       " Candle(c=Decimal('130.21'), figi='BBG000B9XRY4', h=Decimal('131.97'), interval=<CandleResolution.day: 'day'>, l=Decimal('129.4'), o=Decimal('129.73'), time=datetime.datetime(2021, 5, 7, 4, 0, tzinfo=datetime.timezone.utc), v=17181944),\n",
       " Candle(c=Decimal('126.85'), figi='BBG000B9XRY4', h=Decimal('131.85'), interval=<CandleResolution.day: 'day'>, l=Decimal('126.32'), o=Decimal('131.4'), time=datetime.datetime(2021, 5, 10, 4, 0, tzinfo=datetime.timezone.utc), v=21861232),\n",
       " Candle(c=Decimal('125.91'), figi='BBG000B9XRY4', h=Decimal('126.9'), interval=<CandleResolution.day: 'day'>, l=Decimal('122.8'), o=Decimal('125.69'), time=datetime.datetime(2021, 5, 11, 4, 0, tzinfo=datetime.timezone.utc), v=25346269),\n",
       " Candle(c=Decimal('122.77'), figi='BBG000B9XRY4', h=Decimal('126.07'), interval=<CandleResolution.day: 'day'>, l=Decimal('122.26'), o=Decimal('125.09'), time=datetime.datetime(2021, 5, 12, 4, 0, tzinfo=datetime.timezone.utc), v=27607983),\n",
       " Candle(c=Decimal('124.97'), figi='BBG000B9XRY4', h=Decimal('126.14'), interval=<CandleResolution.day: 'day'>, l=Decimal('121.73'), o=Decimal('122.7'), time=datetime.datetime(2021, 5, 13, 4, 0, tzinfo=datetime.timezone.utc), v=21705190),\n",
       " Candle(c=Decimal('127.45'), figi='BBG000B9XRY4', h=Decimal('127.86'), interval=<CandleResolution.day: 'day'>, l=Decimal('125'), o=Decimal('125'), time=datetime.datetime(2021, 5, 14, 4, 0, tzinfo=datetime.timezone.utc), v=20574910),\n",
       " Candle(c=Decimal('126.27'), figi='BBG000B9XRY4', h=Decimal('128'), interval=<CandleResolution.day: 'day'>, l=Decimal('125.17'), o=Decimal('127.7'), time=datetime.datetime(2021, 5, 17, 4, 0, tzinfo=datetime.timezone.utc), v=16010451),\n",
       " Candle(c=Decimal('124.85'), figi='BBG000B9XRY4', h=Decimal('127.5'), interval=<CandleResolution.day: 'day'>, l=Decimal('124.56'), o=Decimal('126.27'), time=datetime.datetime(2021, 5, 18, 4, 0, tzinfo=datetime.timezone.utc), v=14564334),\n",
       " Candle(c=Decimal('124.69'), figi='BBG000B9XRY4', h=Decimal('125.4'), interval=<CandleResolution.day: 'day'>, l=Decimal('122.86'), o=Decimal('124.73'), time=datetime.datetime(2021, 5, 19, 4, 0, tzinfo=datetime.timezone.utc), v=22036151),\n",
       " Candle(c=Decimal('127.31'), figi='BBG000B9XRY4', h=Decimal('127.71'), interval=<CandleResolution.day: 'day'>, l=Decimal('123.8'), o=Decimal('124.87'), time=datetime.datetime(2021, 5, 20, 4, 0, tzinfo=datetime.timezone.utc), v=16976269),\n",
       " Candle(c=Decimal('125.43'), figi='BBG000B9XRY4', h=Decimal('128.22'), interval=<CandleResolution.day: 'day'>, l=Decimal('125.22'), o=Decimal('127.4'), time=datetime.datetime(2021, 5, 21, 4, 0, tzinfo=datetime.timezone.utc), v=18205854),\n",
       " Candle(c=Decimal('127.1'), figi='BBG000B9XRY4', h=Decimal('127.92'), interval=<CandleResolution.day: 'day'>, l=Decimal('124.51'), o=Decimal('125.99'), time=datetime.datetime(2021, 5, 24, 4, 0, tzinfo=datetime.timezone.utc), v=16139427),\n",
       " Candle(c=Decimal('126.9'), figi='BBG000B9XRY4', h=Decimal('128.4'), interval=<CandleResolution.day: 'day'>, l=Decimal('126.34'), o=Decimal('127.42'), time=datetime.datetime(2021, 5, 25, 4, 0, tzinfo=datetime.timezone.utc), v=13379438),\n",
       " Candle(c=Decimal('126.85'), figi='BBG000B9XRY4', h=Decimal('127.47'), interval=<CandleResolution.day: 'day'>, l=Decimal('126.43'), o=Decimal('126.9'), time=datetime.datetime(2021, 5, 26, 4, 0, tzinfo=datetime.timezone.utc), v=12616228),\n",
       " Candle(c=Decimal('125.28'), figi='BBG000B9XRY4', h=Decimal('127.94'), interval=<CandleResolution.day: 'day'>, l=Decimal('125.28'), o=Decimal('127.64'), time=datetime.datetime(2021, 5, 27, 4, 0, tzinfo=datetime.timezone.utc), v=33231174),\n",
       " Candle(c=Decimal('124.61'), figi='BBG000B9XRY4', h=Decimal('126.2'), interval=<CandleResolution.day: 'day'>, l=Decimal('124.54'), o=Decimal('126.2'), time=datetime.datetime(2021, 5, 28, 4, 0, tzinfo=datetime.timezone.utc), v=18387965),\n",
       " Candle(c=Decimal('124.18'), figi='BBG000B9XRY4', h=Decimal('125.9'), interval=<CandleResolution.day: 'day'>, l=Decimal('123.95'), o=Decimal('124.67'), time=datetime.datetime(2021, 6, 1, 4, 0, tzinfo=datetime.timezone.utc), v=13638556),\n",
       " Candle(c=Decimal('125.01'), figi='BBG000B9XRY4', h=Decimal('125.24'), interval=<CandleResolution.day: 'day'>, l=Decimal('124'), o=Decimal('124'), time=datetime.datetime(2021, 6, 2, 4, 0, tzinfo=datetime.timezone.utc), v=13084096),\n",
       " Candle(c=Decimal('123.55'), figi='BBG000B9XRY4', h=Decimal('125.35'), interval=<CandleResolution.day: 'day'>, l=Decimal('123.13'), o=Decimal('125.32'), time=datetime.datetime(2021, 6, 3, 4, 0, tzinfo=datetime.timezone.utc), v=15553916),\n",
       " Candle(c=Decimal('125.94'), figi='BBG000B9XRY4', h=Decimal('126.16'), interval=<CandleResolution.day: 'day'>, l=Decimal('123.33'), o=Decimal('123.47'), time=datetime.datetime(2021, 6, 4, 4, 0, tzinfo=datetime.timezone.utc), v=17630803),\n",
       " Candle(c=Decimal('125.9'), figi='BBG000B9XRY4', h=Decimal('126.46'), interval=<CandleResolution.day: 'day'>, l=Decimal('124.67'), o=Decimal('125.98'), time=datetime.datetime(2021, 6, 7, 4, 0, tzinfo=datetime.timezone.utc), v=16835082),\n",
       " Candle(c=Decimal('126.7'), figi='BBG000B9XRY4', h=Decimal('128.45'), interval=<CandleResolution.day: 'day'>, l=Decimal('125.65'), o=Decimal('125.65'), time=datetime.datetime(2021, 6, 8, 4, 0, tzinfo=datetime.timezone.utc), v=16979001),\n",
       " Candle(c=Decimal('127.04'), figi='BBG000B9XRY4', h=Decimal('127.7'), interval=<CandleResolution.day: 'day'>, l=Decimal('126.53'), o=Decimal('127.45'), time=datetime.datetime(2021, 6, 9, 4, 0, tzinfo=datetime.timezone.utc), v=15589645),\n",
       " Candle(c=Decimal('126.26'), figi='BBG000B9XRY4', h=Decimal('128.17'), interval=<CandleResolution.day: 'day'>, l=Decimal('125.95'), o=Decimal('126.97'), time=datetime.datetime(2021, 6, 10, 4, 0, tzinfo=datetime.timezone.utc), v=423739),\n",
       " Candle(c=Decimal('127.21'), figi='BBG000B9XRY4', h=Decimal('127.21'), interval=<CandleResolution.day: 'day'>, l=Decimal('126.14'), o=Decimal('126.14'), time=datetime.datetime(2021, 6, 11, 4, 0, tzinfo=datetime.timezone.utc), v=13202179),\n",
       " Candle(c=Decimal('130.34'), figi='BBG000B9XRY4', h=Decimal('130.48'), interval=<CandleResolution.day: 'day'>, l=Decimal('126.89'), o=Decimal('127.3'), time=datetime.datetime(2021, 6, 14, 4, 0, tzinfo=datetime.timezone.utc), v=27986898),\n",
       " Candle(c=Decimal('129.68'), figi='BBG000B9XRY4', h=Decimal('130.93'), interval=<CandleResolution.day: 'day'>, l=Decimal('129.4'), o=Decimal('130.47'), time=datetime.datetime(2021, 6, 15, 4, 0, tzinfo=datetime.timezone.utc), v=15264827),\n",
       " Candle(c=Decimal('129.79'), figi='BBG000B9XRY4', h=Decimal('130.89'), interval=<CandleResolution.day: 'day'>, l=Decimal('128.47'), o=Decimal('129.66'), time=datetime.datetime(2021, 6, 16, 4, 0, tzinfo=datetime.timezone.utc), v=21795655),\n",
       " Candle(c=Decimal('131.79'), figi='BBG000B9XRY4', h=Decimal('132.54'), interval=<CandleResolution.day: 'day'>, l=Decimal('128.8'), o=Decimal('130.2'), time=datetime.datetime(2021, 6, 17, 4, 0, tzinfo=datetime.timezone.utc), v=25107887),\n",
       " Candle(c=Decimal('130.46'), figi='BBG000B9XRY4', h=Decimal('131.71'), interval=<CandleResolution.day: 'day'>, l=Decimal('130.15'), o=Decimal('131.71'), time=datetime.datetime(2021, 6, 18, 4, 0, tzinfo=datetime.timezone.utc), v=41573296),\n",
       " Candle(c=Decimal('132.3'), figi='BBG000B9XRY4', h=Decimal('132.4'), interval=<CandleResolution.day: 'day'>, l=Decimal('129.22'), o=Decimal('130.32'), time=datetime.datetime(2021, 6, 21, 4, 0, tzinfo=datetime.timezone.utc), v=21908244),\n",
       " Candle(c=Decimal('133.98'), figi='BBG000B9XRY4', h=Decimal('134.08'), interval=<CandleResolution.day: 'day'>, l=Decimal('131.32'), o=Decimal('131.97'), time=datetime.datetime(2021, 6, 22, 4, 0, tzinfo=datetime.timezone.utc), v=19159677),\n",
       " Candle(c=Decimal('133.7'), figi='BBG000B9XRY4', h=Decimal('134.52'), interval=<CandleResolution.day: 'day'>, l=Decimal('133.24'), o=Decimal('133.66'), time=datetime.datetime(2021, 6, 23, 4, 0, tzinfo=datetime.timezone.utc), v=11878328),\n",
       " Candle(c=Decimal('133.41'), figi='BBG000B9XRY4', h=Decimal('134.7'), interval=<CandleResolution.day: 'day'>, l=Decimal('132.88'), o=Decimal('133.38'), time=datetime.datetime(2021, 6, 24, 4, 0, tzinfo=datetime.timezone.utc), v=16698144),\n",
       " Candle(c=Decimal('133.11'), figi='BBG000B9XRY4', h=Decimal('133.45'), interval=<CandleResolution.day: 'day'>, l=Decimal('132.68'), o=Decimal('133.45'), time=datetime.datetime(2021, 6, 25, 4, 0, tzinfo=datetime.timezone.utc), v=25277728),\n",
       " Candle(c=Decimal('134.78'), figi='BBG000B9XRY4', h=Decimal('135.24'), interval=<CandleResolution.day: 'day'>, l=Decimal('132.08'), o=Decimal('132.7'), time=datetime.datetime(2021, 6, 28, 4, 0, tzinfo=datetime.timezone.utc), v=16726591),\n",
       " Candle(c=Decimal('136.33'), figi='BBG000B9XRY4', h=Decimal('136.49'), interval=<CandleResolution.day: 'day'>, l=Decimal('134.05'), o=Decimal('134.7'), time=datetime.datetime(2021, 6, 29, 4, 0, tzinfo=datetime.timezone.utc), v=12783834),\n",
       " Candle(c=Decimal('136.96'), figi='BBG000B9XRY4', h=Decimal('137.38'), interval=<CandleResolution.day: 'day'>, l=Decimal('135.55'), o=Decimal('136.18'), time=datetime.datetime(2021, 6, 30, 4, 0, tzinfo=datetime.timezone.utc), v=16831976),\n",
       " Candle(c=Decimal('137.27'), figi='BBG000B9XRY4', h=Decimal('137.5'), interval=<CandleResolution.day: 'day'>, l=Decimal('135.77'), o=Decimal('137.5'), time=datetime.datetime(2021, 7, 1, 4, 0, tzinfo=datetime.timezone.utc), v=11578234),\n",
       " Candle(c=Decimal('139.96'), figi='BBG000B9XRY4', h=Decimal('140.0'), interval=<CandleResolution.day: 'day'>, l=Decimal('137.4'), o=Decimal('137.4'), time=datetime.datetime(2021, 7, 2, 4, 0, tzinfo=datetime.timezone.utc), v=18662072),\n",
       " Candle(c=Decimal('142.02'), figi='BBG000B9XRY4', h=Decimal('143.14'), interval=<CandleResolution.day: 'day'>, l=Decimal('138.63'), o=Decimal('139.2'), time=datetime.datetime(2021, 7, 6, 4, 0, tzinfo=datetime.timezone.utc), v=21159995),\n",
       " Candle(c=Decimal('144.57'), figi='BBG000B9XRY4', h=Decimal('144.88'), interval=<CandleResolution.day: 'day'>, l=Decimal('141.4'), o=Decimal('141.5'), time=datetime.datetime(2021, 7, 7, 4, 0, tzinfo=datetime.timezone.utc), v=20471855),\n",
       " Candle(c=Decimal('143.24'), figi='BBG000B9XRY4', h=Decimal('144.7'), interval=<CandleResolution.day: 'day'>, l=Decimal('136.69'), o=Decimal('144.7'), time=datetime.datetime(2021, 7, 8, 4, 0, tzinfo=datetime.timezone.utc), v=21833641),\n",
       " Candle(c=Decimal('145.11'), figi='BBG000B9XRY4', h=Decimal('145.64'), interval=<CandleResolution.day: 'day'>, l=Decimal('142.61'), o=Decimal('143.64'), time=datetime.datetime(2021, 7, 9, 4, 0, tzinfo=datetime.timezone.utc), v=20272245),\n",
       " Candle(c=Decimal('144.5'), figi='BBG000B9XRY4', h=Decimal('146.3'), interval=<CandleResolution.day: 'day'>, l=Decimal('143.65'), o=Decimal('144.59'), time=datetime.datetime(2021, 7, 12, 4, 0, tzinfo=datetime.timezone.utc), v=16117151),\n",
       " Candle(c=Decimal('145.64'), figi='BBG000B9XRY4', h=Decimal('147.46'), interval=<CandleResolution.day: 'day'>, l=Decimal('143.4'), o=Decimal('144.37'), time=datetime.datetime(2021, 7, 13, 4, 0, tzinfo=datetime.timezone.utc), v=17637821),\n",
       " Candle(c=Decimal('149.15'), figi='BBG000B9XRY4', h=Decimal('149.57'), interval=<CandleResolution.day: 'day'>, l=Decimal('144.85'), o=Decimal('144.85'), time=datetime.datetime(2021, 7, 14, 4, 0, tzinfo=datetime.timezone.utc), v=22951840),\n",
       " Candle(c=Decimal('148.48'), figi='BBG000B9XRY4', h=Decimal('149.99'), interval=<CandleResolution.day: 'day'>, l=Decimal('147.09'), o=Decimal('149.33'), time=datetime.datetime(2021, 7, 15, 4, 0, tzinfo=datetime.timezone.utc), v=18677068),\n",
       " Candle(c=Decimal('146.39'), figi='BBG000B9XRY4', h=Decimal('149.75'), interval=<CandleResolution.day: 'day'>, l=Decimal('145.89'), o=Decimal('148.01'), time=datetime.datetime(2021, 7, 16, 4, 0, tzinfo=datetime.timezone.utc), v=18187277),\n",
       " Candle(c=Decimal('142.45'), figi='BBG000B9XRY4', h=Decimal('146.75'), interval=<CandleResolution.day: 'day'>, l=Decimal('141.69'), o=Decimal('146.01'), time=datetime.datetime(2021, 7, 19, 4, 0, tzinfo=datetime.timezone.utc), v=24969059),\n",
       " Candle(c=Decimal('146.15'), figi='BBG000B9XRY4', h=Decimal('147.09'), interval=<CandleResolution.day: 'day'>, l=Decimal('142.52'), o=Decimal('142.73'), time=datetime.datetime(2021, 7, 20, 4, 0, tzinfo=datetime.timezone.utc), v=23011426),\n",
       " Candle(c=Decimal('145.4'), figi='BBG000B9XRY4', h=Decimal('147'), interval=<CandleResolution.day: 'day'>, l=Decimal('144.65'), o=Decimal('146.05'), time=datetime.datetime(2021, 7, 21, 4, 0, tzinfo=datetime.timezone.utc), v=14799552),\n",
       " Candle(c=Decimal('146.8'), figi='BBG000B9XRY4', h=Decimal('148.19'), interval=<CandleResolution.day: 'day'>, l=Decimal('145.27'), o=Decimal('145.27'), time=datetime.datetime(2021, 7, 22, 4, 0, tzinfo=datetime.timezone.utc), v=12764606),\n",
       " Candle(c=Decimal('148.56'), figi='BBG000B9XRY4', h=Decimal('148.72'), interval=<CandleResolution.day: 'day'>, l=Decimal('146.95'), o=Decimal('147.05'), time=datetime.datetime(2021, 7, 23, 4, 0, tzinfo=datetime.timezone.utc), v=13253530),\n",
       " Candle(c=Decimal('148.99'), figi='BBG000B9XRY4', h=Decimal('149.82'), interval=<CandleResolution.day: 'day'>, l=Decimal('147.46'), o=Decimal('148.2'), time=datetime.datetime(2021, 7, 26, 4, 0, tzinfo=datetime.timezone.utc), v=17173792),\n",
       " Candle(c=Decimal('146.77'), figi='BBG000B9XRY4', h=Decimal('149.5'), interval=<CandleResolution.day: 'day'>, l=Decimal('142.68'), o=Decimal('148.91'), time=datetime.datetime(2021, 7, 27, 4, 0, tzinfo=datetime.timezone.utc), v=22315725),\n",
       " Candle(c=Decimal('144.98'), figi='BBG000B9XRY4', h=Decimal('146.95'), interval=<CandleResolution.day: 'day'>, l=Decimal('142.55'), o=Decimal('144.73'), time=datetime.datetime(2021, 7, 28, 4, 0, tzinfo=datetime.timezone.utc), v=19837044),\n",
       " Candle(c=Decimal('145.64'), figi='BBG000B9XRY4', h=Decimal('146.69'), interval=<CandleResolution.day: 'day'>, l=Decimal('144.3'), o=Decimal('145.76'), time=datetime.datetime(2021, 7, 29, 4, 0, tzinfo=datetime.timezone.utc), v=12366011),\n",
       " Candle(c=Decimal('145.86'), figi='BBG000B9XRY4', h=Decimal('146.33'), interval=<CandleResolution.day: 'day'>, l=Decimal('143.8'), o=Decimal('144.9'), time=datetime.datetime(2021, 7, 30, 4, 0, tzinfo=datetime.timezone.utc), v=16920249),\n",
       " Candle(c=Decimal('145.52'), figi='BBG000B9XRY4', h=Decimal('147.5'), interval=<CandleResolution.day: 'day'>, l=Decimal('145.26'), o=Decimal('145.99'), time=datetime.datetime(2021, 8, 2, 4, 0, tzinfo=datetime.timezone.utc), v=11989092),\n",
       " Candle(c=Decimal('147.36'), figi='BBG000B9XRY4', h=Decimal('148.02'), interval=<CandleResolution.day: 'day'>, l=Decimal('145.19'), o=Decimal('145.35'), time=datetime.datetime(2021, 8, 3, 4, 0, tzinfo=datetime.timezone.utc), v=13121648),\n",
       " Candle(c=Decimal('146.95'), figi='BBG000B9XRY4', h=Decimal('147.78'), interval=<CandleResolution.day: 'day'>, l=Decimal('146.28'), o=Decimal('147.28'), time=datetime.datetime(2021, 8, 4, 4, 0, tzinfo=datetime.timezone.utc), v=12595164),\n",
       " Candle(c=Decimal('147.06'), figi='BBG000B9XRY4', h=Decimal('147.83'), interval=<CandleResolution.day: 'day'>, l=Decimal('146'), o=Decimal('147.1'), time=datetime.datetime(2021, 8, 5, 4, 0, tzinfo=datetime.timezone.utc), v=10357102),\n",
       " Candle(c=Decimal('146.14'), figi='BBG000B9XRY4', h=Decimal('146.77'), interval=<CandleResolution.day: 'day'>, l=Decimal('145.64'), o=Decimal('146.77'), time=datetime.datetime(2021, 8, 6, 4, 0, tzinfo=datetime.timezone.utc), v=13002662),\n",
       " Candle(c=Decimal('146.09'), figi='BBG000B9XRY4', h=Decimal('146.8'), interval=<CandleResolution.day: 'day'>, l=Decimal('144.3'), o=Decimal('146'), time=datetime.datetime(2021, 8, 9, 4, 0, tzinfo=datetime.timezone.utc), v=10567213),\n",
       " Candle(c=Decimal('145.6'), figi='BBG000B9XRY4', h=Decimal('147.71'), interval=<CandleResolution.day: 'day'>, l=Decimal('145.31'), o=Decimal('145.96'), time=datetime.datetime(2021, 8, 10, 4, 0, tzinfo=datetime.timezone.utc), v=16869126),\n",
       " Candle(c=Decimal('145.86'), figi='BBG000B9XRY4', h=Decimal('146.7'), interval=<CandleResolution.day: 'day'>, l=Decimal('145'), o=Decimal('145.98'), time=datetime.datetime(2021, 8, 11, 4, 0, tzinfo=datetime.timezone.utc), v=10201539),\n",
       " Candle(c=Decimal('148.89'), figi='BBG000B9XRY4', h=Decimal('149.05'), interval=<CandleResolution.day: 'day'>, l=Decimal('145.41'), o=Decimal('145.75'), time=datetime.datetime(2021, 8, 12, 4, 0, tzinfo=datetime.timezone.utc), v=16530494),\n",
       " Candle(c=Decimal('149.1'), figi='BBG000B9XRY4', h=Decimal('149.44'), interval=<CandleResolution.day: 'day'>, l=Decimal('148.28'), o=Decimal('148.6'), time=datetime.datetime(2021, 8, 13, 4, 0, tzinfo=datetime.timezone.utc), v=11149910),\n",
       " Candle(c=Decimal('151.12'), figi='BBG000B9XRY4', h=Decimal('151.57'), interval=<CandleResolution.day: 'day'>, l=Decimal('146.47'), o=Decimal('148.8'), time=datetime.datetime(2021, 8, 16, 4, 0, tzinfo=datetime.timezone.utc), v=20268127),\n",
       " Candle(c=Decimal('150.19'), figi='BBG000B9XRY4', h=Decimal('151.67'), interval=<CandleResolution.day: 'day'>, l=Decimal('149.1'), o=Decimal('151.55'), time=datetime.datetime(2021, 8, 17, 4, 0, tzinfo=datetime.timezone.utc), v=18194305),\n",
       " Candle(c=Decimal('146.36'), figi='BBG000B9XRY4', h=Decimal('150.71'), interval=<CandleResolution.day: 'day'>, l=Decimal('145.99'), o=Decimal('150.14'), time=datetime.datetime(2021, 8, 18, 4, 0, tzinfo=datetime.timezone.utc), v=17389663),\n",
       " Candle(c=Decimal('146.7'), figi='BBG000B9XRY4', h=Decimal('148'), interval=<CandleResolution.day: 'day'>, l=Decimal('144.1'), o=Decimal('146.9'), time=datetime.datetime(2021, 8, 19, 4, 0, tzinfo=datetime.timezone.utc), v=15959610),\n",
       " Candle(c=Decimal('148.19'), figi='BBG000B9XRY4', h=Decimal('148.5'), interval=<CandleResolution.day: 'day'>, l=Decimal('145.9'), o=Decimal('146.61'), time=datetime.datetime(2021, 8, 20, 4, 0, tzinfo=datetime.timezone.utc), v=14175299),\n",
       " Candle(c=Decimal('149.71'), figi='BBG000B9XRY4', h=Decimal('150.16'), interval=<CandleResolution.day: 'day'>, l=Decimal('147.9'), o=Decimal('148.4'), time=datetime.datetime(2021, 8, 23, 4, 0, tzinfo=datetime.timezone.utc), v=12243775),\n",
       " Candle(c=Decimal('149.62'), figi='BBG000B9XRY4', h=Decimal('150.85'), interval=<CandleResolution.day: 'day'>, l=Decimal('149.17'), o=Decimal('150.38'), time=datetime.datetime(2021, 8, 24, 4, 0, tzinfo=datetime.timezone.utc), v=9029146),\n",
       " Candle(c=Decimal('148.36'), figi='BBG000B9XRY4', h=Decimal('150.3'), interval=<CandleResolution.day: 'day'>, l=Decimal('147.8'), o=Decimal('149.9'), time=datetime.datetime(2021, 8, 25, 4, 0, tzinfo=datetime.timezone.utc), v=11988265),\n",
       " Candle(c=Decimal('147.54'), figi='BBG000B9XRY4', h=Decimal('149.1'), interval=<CandleResolution.day: 'day'>, l=Decimal('147.5'), o=Decimal('147.91'), time=datetime.datetime(2021, 8, 26, 4, 0, tzinfo=datetime.timezone.utc), v=10152175),\n",
       " Candle(c=Decimal('148.6'), figi='BBG000B9XRY4', h=Decimal('148.6'), interval=<CandleResolution.day: 'day'>, l=Decimal('147.31'), o=Decimal('147.7'), time=datetime.datetime(2021, 8, 27, 4, 0, tzinfo=datetime.timezone.utc), v=13446884),\n",
       " Candle(c=Decimal('153.12'), figi='BBG000B9XRY4', h=Decimal('153.49'), interval=<CandleResolution.day: 'day'>, l=Decimal('148.47'), o=Decimal('148.5'), time=datetime.datetime(2021, 8, 30, 4, 0, tzinfo=datetime.timezone.utc), v=18384368),\n",
       " Candle(c=Decimal('151.83'), figi='BBG000B9XRY4', h=Decimal('153.68'), interval=<CandleResolution.day: 'day'>, l=Decimal('151.29'), o=Decimal('153.4'), time=datetime.datetime(2021, 8, 31, 4, 0, tzinfo=datetime.timezone.utc), v=23828571),\n",
       " Candle(c=Decimal('152.51'), figi='BBG000B9XRY4', h=Decimal('154.97'), interval=<CandleResolution.day: 'day'>, l=Decimal('151.83'), o=Decimal('151.96'), time=datetime.datetime(2021, 9, 1, 4, 0, tzinfo=datetime.timezone.utc), v=17671446),\n",
       " Candle(c=Decimal('153.65'), figi='BBG000B9XRY4', h=Decimal('154.71'), interval=<CandleResolution.day: 'day'>, l=Decimal('152.4'), o=Decimal('152.51'), time=datetime.datetime(2021, 9, 2, 4, 0, tzinfo=datetime.timezone.utc), v=15872959),\n",
       " Candle(c=Decimal('154.3'), figi='BBG000B9XRY4', h=Decimal('154.62'), interval=<CandleResolution.day: 'day'>, l=Decimal('152.76'), o=Decimal('153.5'), time=datetime.datetime(2021, 9, 3, 4, 0, tzinfo=datetime.timezone.utc), v=14168704),\n",
       " Candle(c=Decimal('156.69'), figi='BBG000B9XRY4', h=Decimal('157.26'), interval=<CandleResolution.day: 'day'>, l=Decimal('154'), o=Decimal('154.28'), time=datetime.datetime(2021, 9, 7, 4, 0, tzinfo=datetime.timezone.utc), v=17330049),\n",
       " Candle(c=Decimal('155.11'), figi='BBG000B9XRY4', h=Decimal('157.79'), interval=<CandleResolution.day: 'day'>, l=Decimal('154'), o=Decimal('156.83'), time=datetime.datetime(2021, 9, 8, 4, 0, tzinfo=datetime.timezone.utc), v=15752003),\n",
       " Candle(c=Decimal('154.07'), figi='BBG000B9XRY4', h=Decimal('156.1'), interval=<CandleResolution.day: 'day'>, l=Decimal('153.95'), o=Decimal('155'), time=datetime.datetime(2021, 9, 9, 4, 0, tzinfo=datetime.timezone.utc), v=12263628),\n",
       " Candle(c=Decimal('148.97'), figi='BBG000B9XRY4', h=Decimal('154.91'), interval=<CandleResolution.day: 'day'>, l=Decimal('148.73'), o=Decimal('154.91'), time=datetime.datetime(2021, 9, 10, 4, 0, tzinfo=datetime.timezone.utc), v=27636273),\n",
       " Candle(c=Decimal('149.55'), figi='BBG000B9XRY4', h=Decimal('151.4'), interval=<CandleResolution.day: 'day'>, l=Decimal('148.39'), o=Decimal('149.24'), time=datetime.datetime(2021, 9, 13, 4, 0, tzinfo=datetime.timezone.utc), v=20626421),\n",
       " Candle(c=Decimal('148.12'), figi='BBG000B9XRY4', h=Decimal('151.06'), interval=<CandleResolution.day: 'day'>, l=Decimal('146.91'), o=Decimal('149.84'), time=datetime.datetime(2021, 9, 14, 4, 0, tzinfo=datetime.timezone.utc), v=22388482),\n",
       " Candle(c=Decimal('149.03'), figi='BBG000B9XRY4', h=Decimal('149.43'), interval=<CandleResolution.day: 'day'>, l=Decimal('146.37'), o=Decimal('148.68'), time=datetime.datetime(2021, 9, 15, 4, 0, tzinfo=datetime.timezone.utc), v=18801263),\n",
       " Candle(c=Decimal('148.79'), figi='BBG000B9XRY4', h=Decimal('149.46'), interval=<CandleResolution.day: 'day'>, l=Decimal('147.23'), o=Decimal('148.9'), time=datetime.datetime(2021, 9, 16, 4, 0, tzinfo=datetime.timezone.utc), v=15438785),\n",
       " Candle(c=Decimal('146.06'), figi='BBG000B9XRY4', h=Decimal('149.28'), interval=<CandleResolution.day: 'day'>, l=Decimal('145.65'), o=Decimal('147.9'), time=datetime.datetime(2021, 9, 17, 4, 0, tzinfo=datetime.timezone.utc), v=1822),\n",
       " Candle(c=Decimal('142.94'), figi='BBG000B9XRY4', h=Decimal('145.56'), interval=<CandleResolution.day: 'day'>, l=Decimal('141.28'), o=Decimal('145.41'), time=datetime.datetime(2021, 9, 20, 4, 0, tzinfo=datetime.timezone.utc), v=28959439),\n",
       " Candle(c=Decimal('143.43'), figi='BBG000B9XRY4', h=Decimal('144.92'), interval=<CandleResolution.day: 'day'>, l=Decimal('142.7'), o=Decimal('143.3'), time=datetime.datetime(2021, 9, 21, 4, 0, tzinfo=datetime.timezone.utc), v=16373440),\n",
       " Candle(c=Decimal('145.85'), figi='BBG000B9XRY4', h=Decimal('146.42'), interval=<CandleResolution.day: 'day'>, l=Decimal('143.51'), o=Decimal('144'), time=datetime.datetime(2021, 9, 22, 4, 0, tzinfo=datetime.timezone.utc), v=18130738),\n",
       " Candle(c=Decimal('146.83'), figi='BBG000B9XRY4', h=Decimal('147.75'), interval=<CandleResolution.day: 'day'>, l=Decimal('145.65'), o=Decimal('147.7'), time=datetime.datetime(2021, 9, 23, 4, 0, tzinfo=datetime.timezone.utc), v=15043051),\n",
       " Candle(c=Decimal('146.92'), figi='BBG000B9XRY4', h=Decimal('147.9'), interval=<CandleResolution.day: 'day'>, l=Decimal('145.49'), o=Decimal('147.9'), time=datetime.datetime(2021, 9, 24, 4, 0, tzinfo=datetime.timezone.utc), v=12731262),\n",
       " Candle(c=Decimal('145.37'), figi='BBG000B9XRY4', h=Decimal('147.88'), interval=<CandleResolution.day: 'day'>, l=Decimal('143.84'), o=Decimal('147.03'), time=datetime.datetime(2021, 9, 27, 4, 0, tzinfo=datetime.timezone.utc), v=10649444),\n",
       " Candle(c=Decimal('141.91'), figi='BBG000B9XRY4', h=Decimal('145.94'), interval=<CandleResolution.day: 'day'>, l=Decimal('141.72'), o=Decimal('145.23'), time=datetime.datetime(2021, 9, 28, 4, 0, tzinfo=datetime.timezone.utc), v=29462949),\n",
       " Candle(c=Decimal('142.83'), figi='BBG000B9XRY4', h=Decimal('144.44'), interval=<CandleResolution.day: 'day'>, l=Decimal('142.04'), o=Decimal('142.3'), time=datetime.datetime(2021, 9, 29, 4, 0, tzinfo=datetime.timezone.utc), v=12022414),\n",
       " Candle(c=Decimal('141.5'), figi='BBG000B9XRY4', h=Decimal('144.37'), interval=<CandleResolution.day: 'day'>, l=Decimal('141.34'), o=Decimal('143.4'), time=datetime.datetime(2021, 9, 30, 4, 0, tzinfo=datetime.timezone.utc), v=15176473),\n",
       " Candle(c=Decimal('142.65'), figi='BBG000B9XRY4', h=Decimal('142.88'), interval=<CandleResolution.day: 'day'>, l=Decimal('139.11'), o=Decimal('141.5'), time=datetime.datetime(2021, 10, 1, 4, 0, tzinfo=datetime.timezone.utc), v=13027453),\n",
       " Candle(c=Decimal('139.14'), figi='BBG000B9XRY4', h=Decimal('142.55'), interval=<CandleResolution.day: 'day'>, l=Decimal('138.25'), o=Decimal('142.54'), time=datetime.datetime(2021, 10, 4, 4, 0, tzinfo=datetime.timezone.utc), v=13718220),\n",
       " Candle(c=Decimal('141.11'), figi='BBG000B9XRY4', h=Decimal('142.22'), interval=<CandleResolution.day: 'day'>, l=Decimal('139.27'), o=Decimal('140.53'), time=datetime.datetime(2021, 10, 5, 4, 0, tzinfo=datetime.timezone.utc), v=10576918),\n",
       " Candle(c=Decimal('142'), figi='BBG000B9XRY4', h=Decimal('142.5'), interval=<CandleResolution.day: 'day'>, l=Decimal('138.38'), o=Decimal('141.05'), time=datetime.datetime(2021, 10, 6, 4, 0, tzinfo=datetime.timezone.utc), v=10497923),\n",
       " Candle(c=Decimal('143.29'), figi='BBG000B9XRY4', h=Decimal('143.83'), interval=<CandleResolution.day: 'day'>, l=Decimal('142.4'), o=Decimal('142.4'), time=datetime.datetime(2021, 10, 7, 4, 0, tzinfo=datetime.timezone.utc), v=12899460),\n",
       " Candle(c=Decimal('142.9'), figi='BBG000B9XRY4', h=Decimal('144.31'), interval=<CandleResolution.day: 'day'>, l=Decimal('142.68'), o=Decimal('143.4'), time=datetime.datetime(2021, 10, 8, 4, 0, tzinfo=datetime.timezone.utc), v=12756603),\n",
       " Candle(c=Decimal('142.81'), figi='BBG000B9XRY4', h=Decimal('144.8'), interval=<CandleResolution.day: 'day'>, l=Decimal('141.85'), o=Decimal('142.95'), time=datetime.datetime(2021, 10, 11, 4, 0, tzinfo=datetime.timezone.utc), v=12810387),\n",
       " Candle(c=Decimal('141.51'), figi='BBG000B9XRY4', h=Decimal('143.45'), interval=<CandleResolution.day: 'day'>, l=Decimal('139.55'), o=Decimal('142.4'), time=datetime.datetime(2021, 10, 12, 4, 0, tzinfo=datetime.timezone.utc), v=18204327),\n",
       " Candle(c=Decimal('140.91'), figi='BBG000B9XRY4', h=Decimal('141.17'), interval=<CandleResolution.day: 'day'>, l=Decimal('139.2'), o=Decimal('140.1'), time=datetime.datetime(2021, 10, 13, 4, 0, tzinfo=datetime.timezone.utc), v=17648142),\n",
       " Candle(c=Decimal('143.76'), figi='BBG000B9XRY4', h=Decimal('143.95'), interval=<CandleResolution.day: 'day'>, l=Decimal('141.16'), o=Decimal('141.16'), time=datetime.datetime(2021, 10, 14, 4, 0, tzinfo=datetime.timezone.utc), v=15095608),\n",
       " Candle(c=Decimal('144.84'), figi='BBG000B9XRY4', h=Decimal('144.94'), interval=<CandleResolution.day: 'day'>, l=Decimal('143.52'), o=Decimal('143.74'), time=datetime.datetime(2021, 10, 15, 4, 0, tzinfo=datetime.timezone.utc), v=15664760),\n",
       " Candle(c=Decimal('146.55'), figi='BBG000B9XRY4', h=Decimal('146.85'), interval=<CandleResolution.day: 'day'>, l=Decimal('143.18'), o=Decimal('144.9'), time=datetime.datetime(2021, 10, 18, 4, 0, tzinfo=datetime.timezone.utc), v=18665655),\n",
       " Candle(c=Decimal('148.76'), figi='BBG000B9XRY4', h=Decimal('149.16'), interval=<CandleResolution.day: 'day'>, l=Decimal('146.55'), o=Decimal('146.8'), time=datetime.datetime(2021, 10, 19, 4, 0, tzinfo=datetime.timezone.utc), v=13551258),\n",
       " Candle(c=Decimal('149.26'), figi='BBG000B9XRY4', h=Decimal('149.75'), interval=<CandleResolution.day: 'day'>, l=Decimal('147.9'), o=Decimal('149'), time=datetime.datetime(2021, 10, 20, 4, 0, tzinfo=datetime.timezone.utc), v=12190234),\n",
       " Candle(c=Decimal('149.26'), figi='BBG000B9XRY4', h=Decimal('149.98'), interval=<CandleResolution.day: 'day'>, l=Decimal('147.88'), o=Decimal('149.04'), time=datetime.datetime(2021, 10, 21, 4, 0, tzinfo=datetime.timezone.utc), v=11867751),\n",
       " Candle(c=Decimal('148.69'), figi='BBG000B9XRY4', h=Decimal('150.18'), interval=<CandleResolution.day: 'day'>, l=Decimal('148.69'), o=Decimal('148.71'), time=datetime.datetime(2021, 10, 22, 4, 0, tzinfo=datetime.timezone.utc), v=12502536),\n",
       " Candle(c=Decimal('148.64'), figi='BBG000B9XRY4', h=Decimal('149.67'), interval=<CandleResolution.day: 'day'>, l=Decimal('147.59'), o=Decimal('147.91'), time=datetime.datetime(2021, 10, 25, 4, 0, tzinfo=datetime.timezone.utc), v=11571494),\n",
       " Candle(c=Decimal('149.32'), figi='BBG000B9XRY4', h=Decimal('150.82'), interval=<CandleResolution.day: 'day'>, l=Decimal('148.56'), o=Decimal('148.76'), time=datetime.datetime(2021, 10, 26, 4, 0, tzinfo=datetime.timezone.utc), v=13095901),\n",
       " Candle(c=Decimal('148.85'), figi='BBG000B9XRY4', h=Decimal('149.94'), interval=<CandleResolution.day: 'day'>, l=Decimal('148.49'), o=Decimal('149.55'), time=datetime.datetime(2021, 10, 27, 4, 0, tzinfo=datetime.timezone.utc), v=14172941),\n",
       " Candle(c=Decimal('152.57'), figi='BBG000B9XRY4', h=Decimal('153.15'), interval=<CandleResolution.day: 'day'>, l=Decimal('144.42'), o=Decimal('149.02'), time=datetime.datetime(2021, 10, 28, 4, 0, tzinfo=datetime.timezone.utc), v=22577262),\n",
       " Candle(c=Decimal('149.8'), figi='BBG000B9XRY4', h=Decimal('149.94'), interval=<CandleResolution.day: 'day'>, l=Decimal('146.42'), o=Decimal('148.5'), time=datetime.datetime(2021, 10, 29, 4, 0, tzinfo=datetime.timezone.utc), v=24697252),\n",
       " Candle(c=Decimal('148.96'), figi='BBG000B9XRY4', h=Decimal('149.9'), interval=<CandleResolution.day: 'day'>, l=Decimal('147.82'), o=Decimal('149.9'), time=datetime.datetime(2021, 11, 1, 4, 0, tzinfo=datetime.timezone.utc), v=16623342),\n",
       " Candle(c=Decimal('150.02'), figi='BBG000B9XRY4', h=Decimal('151.56'), interval=<CandleResolution.day: 'day'>, l=Decimal('148.5'), o=Decimal('148.5'), time=datetime.datetime(2021, 11, 2, 4, 0, tzinfo=datetime.timezone.utc), v=16098163),\n",
       " Candle(c=Decimal('151.49'), figi='BBG000B9XRY4', h=Decimal('151.97'), interval=<CandleResolution.day: 'day'>, l=Decimal('149.84'), o=Decimal('150.26'), time=datetime.datetime(2021, 11, 3, 4, 0, tzinfo=datetime.timezone.utc), v=13514665),\n",
       " Candle(c=Decimal('150.96'), figi='BBG000B9XRY4', h=Decimal('152.42'), interval=<CandleResolution.day: 'day'>, l=Decimal('150.64'), o=Decimal('151.5'), time=datetime.datetime(2021, 11, 4, 4, 0, tzinfo=datetime.timezone.utc), v=16809133),\n",
       " Candle(c=Decimal('151.28'), figi='BBG000B9XRY4', h=Decimal('152.18'), interval=<CandleResolution.day: 'day'>, l=Decimal('150.07'), o=Decimal('150.52'), time=datetime.datetime(2021, 11, 5, 4, 0, tzinfo=datetime.timezone.utc), v=16012010),\n",
       " Candle(c=Decimal('150.44'), figi='BBG000B9XRY4', h=Decimal('153'), interval=<CandleResolution.day: 'day'>, l=Decimal('150.19'), o=Decimal('151.58'), time=datetime.datetime(2021, 11, 8, 4, 0, tzinfo=datetime.timezone.utc), v=10063788),\n",
       " Candle(c=Decimal('150.81'), figi='BBG000B9XRY4', h=Decimal('151.42'), interval=<CandleResolution.day: 'day'>, l=Decimal('149.85'), o=Decimal('150.4'), time=datetime.datetime(2021, 11, 9, 4, 0, tzinfo=datetime.timezone.utc), v=14211732),\n",
       " Candle(c=Decimal('147.92'), figi='BBG000B9XRY4', h=Decimal('150.8'), interval=<CandleResolution.day: 'day'>, l=Decimal('147.88'), o=Decimal('150.02'), time=datetime.datetime(2021, 11, 10, 4, 0, tzinfo=datetime.timezone.utc), v=16613235),\n",
       " Candle(c=Decimal('147.87'), figi='BBG000B9XRY4', h=Decimal('149.1'), interval=<CandleResolution.day: 'day'>, l=Decimal('147.68'), o=Decimal('148.1'), time=datetime.datetime(2021, 11, 11, 4, 0, tzinfo=datetime.timezone.utc), v=9715278),\n",
       " Candle(c=Decimal('149.99'), figi='BBG000B9XRY4', h=Decimal('150.24'), interval=<CandleResolution.day: 'day'>, l=Decimal('147.49'), o=Decimal('148.5'), time=datetime.datetime(2021, 11, 12, 4, 0, tzinfo=datetime.timezone.utc), v=12270987),\n",
       " Candle(c=Decimal('150.0'), figi='BBG000B9XRY4', h=Decimal('151.76'), interval=<CandleResolution.day: 'day'>, l=Decimal('150.0'), o=Decimal('150.79'), time=datetime.datetime(2021, 11, 15, 4, 0, tzinfo=datetime.timezone.utc), v=14126392),\n",
       " Candle(c=Decimal('151'), figi='BBG000B9XRY4', h=Decimal('151.2'), interval=<CandleResolution.day: 'day'>, l=Decimal('149.39'), o=Decimal('149.98'), time=datetime.datetime(2021, 11, 16, 4, 0, tzinfo=datetime.timezone.utc), v=15066538),\n",
       " Candle(c=Decimal('153.49'), figi='BBG000B9XRY4', h=Decimal('154.53'), interval=<CandleResolution.day: 'day'>, l=Decimal('150.71'), o=Decimal('151.4'), time=datetime.datetime(2021, 11, 17, 4, 0, tzinfo=datetime.timezone.utc), v=19609291),\n",
       " Candle(c=Decimal('157.87'), figi='BBG000B9XRY4', h=Decimal('158.43'), interval=<CandleResolution.day: 'day'>, l=Decimal('153.06'), o=Decimal('153.38'), time=datetime.datetime(2021, 11, 18, 4, 0, tzinfo=datetime.timezone.utc), v=26510558),\n",
       " Candle(c=Decimal('160.55'), figi='BBG000B9XRY4', h=Decimal('161.01'), interval=<CandleResolution.day: 'day'>, l=Decimal('156.54'), o=Decimal('157.75'), time=datetime.datetime(2021, 11, 19, 4, 0, tzinfo=datetime.timezone.utc), v=25018325),\n",
       " Candle(c=Decimal('161.02'), figi='BBG000B9XRY4', h=Decimal('165.7'), interval=<CandleResolution.day: 'day'>, l=Decimal('160.1'), o=Decimal('160.29'), time=datetime.datetime(2021, 11, 22, 4, 0, tzinfo=datetime.timezone.utc), v=21988812),\n",
       " Candle(c=Decimal('161.41'), figi='BBG000B9XRY4', h=Decimal('161.8'), interval=<CandleResolution.day: 'day'>, l=Decimal('157.83'), o=Decimal('160.6'), time=datetime.datetime(2021, 11, 23, 4, 0, tzinfo=datetime.timezone.utc), v=19195866),\n",
       " Candle(c=Decimal('161.94'), figi='BBG000B9XRY4', h=Decimal('162.3'), interval=<CandleResolution.day: 'day'>, l=Decimal('159.67'), o=Decimal('161.9'), time=datetime.datetime(2021, 11, 24, 4, 0, tzinfo=datetime.timezone.utc), v=13197224),\n",
       " Candle(c=Decimal('156.81'), figi='BBG000B9XRY4', h=Decimal('161.7'), interval=<CandleResolution.day: 'day'>, l=Decimal('156'), o=Decimal('161.7'), time=datetime.datetime(2021, 11, 26, 4, 0, tzinfo=datetime.timezone.utc), v=20157348),\n",
       " Candle(c=Decimal('160.24'), figi='BBG000B9XRY4', h=Decimal('161.18'), interval=<CandleResolution.day: 'day'>, l=Decimal('157.3'), o=Decimal('159'), time=datetime.datetime(2021, 11, 29, 4, 0, tzinfo=datetime.timezone.utc), v=18556136),\n",
       " Candle(c=Decimal('165.3'), figi='BBG000B9XRY4', h=Decimal('166.53'), interval=<CandleResolution.day: 'day'>, l=Decimal('160.49'), o=Decimal('160.49'), time=datetime.datetime(2021, 11, 30, 4, 0, tzinfo=datetime.timezone.utc), v=47568438),\n",
       " Candle(c=Decimal('164.77'), figi='BBG000B9XRY4', h=Decimal('170.29'), interval=<CandleResolution.day: 'day'>, l=Decimal('164.2'), o=Decimal('165.64'), time=datetime.datetime(2021, 12, 1, 4, 0, tzinfo=datetime.timezone.utc), v=30766146),\n",
       " Candle(c=Decimal('163.76'), figi='BBG000B9XRY4', h=Decimal('166.56'), interval=<CandleResolution.day: 'day'>, l=Decimal('157.8'), o=Decimal('166.56'), time=datetime.datetime(2021, 12, 2, 4, 0, tzinfo=datetime.timezone.utc), v=30425416),\n",
       " Candle(c=Decimal('161.84'), figi='BBG000B9XRY4', h=Decimal('165.35'), interval=<CandleResolution.day: 'day'>, l=Decimal('159.74'), o=Decimal('163.1'), time=datetime.datetime(2021, 12, 3, 4, 0, tzinfo=datetime.timezone.utc), v=27492621),\n",
       " Candle(c=Decimal('165.32'), figi='BBG000B9XRY4', h=Decimal('167.87'), interval=<CandleResolution.day: 'day'>, l=Decimal('161.7'), o=Decimal('161.7'), time=datetime.datetime(2021, 12, 6, 4, 0, tzinfo=datetime.timezone.utc), v=26635166),\n",
       " Candle(c=Decimal('170.61'), figi='BBG000B9XRY4', h=Decimal('171.58'), interval=<CandleResolution.day: 'day'>, l=Decimal('165.18'), o=Decimal('166.3'), time=datetime.datetime(2021, 12, 7, 4, 0, tzinfo=datetime.timezone.utc), v=11292511)]"
      ]
     },
     "execution_count": 13,
     "metadata": {},
     "output_type": "execute_result"
    }
   ],
   "source": [
    "data.payload.candles"
   ]
  },
  {
   "cell_type": "code",
   "execution_count": 14,
   "id": "d775397c",
   "metadata": {
    "raw_mimetype": "text/x-python"
   },
   "outputs": [],
   "source": [
    "df = pd.DataFrame(\n",
    "    data=(\n",
    "        (\n",
    "            candle.time,\n",
    "            candle.o,\n",
    "            candle.h,\n",
    "            candle.l,\n",
    "            candle.c,\n",
    "            candle.v,\n",
    "\n",
    "        ) for candle in data.payload.candles\n",
    "    ),\n",
    "    columns=(\n",
    "        'time',\n",
    "        'open',\n",
    "        'high',\n",
    "        'low',\n",
    "        'close',\n",
    "        'volume',\n",
    "    )\n",
    ")"
   ]
  },
  {
   "cell_type": "code",
   "execution_count": 15,
   "id": "7913abb6",
   "metadata": {},
   "outputs": [
    {
     "data": {
      "text/html": [
       "<div>\n",
       "<style scoped>\n",
       "    .dataframe tbody tr th:only-of-type {\n",
       "        vertical-align: middle;\n",
       "    }\n",
       "\n",
       "    .dataframe tbody tr th {\n",
       "        vertical-align: top;\n",
       "    }\n",
       "\n",
       "    .dataframe thead th {\n",
       "        text-align: right;\n",
       "    }\n",
       "</style>\n",
       "<table border=\"1\" class=\"dataframe\">\n",
       "  <thead>\n",
       "    <tr style=\"text-align: right;\">\n",
       "      <th></th>\n",
       "      <th>time</th>\n",
       "      <th>open</th>\n",
       "      <th>high</th>\n",
       "      <th>low</th>\n",
       "      <th>close</th>\n",
       "      <th>volume</th>\n",
       "    </tr>\n",
       "  </thead>\n",
       "  <tbody>\n",
       "    <tr>\n",
       "      <th>247</th>\n",
       "      <td>2021-12-01 04:00:00+00:00</td>\n",
       "      <td>165.64</td>\n",
       "      <td>170.29</td>\n",
       "      <td>164.2</td>\n",
       "      <td>164.77</td>\n",
       "      <td>30766146</td>\n",
       "    </tr>\n",
       "    <tr>\n",
       "      <th>248</th>\n",
       "      <td>2021-12-02 04:00:00+00:00</td>\n",
       "      <td>166.56</td>\n",
       "      <td>166.56</td>\n",
       "      <td>157.8</td>\n",
       "      <td>163.76</td>\n",
       "      <td>30425416</td>\n",
       "    </tr>\n",
       "    <tr>\n",
       "      <th>249</th>\n",
       "      <td>2021-12-03 04:00:00+00:00</td>\n",
       "      <td>163.1</td>\n",
       "      <td>165.35</td>\n",
       "      <td>159.74</td>\n",
       "      <td>161.84</td>\n",
       "      <td>27492621</td>\n",
       "    </tr>\n",
       "    <tr>\n",
       "      <th>250</th>\n",
       "      <td>2021-12-06 04:00:00+00:00</td>\n",
       "      <td>161.7</td>\n",
       "      <td>167.87</td>\n",
       "      <td>161.7</td>\n",
       "      <td>165.32</td>\n",
       "      <td>26635166</td>\n",
       "    </tr>\n",
       "    <tr>\n",
       "      <th>251</th>\n",
       "      <td>2021-12-07 04:00:00+00:00</td>\n",
       "      <td>166.3</td>\n",
       "      <td>171.58</td>\n",
       "      <td>165.18</td>\n",
       "      <td>170.61</td>\n",
       "      <td>11292511</td>\n",
       "    </tr>\n",
       "  </tbody>\n",
       "</table>\n",
       "</div>"
      ],
      "text/plain": [
       "                         time    open    high     low   close    volume\n",
       "247 2021-12-01 04:00:00+00:00  165.64  170.29   164.2  164.77  30766146\n",
       "248 2021-12-02 04:00:00+00:00  166.56  166.56   157.8  163.76  30425416\n",
       "249 2021-12-03 04:00:00+00:00   163.1  165.35  159.74  161.84  27492621\n",
       "250 2021-12-06 04:00:00+00:00   161.7  167.87   161.7  165.32  26635166\n",
       "251 2021-12-07 04:00:00+00:00   166.3  171.58  165.18  170.61  11292511"
      ]
     },
     "execution_count": 15,
     "metadata": {},
     "output_type": "execute_result"
    }
   ],
   "source": [
    "df.tail()"
   ]
  },
  {
   "cell_type": "code",
   "execution_count": 16,
   "id": "f5075e37",
   "metadata": {},
   "outputs": [],
   "source": [
    "#### 2.Save to DB"
   ]
  },
  {
   "cell_type": "code",
   "execution_count": 17,
   "id": "53f4bf34",
   "metadata": {},
   "outputs": [],
   "source": [
    "import psycopg2\n",
    "from io import StringIO\n",
    "import csv"
   ]
  },
  {
   "cell_type": "code",
   "execution_count": 18,
   "id": "5f47f507",
   "metadata": {},
   "outputs": [
    {
     "name": "stdout",
     "output_type": "stream",
     "text": [
      "<class 'pandas.core.frame.DataFrame'>\n",
      "RangeIndex: 252 entries, 0 to 251\n",
      "Data columns (total 6 columns):\n",
      " #   Column  Non-Null Count  Dtype              \n",
      "---  ------  --------------  -----              \n",
      " 0   time    252 non-null    datetime64[ns, UTC]\n",
      " 1   open    252 non-null    object             \n",
      " 2   high    252 non-null    object             \n",
      " 3   low     252 non-null    object             \n",
      " 4   close   252 non-null    object             \n",
      " 5   volume  252 non-null    int64              \n",
      "dtypes: datetime64[ns, UTC](1), int64(1), object(4)\n",
      "memory usage: 11.9+ KB\n"
     ]
    }
   ],
   "source": [
    "df.info()"
   ]
  },
  {
   "cell_type": "code",
   "execution_count": 19,
   "id": "a91117cc",
   "metadata": {},
   "outputs": [],
   "source": [
    "df.loc[:, 'open':'close'] = df.loc[:, 'open':'close'].astype('float16')"
   ]
  },
  {
   "cell_type": "code",
   "execution_count": 20,
   "id": "8a98a606",
   "metadata": {},
   "outputs": [],
   "source": [
    "login = 'trader'\n",
    "password = 'income'\n",
    "host = 'localhost'\n",
    "port = 5432\n",
    "dbname = 'stocks'"
   ]
  },
  {
   "cell_type": "code",
   "execution_count": 21,
   "id": "364f4821",
   "metadata": {},
   "outputs": [],
   "source": [
    "DB_URL = f'user={login} password = {password} host = {host} port = {port} dbname = {dbname}'"
   ]
  },
  {
   "cell_type": "code",
   "execution_count": 22,
   "id": "a34e44a7",
   "metadata": {},
   "outputs": [],
   "source": [
    "def load_df_to_db(df: pd.DataFrame, table_name: str)->None:\n",
    "    buffer = StringIO()\n",
    "    df.to_csv(buffer, index=False, sep='|', na_rep='NUL', quoting=csv.QUOTE_MINIMAL,\n",
    "             header=False, float_format='%.8f', doublequote=False, escapechar='\\\\')\n",
    "    buffer.seek(0)\n",
    "    copy_query = f\"\"\"\n",
    "        COPY {table_name}({','.join(df.columns)})\n",
    "        FROM STDIN\n",
    "        DELIMITER '|'\n",
    "        NULL 'NUL'\n",
    "    \"\"\"\n",
    "    conn = psycopg2.connect(dsn=DB_URL)\n",
    "    with conn.cursor() as cursor:\n",
    "        cursor.copy_expert(copy_query, buffer)\n",
    "    conn.commit()\n",
    "    conn.close()"
   ]
  },
  {
   "cell_type": "code",
   "execution_count": 49,
   "id": "271df4a1",
   "metadata": {},
   "outputs": [],
   "source": [
    "load_df_to_db(df, 'aapl')"
   ]
  },
  {
   "cell_type": "code",
   "execution_count": null,
   "id": "8da45e68",
   "metadata": {},
   "outputs": [],
   "source": []
  }
 ],
 "metadata": {
  "celltoolbar": "Raw Cell Format",
  "kernelspec": {
   "display_name": "Python 3 (ipykernel)",
   "language": "python",
   "name": "python3"
  },
  "language_info": {
   "codemirror_mode": {
    "name": "ipython",
    "version": 3
   },
   "file_extension": ".py",
   "mimetype": "text/x-python",
   "name": "python",
   "nbconvert_exporter": "python",
   "pygments_lexer": "ipython3",
   "version": "3.9.7"
  },
  "nbTranslate": {
   "displayLangs": [
    "ru"
   ],
   "hotkey": "alt-t",
   "langInMainMenu": true,
   "sourceLang": "ru",
   "targetLang": "ru",
   "useGoogleTranslate": true
  }
 },
 "nbformat": 4,
 "nbformat_minor": 5
}
