{
 "cells": [
  {
   "cell_type": "markdown",
   "metadata": {},
   "source": [
    "#### 1. Explore tinkoff api"
   ]
  },
  {
   "cell_type": "code",
   "execution_count": 1,
   "metadata": {},
   "outputs": [
    {
     "name": "stdout",
     "output_type": "stream",
     "text": [
      "airflow.cfg  Dockerfile     plugins\t unittests.cfg\r\n",
      "dags\t     entrypoint.sh  tinkoff.cfg  webserver_config.py\r\n"
     ]
    }
   ],
   "source": [
    "!ls ../airflow/"
   ]
  },
  {
   "cell_type": "code",
   "execution_count": 2,
   "metadata": {},
   "outputs": [],
   "source": [
    "import tinvest\n",
    "import pandas as pd\n",
    "from configparser import ConfigParser\n",
    "from datetime import datetime, timedelta"
   ]
  },
  {
   "cell_type": "code",
   "execution_count": 3,
   "metadata": {},
   "outputs": [],
   "source": [
    "config_parser = ConfigParser()"
   ]
  },
  {
   "cell_type": "code",
   "execution_count": 4,
   "metadata": {},
   "outputs": [
    {
     "data": {
      "text/plain": [
       "['../airflow/tinkoff.cfg']"
      ]
     },
     "execution_count": 4,
     "metadata": {},
     "output_type": "execute_result"
    }
   ],
   "source": [
    "config_parser.read('../airflow/tinkoff.cfg')"
   ]
  },
  {
   "cell_type": "code",
   "execution_count": 5,
   "metadata": {},
   "outputs": [],
   "source": [
    "token = config_parser.get('core', 'TOKEN_TINKOFF')"
   ]
  },
  {
   "cell_type": "code",
   "execution_count": 8,
   "metadata": {},
   "outputs": [],
   "source": [
    "client = tinvest.SyncClient(token, use_sandbox=True)"
   ]
  },
  {
   "cell_type": "code",
   "execution_count": 9,
   "metadata": {},
   "outputs": [
    {
     "data": {
      "text/plain": [
       "PortfolioResponse(payload=Portfolio(positions=[PortfolioPosition(name='Apple', average_position_price=None, average_position_price_no_nkd=None, balance=Decimal('73'), blocked=Decimal('0'), expected_yield=None, figi='BBG000B9XRY4', instrument_type=<InstrumentType.stock: 'Stock'>, isin='US0378331005', lots=73, ticker='AAPL'), PortfolioPosition(name='Доллар США', average_position_price=None, average_position_price_no_nkd=None, balance=Decimal('86068.86'), blocked=Decimal('0'), expected_yield=None, figi='BBG0013HGFT4', instrument_type=<InstrumentType.currency: 'Currency'>, isin=None, lots=86, ticker='USD000UTSTOM')]), status='Ok', tracking_id='880010526b71ee48')"
      ]
     },
     "execution_count": 9,
     "metadata": {},
     "output_type": "execute_result"
    }
   ],
   "source": [
    "client.get_portfolio()"
   ]
  },
  {
   "cell_type": "code",
   "execution_count": null,
   "metadata": {},
   "outputs": [],
   "source": [
    "client.post_orders_limit_order(\n",
    "        figi=figi,\n",
    "        body=tinvest.schemas.LimitOrderRequest(\n",
    "            lots=lots,\n",
    "            operation=tinvest.schemas.OperationType(value=op_type),\n",
    "            price=price\n",
    "        )\n",
    "    )"
   ]
  },
  {
   "cell_type": "code",
   "execution_count": 7,
   "metadata": {},
   "outputs": [
    {
     "data": {
      "text/plain": [
       "Empty(payload={}, status='Ok', tracking_id='f0135ae974bbe225')"
      ]
     },
     "execution_count": 7,
     "metadata": {},
     "output_type": "execute_result"
    }
   ],
   "source": [
    "client.clear_sandbox_account()"
   ]
  },
  {
   "cell_type": "code",
   "execution_count": 8,
   "metadata": {},
   "outputs": [
    {
     "data": {
      "text/plain": [
       "PortfolioCurrenciesResponse(payload=Currencies(currencies=[CurrencyPosition(balance=Decimal('0'), blocked=None, currency=<Currency.eur: 'EUR'>), CurrencyPosition(balance=Decimal('0'), blocked=None, currency=<Currency.rub: 'RUB'>), CurrencyPosition(balance=Decimal('0'), blocked=None, currency=<Currency.usd: 'USD'>)]), status='Ok', tracking_id='d9e2e2396e77a937')"
      ]
     },
     "execution_count": 8,
     "metadata": {},
     "output_type": "execute_result"
    }
   ],
   "source": [
    "client.get_portfolio_currencies()"
   ]
  },
  {
   "cell_type": "code",
   "execution_count": 9,
   "metadata": {},
   "outputs": [
    {
     "data": {
      "text/plain": [
       "Empty(payload={}, status='Ok', tracking_id='2589a528e6858282')"
      ]
     },
     "execution_count": 9,
     "metadata": {},
     "output_type": "execute_result"
    }
   ],
   "source": [
    "client.set_sandbox_currencies_balance(\n",
    "    tinvest.schemas.SandboxSetCurrencyBalanceRequest(\n",
    "        balance=100000,\n",
    "        currency=tinvest.schemas.SandboxCurrency('USD')\n",
    "    )\n",
    ")"
   ]
  },
  {
   "cell_type": "code",
   "execution_count": 10,
   "metadata": {},
   "outputs": [],
   "source": [
    "aapl = client.get_market_search_by_ticker('AAPL')"
   ]
  },
  {
   "cell_type": "code",
   "execution_count": 11,
   "metadata": {},
   "outputs": [],
   "source": [
    "aapl_figi = aapl.payload.instruments[0].figi"
   ]
  },
  {
   "cell_type": "code",
   "execution_count": 12,
   "metadata": {},
   "outputs": [],
   "source": [
    "data = client.get_market_candles(\n",
    "    aapl_figi,\n",
    "    datetime.now() - timedelta(days=365),\n",
    "    datetime.now(),\n",
    "    tinvest.schemas.CandleResolution.day,\n",
    ")"
   ]
  },
  {
   "cell_type": "code",
   "execution_count": 26,
   "metadata": {},
   "outputs": [
    {
     "data": {
      "text/plain": [
       "[Candle(c=Decimal('81.8'), figi='BBG000B9XRY4', h=Decimal('81.8375'), interval=<CandleResolution.day: 'day'>, l=Decimal('79.96'), o=Decimal('79.96'), time=datetime.datetime(2020, 2, 12, 7, 0, tzinfo=datetime.timezone.utc), v=30336764),\n",
       " Candle(c=Decimal('81.2175'), figi='BBG000B9XRY4', h=Decimal('81.865'), interval=<CandleResolution.day: 'day'>, l=Decimal('80.255'), o=Decimal('81.1375'), time=datetime.datetime(2020, 2, 13, 7, 0, tzinfo=datetime.timezone.utc), v=23174296),\n",
       " Candle(c=Decimal('81.2375'), figi='BBG000B9XRY4', h=Decimal('81.6125'), interval=<CandleResolution.day: 'day'>, l=Decimal('80.725'), o=Decimal('81.3475'), time=datetime.datetime(2020, 2, 14, 7, 0, tzinfo=datetime.timezone.utc), v=22025920),\n",
       " Candle(c=Decimal('79.75'), figi='BBG000B9XRY4', h=Decimal('80.755'), interval=<CandleResolution.day: 'day'>, l=Decimal('77.6'), o=Decimal('80.5125'), time=datetime.datetime(2020, 2, 18, 7, 0, tzinfo=datetime.timezone.utc), v=38141376),\n",
       " Candle(c=Decimal('80.905'), figi='BBG000B9XRY4', h=Decimal('81.1375'), interval=<CandleResolution.day: 'day'>, l=Decimal('79.6725'), o=Decimal('80.01'), time=datetime.datetime(2020, 2, 19, 7, 0, tzinfo=datetime.timezone.utc), v=28958280),\n",
       " Candle(c=Decimal('80.075'), figi='BBG000B9XRY4', h=Decimal('81.25'), interval=<CandleResolution.day: 'day'>, l=Decimal('79.5'), o=Decimal('81.21'), time=datetime.datetime(2020, 2, 20, 7, 0, tzinfo=datetime.timezone.utc), v=25971548),\n",
       " Candle(c=Decimal('78.2625'), figi='BBG000B9XRY4', h=Decimal('80.0975'), interval=<CandleResolution.day: 'day'>, l=Decimal('77.625'), o=Decimal('79.51'), time=datetime.datetime(2020, 2, 21, 7, 0, tzinfo=datetime.timezone.utc), v=41238888),\n",
       " Candle(c=Decimal('74.545'), figi='BBG000B9XRY4', h=Decimal('77.2675'), interval=<CandleResolution.day: 'day'>, l=Decimal('72.3075'), o=Decimal('76.75'), time=datetime.datetime(2020, 2, 24, 7, 0, tzinfo=datetime.timezone.utc), v=74369592),\n",
       " Candle(c=Decimal('71.9'), figi='BBG000B9XRY4', h=Decimal('75.875'), interval=<CandleResolution.day: 'day'>, l=Decimal('71.5625'), o=Decimal('75.75'), time=datetime.datetime(2020, 2, 25, 7, 0, tzinfo=datetime.timezone.utc), v=70285324),\n",
       " Candle(c=Decimal('73.1625'), figi='BBG000B9XRY4', h=Decimal('74.465'), interval=<CandleResolution.day: 'day'>, l=Decimal('69.79'), o=Decimal('72.0075'), time=datetime.datetime(2020, 2, 26, 7, 0, tzinfo=datetime.timezone.utc), v=54121428),\n",
       " Candle(c=Decimal('68.38'), figi='BBG000B9XRY4', h=Decimal('72.9625'), interval=<CandleResolution.day: 'day'>, l=Decimal('67.4325'), o=Decimal('71.25'), time=datetime.datetime(2020, 2, 27, 7, 0, tzinfo=datetime.timezone.utc), v=92932060),\n",
       " Candle(c=Decimal('68.34'), figi='BBG000B9XRY4', h=Decimal('69.6'), interval=<CandleResolution.day: 'day'>, l=Decimal('62.9975'), o=Decimal('67'), time=datetime.datetime(2020, 2, 28, 7, 0, tzinfo=datetime.timezone.utc), v=125341444),\n",
       " Candle(c=Decimal('74.7025'), figi='BBG000B9XRY4', h=Decimal('74.725'), interval=<CandleResolution.day: 'day'>, l=Decimal('68.5425'), o=Decimal('70.4'), time=datetime.datetime(2020, 3, 2, 7, 0, tzinfo=datetime.timezone.utc), v=89330084),\n",
       " Candle(c=Decimal('72.33'), figi='BBG000B9XRY4', h=Decimal('76.2125'), interval=<CandleResolution.day: 'day'>, l=Decimal('71.45'), o=Decimal('73.1175'), time=datetime.datetime(2020, 3, 3, 7, 0, tzinfo=datetime.timezone.utc), v=87018616),\n",
       " Candle(c=Decimal('75.685'), figi='BBG000B9XRY4', h=Decimal('75.75'), interval=<CandleResolution.day: 'day'>, l=Decimal('72.5'), o=Decimal('73.25'), time=datetime.datetime(2020, 3, 4, 7, 0, tzinfo=datetime.timezone.utc), v=63759968),\n",
       " Candle(c=Decimal('73.23'), figi='BBG000B9XRY4', h=Decimal('75.225'), interval=<CandleResolution.day: 'day'>, l=Decimal('72.8725'), o=Decimal('74'), time=datetime.datetime(2020, 3, 5, 7, 0, tzinfo=datetime.timezone.utc), v=50610744),\n",
       " Candle(c=Decimal('72.2575'), figi='BBG000B9XRY4', h=Decimal('72.9025'), interval=<CandleResolution.day: 'day'>, l=Decimal('70.055'), o=Decimal('72'), time=datetime.datetime(2020, 3, 6, 7, 0, tzinfo=datetime.timezone.utc), v=65410576),\n",
       " Candle(c=Decimal('66.5425'), figi='BBG000B9XRY4', h=Decimal('70.425'), interval=<CandleResolution.day: 'day'>, l=Decimal('65.1'), o=Decimal('70.425'), time=datetime.datetime(2020, 3, 9, 7, 0, tzinfo=datetime.timezone.utc), v=80710976),\n",
       " Candle(c=Decimal('71.335'), figi='BBG000B9XRY4', h=Decimal('71.38'), interval=<CandleResolution.day: 'day'>, l=Decimal('66.825'), o=Decimal('66.825'), time=datetime.datetime(2020, 3, 10, 7, 0, tzinfo=datetime.timezone.utc), v=78975148),\n",
       " Candle(c=Decimal('68.8575'), figi='BBG000B9XRY4', h=Decimal('70.2875'), interval=<CandleResolution.day: 'day'>, l=Decimal('68.055'), o=Decimal('69.75'), time=datetime.datetime(2020, 3, 11, 7, 0, tzinfo=datetime.timezone.utc), v=64256432),\n",
       " Candle(c=Decimal('62.0575'), figi='BBG000B9XRY4', h=Decimal('68.25'), interval=<CandleResolution.day: 'day'>, l=Decimal('59.415'), o=Decimal('68'), time=datetime.datetime(2020, 3, 12, 7, 0, tzinfo=datetime.timezone.utc), v=120903688),\n",
       " Candle(c=Decimal('69.4925'), figi='BBG000B9XRY4', h=Decimal('69.57'), interval=<CandleResolution.day: 'day'>, l=Decimal('61.25'), o=Decimal('61.75'), time=datetime.datetime(2020, 3, 13, 7, 0, tzinfo=datetime.timezone.utc), v=98590692),\n",
       " Candle(c=Decimal('60.5525'), figi='BBG000B9XRY4', h=Decimal('66.925'), interval=<CandleResolution.day: 'day'>, l=Decimal('59.6625'), o=Decimal('65'), time=datetime.datetime(2020, 3, 16, 7, 0, tzinfo=datetime.timezone.utc), v=109980120),\n",
       " Candle(c=Decimal('63.215'), figi='BBG000B9XRY4', h=Decimal('64.6875'), interval=<CandleResolution.day: 'day'>, l=Decimal('59.6125'), o=Decimal('64.45'), time=datetime.datetime(2020, 3, 17, 7, 0, tzinfo=datetime.timezone.utc), v=92387420),\n",
       " Candle(c=Decimal('61.6675'), figi='BBG000B9XRY4', h=Decimal('62.465'), interval=<CandleResolution.day: 'day'>, l=Decimal('59.035'), o=Decimal('59.66'), time=datetime.datetime(2020, 3, 18, 7, 0, tzinfo=datetime.timezone.utc), v=90301264),\n",
       " Candle(c=Decimal('61.195'), figi='BBG000B9XRY4', h=Decimal('63.165'), interval=<CandleResolution.day: 'day'>, l=Decimal('59.895'), o=Decimal('62.125'), time=datetime.datetime(2020, 3, 19, 7, 0, tzinfo=datetime.timezone.utc), v=81431492),\n",
       " Candle(c=Decimal('57.31'), figi='BBG000B9XRY4', h=Decimal('64.64'), interval=<CandleResolution.day: 'day'>, l=Decimal('57.01'), o=Decimal('62.5'), time=datetime.datetime(2020, 3, 20, 7, 0, tzinfo=datetime.timezone.utc), v=168195796),\n",
       " Candle(c=Decimal('56.0925'), figi='BBG000B9XRY4', h=Decimal('59.515'), interval=<CandleResolution.day: 'day'>, l=Decimal('53.1825'), o=Decimal('55.5'), time=datetime.datetime(2020, 3, 23, 7, 0, tzinfo=datetime.timezone.utc), v=89579268),\n",
       " Candle(c=Decimal('61.72'), figi='BBG000B9XRY4', h=Decimal('62.25'), interval=<CandleResolution.day: 'day'>, l=Decimal('57.75'), o=Decimal('59.505'), time=datetime.datetime(2020, 3, 24, 7, 0, tzinfo=datetime.timezone.utc), v=91232948),\n",
       " Candle(c=Decimal('61.38'), figi='BBG000B9XRY4', h=Decimal('65'), interval=<CandleResolution.day: 'day'>, l=Decimal('60.0'), o=Decimal('61'), time=datetime.datetime(2020, 3, 25, 7, 0, tzinfo=datetime.timezone.utc), v=85060492),\n",
       " Candle(c=Decimal('64.61'), figi='BBG000B9XRY4', h=Decimal('64.625'), interval=<CandleResolution.day: 'day'>, l=Decimal('60.125'), o=Decimal('63.725'), time=datetime.datetime(2020, 3, 26, 7, 0, tzinfo=datetime.timezone.utc), v=73282756),\n",
       " Candle(c=Decimal('61.935'), figi='BBG000B9XRY4', h=Decimal('63.965'), interval=<CandleResolution.day: 'day'>, l=Decimal('61.7775'), o=Decimal('63.75'), time=datetime.datetime(2020, 3, 27, 7, 0, tzinfo=datetime.timezone.utc), v=59132156),\n",
       " Candle(c=Decimal('63.7025'), figi='BBG000B9XRY4', h=Decimal('63.7975'), interval=<CandleResolution.day: 'day'>, l=Decimal('61.425'), o=Decimal('62.1475'), time=datetime.datetime(2020, 3, 30, 7, 0, tzinfo=datetime.timezone.utc), v=45720096),\n",
       " Candle(c=Decimal('63.5725'), figi='BBG000B9XRY4', h=Decimal('65.625'), interval=<CandleResolution.day: 'day'>, l=Decimal('62.9025'), o=Decimal('63.795'), time=datetime.datetime(2020, 3, 31, 7, 0, tzinfo=datetime.timezone.utc), v=54911276),\n",
       " Candle(c=Decimal('60.2275'), figi='BBG000B9XRY4', h=Decimal('62.5'), interval=<CandleResolution.day: 'day'>, l=Decimal('59.7925'), o=Decimal('62.0025'), time=datetime.datetime(2020, 4, 1, 7, 0, tzinfo=datetime.timezone.utc), v=49967228),\n",
       " Candle(c=Decimal('61.2325'), figi='BBG000B9XRY4', h=Decimal('61.585'), interval=<CandleResolution.day: 'day'>, l=Decimal('59.2425'), o=Decimal('61.025'), time=datetime.datetime(2020, 4, 2, 7, 0, tzinfo=datetime.timezone.utc), v=43668032),\n",
       " Candle(c=Decimal('60.3525'), figi='BBG000B9XRY4', h=Decimal('61.425'), interval=<CandleResolution.day: 'day'>, l=Decimal('59.75'), o=Decimal('60.82'), time=datetime.datetime(2020, 4, 3, 7, 0, tzinfo=datetime.timezone.utc), v=33739684),\n",
       " Candle(c=Decimal('65.6175'), figi='BBG000B9XRY4', h=Decimal('65.7675'), interval=<CandleResolution.day: 'day'>, l=Decimal('60.875'), o=Decimal('62.7725'), time=datetime.datetime(2020, 4, 6, 7, 0, tzinfo=datetime.timezone.utc), v=68347260),\n",
       " Candle(c=Decimal('64.8575'), figi='BBG000B9XRY4', h=Decimal('69.195'), interval=<CandleResolution.day: 'day'>, l=Decimal('64.41'), o=Decimal('66.815'), time=datetime.datetime(2020, 4, 7, 7, 0, tzinfo=datetime.timezone.utc), v=48000720),\n",
       " Candle(c=Decimal('66.5175'), figi='BBG000B9XRY4', h=Decimal('66.8'), interval=<CandleResolution.day: 'day'>, l=Decimal('64.3'), o=Decimal('65.045'), time=datetime.datetime(2020, 4, 8, 7, 0, tzinfo=datetime.timezone.utc), v=46696776),\n",
       " Candle(c=Decimal('67.15'), figi='BBG000B9XRY4', h=Decimal('67.75'), interval=<CandleResolution.day: 'day'>, l=Decimal('65.64'), o=Decimal('66.835'), time=datetime.datetime(2020, 4, 9, 7, 0, tzinfo=datetime.timezone.utc), v=40816192),\n",
       " Candle(c=Decimal('68.3125'), figi='BBG000B9XRY4', h=Decimal('68.55'), interval=<CandleResolution.day: 'day'>, l=Decimal('66.25'), o=Decimal('67.6075'), time=datetime.datetime(2020, 4, 13, 7, 0, tzinfo=datetime.timezone.utc), v=34590856),\n",
       " Candle(c=Decimal('71.7625'), figi='BBG000B9XRY4', h=Decimal('72.075'), interval=<CandleResolution.day: 'day'>, l=Decimal('68.71'), o=Decimal('69.5'), time=datetime.datetime(2020, 4, 14, 7, 0, tzinfo=datetime.timezone.utc), v=51453748),\n",
       " Candle(c=Decimal('71.1075'), figi='BBG000B9XRY4', h=Decimal('72.0425'), interval=<CandleResolution.day: 'day'>, l=Decimal('69.835'), o=Decimal('72.0425'), time=datetime.datetime(2020, 4, 15, 7, 0, tzinfo=datetime.timezone.utc), v=30594924),\n",
       " Candle(c=Decimal('71.6725'), figi='BBG000B9XRY4', h=Decimal('73.675'), interval=<CandleResolution.day: 'day'>, l=Decimal('70.62'), o=Decimal('72.1325'), time=datetime.datetime(2020, 4, 16, 7, 0, tzinfo=datetime.timezone.utc), v=37474476),\n",
       " Candle(c=Decimal('70.7'), figi='BBG000B9XRY4', h=Decimal('73.055'), interval=<CandleResolution.day: 'day'>, l=Decimal('69.225'), o=Decimal('72.525'), time=datetime.datetime(2020, 4, 17, 7, 0, tzinfo=datetime.timezone.utc), v=56292280),\n",
       " Candle(c=Decimal('69.2325'), figi='BBG000B9XRY4', h=Decimal('70.585'), interval=<CandleResolution.day: 'day'>, l=Decimal('69.025'), o=Decimal('70.585'), time=datetime.datetime(2020, 4, 20, 7, 0, tzinfo=datetime.timezone.utc), v=35364400),\n",
       " Candle(c=Decimal('67.0925'), figi='BBG000B9XRY4', h=Decimal('69.6475'), interval=<CandleResolution.day: 'day'>, l=Decimal('66.3725'), o=Decimal('68.545'), time=datetime.datetime(2020, 4, 21, 7, 0, tzinfo=datetime.timezone.utc), v=52636892),\n",
       " Candle(c=Decimal('69.025'), figi='BBG000B9XRY4', h=Decimal('69.415'), interval=<CandleResolution.day: 'day'>, l=Decimal('67.8375'), o=Decimal('68.015'), time=datetime.datetime(2020, 4, 22, 7, 0, tzinfo=datetime.timezone.utc), v=31162812),\n",
       " Candle(c=Decimal('68.7575'), figi='BBG000B9XRY4', h=Decimal('70.43'), interval=<CandleResolution.day: 'day'>, l=Decimal('68.2775'), o=Decimal('68.8225'), time=datetime.datetime(2020, 4, 23, 7, 0, tzinfo=datetime.timezone.utc), v=35275208),\n",
       " Candle(c=Decimal('70.7425'), figi='BBG000B9XRY4', h=Decimal('70.7475'), interval=<CandleResolution.day: 'day'>, l=Decimal('67.58'), o=Decimal('67.995'), time=datetime.datetime(2020, 4, 24, 7, 0, tzinfo=datetime.timezone.utc), v=33874508),\n",
       " Candle(c=Decimal('70.7925'), figi='BBG000B9XRY4', h=Decimal('71.695'), interval=<CandleResolution.day: 'day'>, l=Decimal('70.0'), o=Decimal('70.75'), time=datetime.datetime(2020, 4, 27, 7, 0, tzinfo=datetime.timezone.utc), v=28563044),\n",
       " Candle(c=Decimal('69.645'), figi='BBG000B9XRY4', h=Decimal('71.65'), interval=<CandleResolution.day: 'day'>, l=Decimal('69.59'), o=Decimal('70.7075'), time=datetime.datetime(2020, 4, 28, 7, 0, tzinfo=datetime.timezone.utc), v=29381596),\n",
       " Candle(c=Decimal('71.9325'), figi='BBG000B9XRY4', h=Decimal('73.1125'), interval=<CandleResolution.day: 'day'>, l=Decimal('70.0'), o=Decimal('70.8'), time=datetime.datetime(2020, 4, 29, 7, 0, tzinfo=datetime.timezone.utc), v=35106260),\n",
       " Candle(c=Decimal('73.45'), figi='BBG000B9XRY4', h=Decimal('75.3625'), interval=<CandleResolution.day: 'day'>, l=Decimal('71.2'), o=Decimal('73.07'), time=datetime.datetime(2020, 4, 30, 7, 0, tzinfo=datetime.timezone.utc), v=55454416),\n",
       " Candle(c=Decimal('72.2675'), figi='BBG000B9XRY4', h=Decimal('74.7475'), interval=<CandleResolution.day: 'day'>, l=Decimal('70.0'), o=Decimal('72'), time=datetime.datetime(2020, 5, 1, 7, 0, tzinfo=datetime.timezone.utc), v=52608380),\n",
       " Candle(c=Decimal('73.29'), figi='BBG000B9XRY4', h=Decimal('73.415'), interval=<CandleResolution.day: 'day'>, l=Decimal('71.4075'), o=Decimal('72.3025'), time=datetime.datetime(2020, 5, 4, 7, 0, tzinfo=datetime.timezone.utc), v=34606848),\n",
       " Candle(c=Decimal('74.39'), figi='BBG000B9XRY4', h=Decimal('75.2475'), interval=<CandleResolution.day: 'day'>, l=Decimal('72.505'), o=Decimal('73.58'), time=datetime.datetime(2020, 5, 5, 7, 0, tzinfo=datetime.timezone.utc), v=37746584),\n",
       " Candle(c=Decimal('75.1575'), figi='BBG000B9XRY4', h=Decimal('75.8075'), interval=<CandleResolution.day: 'day'>, l=Decimal('74.5'), o=Decimal('75.4425'), time=datetime.datetime(2020, 5, 6, 7, 0, tzinfo=datetime.timezone.utc), v=33943792),\n",
       " Candle(c=Decimal('75.935'), figi='BBG000B9XRY4', h=Decimal('76.29'), interval=<CandleResolution.day: 'day'>, l=Decimal('75.4775'), o=Decimal('75.6875'), time=datetime.datetime(2020, 5, 7, 7, 0, tzinfo=datetime.timezone.utc), v=31046100),\n",
       " Candle(c=Decimal('77.5325'), figi='BBG000B9XRY4', h=Decimal('77.635'), interval=<CandleResolution.day: 'day'>, l=Decimal('76.075'), o=Decimal('76.525'), time=datetime.datetime(2020, 5, 8, 7, 0, tzinfo=datetime.timezone.utc), v=35829564),\n",
       " Candle(c=Decimal('78.7525'), figi='BBG000B9XRY4', h=Decimal('79.2525'), interval=<CandleResolution.day: 'day'>, l=Decimal('76.7625'), o=Decimal('77.6025'), time=datetime.datetime(2020, 5, 11, 7, 0, tzinfo=datetime.timezone.utc), v=30821568),\n",
       " Candle(c=Decimal('77.8525'), figi='BBG000B9XRY4', h=Decimal('79.9175'), interval=<CandleResolution.day: 'day'>, l=Decimal('77.155'), o=Decimal('78.015'), time=datetime.datetime(2020, 5, 12, 7, 0, tzinfo=datetime.timezone.utc), v=40538480),\n",
       " Candle(c=Decimal('76.9125'), figi='BBG000B9XRY4', h=Decimal('78.98'), interval=<CandleResolution.day: 'day'>, l=Decimal('75.825'), o=Decimal('77.955'), time=datetime.datetime(2020, 5, 13, 7, 0, tzinfo=datetime.timezone.utc), v=44760400),\n",
       " Candle(c=Decimal('77.385'), figi='BBG000B9XRY4', h=Decimal('77.5625'), interval=<CandleResolution.day: 'day'>, l=Decimal('75.3925'), o=Decimal('76.425'), time=datetime.datetime(2020, 5, 14, 7, 0, tzinfo=datetime.timezone.utc), v=41813992),\n",
       " Candle(c=Decimal('76.9275'), figi='BBG000B9XRY4', h=Decimal('77.9375'), interval=<CandleResolution.day: 'day'>, l=Decimal('74.5'), o=Decimal('77.435'), time=datetime.datetime(2020, 5, 15, 7, 0, tzinfo=datetime.timezone.utc), v=38628512),\n",
       " Candle(c=Decimal('78.74'), figi='BBG000B9XRY4', h=Decimal('79.0775'), interval=<CandleResolution.day: 'day'>, l=Decimal('77.04'), o=Decimal('77.2775'), time=datetime.datetime(2020, 5, 18, 7, 0, tzinfo=datetime.timezone.utc), v=37209620),\n",
       " Candle(c=Decimal('78.285'), figi='BBG000B9XRY4', h=Decimal('79.625'), interval=<CandleResolution.day: 'day'>, l=Decimal('78.175'), o=Decimal('79.1875'), time=datetime.datetime(2020, 5, 19, 7, 0, tzinfo=datetime.timezone.utc), v=20697972),\n",
       " Candle(c=Decimal('79.8075'), figi='BBG000B9XRY4', h=Decimal('79.91'), interval=<CandleResolution.day: 'day'>, l=Decimal('78.5675'), o=Decimal('78.5675'), time=datetime.datetime(2020, 5, 20, 7, 0, tzinfo=datetime.timezone.utc), v=29482516),\n",
       " Candle(c=Decimal('79.2125'), figi='BBG000B9XRY4', h=Decimal('80.2075'), interval=<CandleResolution.day: 'day'>, l=Decimal('78.97'), o=Decimal('79.745'), time=datetime.datetime(2020, 5, 21, 7, 0, tzinfo=datetime.timezone.utc), v=21799880),\n",
       " Candle(c=Decimal('79.7225'), figi='BBG000B9XRY4', h=Decimal('79.8075'), interval=<CandleResolution.day: 'day'>, l=Decimal('78.1525'), o=Decimal('78.5425'), time=datetime.datetime(2020, 5, 22, 7, 0, tzinfo=datetime.timezone.utc), v=20193920),\n",
       " Candle(c=Decimal('79.1825'), figi='BBG000B9XRY4', h=Decimal('81.35'), interval=<CandleResolution.day: 'day'>, l=Decimal('79.1525'), o=Decimal('81.23'), time=datetime.datetime(2020, 5, 26, 7, 0, tzinfo=datetime.timezone.utc), v=32055172),\n",
       " Candle(c=Decimal('79.5275'), figi='BBG000B9XRY4', h=Decimal('80.325'), interval=<CandleResolution.day: 'day'>, l=Decimal('78.2875'), o=Decimal('79.915'), time=datetime.datetime(2020, 5, 27, 7, 0, tzinfo=datetime.timezone.utc), v=25835360),\n",
       " Candle(c=Decimal('79.5625'), figi='BBG000B9XRY4', h=Decimal('80.8575'), interval=<CandleResolution.day: 'day'>, l=Decimal('78.665'), o=Decimal('79.2575'), time=datetime.datetime(2020, 5, 28, 7, 0, tzinfo=datetime.timezone.utc), v=39316608),\n",
       " Candle(c=Decimal('79.485'), figi='BBG000B9XRY4', h=Decimal('80.3075'), interval=<CandleResolution.day: 'day'>, l=Decimal('79.125'), o=Decimal('79.305'), time=datetime.datetime(2020, 5, 29, 7, 0, tzinfo=datetime.timezone.utc), v=53986532),\n",
       " Candle(c=Decimal('80.4625'), figi='BBG000B9XRY4', h=Decimal('80.585'), interval=<CandleResolution.day: 'day'>, l=Decimal('78.875'), o=Decimal('79.81'), time=datetime.datetime(2020, 6, 1, 7, 0, tzinfo=datetime.timezone.utc), v=23614872),\n",
       " Candle(c=Decimal('80.835'), figi='BBG000B9XRY4', h=Decimal('81'), interval=<CandleResolution.day: 'day'>, l=Decimal('79.7475'), o=Decimal('80.275'), time=datetime.datetime(2020, 6, 2, 7, 0, tzinfo=datetime.timezone.utc), v=26854724),\n",
       " Candle(c=Decimal('81.28'), figi='BBG000B9XRY4', h=Decimal('81.5'), interval=<CandleResolution.day: 'day'>, l=Decimal('80.585'), o=Decimal('80.8675'), time=datetime.datetime(2020, 6, 3, 7, 0, tzinfo=datetime.timezone.utc), v=30991212),\n",
       " Candle(c=Decimal('80.58'), figi='BBG000B9XRY4', h=Decimal('81.4'), interval=<CandleResolution.day: 'day'>, l=Decimal('80.2425'), o=Decimal('80.8075'), time=datetime.datetime(2020, 6, 4, 7, 0, tzinfo=datetime.timezone.utc), v=26006968),\n",
       " Candle(c=Decimal('82.875'), figi='BBG000B9XRY4', h=Decimal('82.925'), interval=<CandleResolution.day: 'day'>, l=Decimal('80.425'), o=Decimal('80.93'), time=datetime.datetime(2020, 6, 5, 7, 0, tzinfo=datetime.timezone.utc), v=43312860),\n",
       " Candle(c=Decimal('83.365'), figi='BBG000B9XRY4', h=Decimal('83.4'), interval=<CandleResolution.day: 'day'>, l=Decimal('81.8525'), o=Decimal('82.7375'), time=datetime.datetime(2020, 6, 8, 7, 0, tzinfo=datetime.timezone.utc), v=28986464),\n",
       " Candle(c=Decimal('85.9975'), figi='BBG000B9XRY4', h=Decimal('86.39'), interval=<CandleResolution.day: 'day'>, l=Decimal('82.25'), o=Decimal('83.04'), time=datetime.datetime(2020, 6, 9, 7, 0, tzinfo=datetime.timezone.utc), v=38366136),\n",
       " Candle(c=Decimal('88.21'), figi='BBG000B9XRY4', h=Decimal('88.675'), interval=<CandleResolution.day: 'day'>, l=Decimal('85.7325'), o=Decimal('86.53'), time=datetime.datetime(2020, 6, 10, 7, 0, tzinfo=datetime.timezone.utc), v=42868128),\n",
       " Candle(c=Decimal('83.975'), figi='BBG000B9XRY4', h=Decimal('87.76'), interval=<CandleResolution.day: 'day'>, l=Decimal('83.9'), o=Decimal('87.7125'), time=datetime.datetime(2020, 6, 11, 7, 0, tzinfo=datetime.timezone.utc), v=58961032),\n",
       " Candle(c=Decimal('84.7'), figi='BBG000B9XRY4', h=Decimal('86.935'), interval=<CandleResolution.day: 'day'>, l=Decimal('83.5575'), o=Decimal('85.005'), time=datetime.datetime(2020, 6, 12, 7, 0, tzinfo=datetime.timezone.utc), v=50337504),\n",
       " Candle(c=Decimal('85.9775'), figi='BBG000B9XRY4', h=Decimal('86.195'), interval=<CandleResolution.day: 'day'>, l=Decimal('81.7525'), o=Decimal('82.0175'), time=datetime.datetime(2020, 6, 15, 7, 0, tzinfo=datetime.timezone.utc), v=38345648),\n",
       " Candle(c=Decimal('88.02'), figi='BBG000B9XRY4', h=Decimal('88.29'), interval=<CandleResolution.day: 'day'>, l=Decimal('86.225'), o=Decimal('86.39'), time=datetime.datetime(2020, 6, 16, 7, 0, tzinfo=datetime.timezone.utc), v=44729592),\n",
       " Candle(c=Decimal('87.8975'), figi='BBG000B9XRY4', h=Decimal('88.995'), interval=<CandleResolution.day: 'day'>, l=Decimal('87.815'), o=Decimal('88.16'), time=datetime.datetime(2020, 6, 17, 7, 0, tzinfo=datetime.timezone.utc), v=29514676),\n",
       " Candle(c=Decimal('87.9325'), figi='BBG000B9XRY4', h=Decimal('88.41'), interval=<CandleResolution.day: 'day'>, l=Decimal('87.325'), o=Decimal('88.41'), time=datetime.datetime(2020, 6, 18, 7, 0, tzinfo=datetime.timezone.utc), v=25042432),\n",
       " Candle(c=Decimal('87'), figi='BBG000B9XRY4', h=Decimal('89.205'), interval=<CandleResolution.day: 'day'>, l=Decimal('86.13'), o=Decimal('88'), time=datetime.datetime(2020, 6, 19, 7, 0, tzinfo=datetime.timezone.utc), v=116764220),\n",
       " Candle(c=Decimal('89.7175'), figi='BBG000B9XRY4', h=Decimal('90.2325'), interval=<CandleResolution.day: 'day'>, l=Decimal('87.2525'), o=Decimal('87.43'), time=datetime.datetime(2020, 6, 22, 7, 0, tzinfo=datetime.timezone.utc), v=34504256),\n",
       " Candle(c=Decimal('91.6325'), figi='BBG000B9XRY4', h=Decimal('93.07'), interval=<CandleResolution.day: 'day'>, l=Decimal('90.3275'), o=Decimal('90.43'), time=datetime.datetime(2020, 6, 23, 7, 0, tzinfo=datetime.timezone.utc), v=44415896),\n",
       " Candle(c=Decimal('90.015'), figi='BBG000B9XRY4', h=Decimal('92.2925'), interval=<CandleResolution.day: 'day'>, l=Decimal('89.6425'), o=Decimal('91.795'), time=datetime.datetime(2020, 6, 24, 7, 0, tzinfo=datetime.timezone.utc), v=42243796),\n",
       " Candle(c=Decimal('91.1275'), figi='BBG000B9XRY4', h=Decimal('91.25'), interval=<CandleResolution.day: 'day'>, l=Decimal('86.8775'), o=Decimal('86.8775'), time=datetime.datetime(2020, 6, 25, 7, 0, tzinfo=datetime.timezone.utc), v=31461744),\n",
       " Candle(c=Decimal('88.42'), figi='BBG000B9XRY4', h=Decimal('91.495'), interval=<CandleResolution.day: 'day'>, l=Decimal('88.3075'), o=Decimal('91.0275'), time=datetime.datetime(2020, 6, 26, 7, 0, tzinfo=datetime.timezone.utc), v=57975292),\n",
       " Candle(c=Decimal('90.7425'), figi='BBG000B9XRY4', h=Decimal('90.7425'), interval=<CandleResolution.day: 'day'>, l=Decimal('87.59'), o=Decimal('87.875'), time=datetime.datetime(2020, 6, 29, 7, 0, tzinfo=datetime.timezone.utc), v=33909484),\n",
       " Candle(c=Decimal('91.1525'), figi='BBG000B9XRY4', h=Decimal('91.4825'), interval=<CandleResolution.day: 'day'>, l=Decimal('89.6'), o=Decimal('90.75'), time=datetime.datetime(2020, 6, 30, 7, 0, tzinfo=datetime.timezone.utc), v=40370972),\n",
       " Candle(c=Decimal('90.975'), figi='BBG000B9XRY4', h=Decimal('91.8375'), interval=<CandleResolution.day: 'day'>, l=Decimal('90.565'), o=Decimal('91.2275'), time=datetime.datetime(2020, 7, 1, 7, 0, tzinfo=datetime.timezone.utc), v=28007224),\n",
       " Candle(c=Decimal('91.0275'), figi='BBG000B9XRY4', h=Decimal('92.615'), interval=<CandleResolution.day: 'day'>, l=Decimal('90.9675'), o=Decimal('91.2'), time=datetime.datetime(2020, 7, 2, 7, 0, tzinfo=datetime.timezone.utc), v=29615376),\n",
       " Candle(c=Decimal('93.4625'), figi='BBG000B9XRY4', h=Decimal('93.9375'), interval=<CandleResolution.day: 'day'>, l=Decimal('91.75'), o=Decimal('92'), time=datetime.datetime(2020, 7, 6, 7, 0, tzinfo=datetime.timezone.utc), v=32733492),\n",
       " Candle(c=Decimal('93.1725'), figi='BBG000B9XRY4', h=Decimal('94.64'), interval=<CandleResolution.day: 'day'>, l=Decimal('93'), o=Decimal('93.5375'), time=datetime.datetime(2020, 7, 7, 7, 0, tzinfo=datetime.timezone.utc), v=28659436),\n",
       " Candle(c=Decimal('95.3425'), figi='BBG000B9XRY4', h=Decimal('95.7625'), interval=<CandleResolution.day: 'day'>, l=Decimal('92.4825'), o=Decimal('93.25'), time=datetime.datetime(2020, 7, 8, 7, 0, tzinfo=datetime.timezone.utc), v=30406472),\n",
       " Candle(c=Decimal('95.6825'), figi='BBG000B9XRY4', h=Decimal('96.3475'), interval=<CandleResolution.day: 'day'>, l=Decimal('94.6975'), o=Decimal('95.705'), time=datetime.datetime(2020, 7, 9, 7, 0, tzinfo=datetime.timezone.utc), v=31166584),\n",
       " Candle(c=Decimal('95.92'), figi='BBG000B9XRY4', h=Decimal('96.05'), interval=<CandleResolution.day: 'day'>, l=Decimal('94.7175'), o=Decimal('95.0025'), time=datetime.datetime(2020, 7, 10, 7, 0, tzinfo=datetime.timezone.utc), v=25486552),\n",
       " Candle(c=Decimal('95.4775'), figi='BBG000B9XRY4', h=Decimal('99.9425'), interval=<CandleResolution.day: 'day'>, l=Decimal('95.25'), o=Decimal('96.7225'), time=datetime.datetime(2020, 7, 13, 7, 0, tzinfo=datetime.timezone.utc), v=46444492),\n",
       " Candle(c=Decimal('97.02'), figi='BBG000B9XRY4', h=Decimal('98.2375'), interval=<CandleResolution.day: 'day'>, l=Decimal('93.8875'), o=Decimal('97.02'), time=datetime.datetime(2020, 7, 14, 7, 0, tzinfo=datetime.timezone.utc), v=43129032),\n",
       " Candle(c=Decimal('95.4775'), figi='BBG000B9XRY4', h=Decimal('99.47'), interval=<CandleResolution.day: 'day'>, l=Decimal('95.4775'), o=Decimal('97.4275'), time=datetime.datetime(2020, 7, 15, 7, 0, tzinfo=datetime.timezone.utc), v=37748668),\n",
       " Candle(c=Decimal('96.5225'), figi='BBG000B9XRY4', h=Decimal('98.01'), interval=<CandleResolution.day: 'day'>, l=Decimal('95.205'), o=Decimal('97.3675'), time=datetime.datetime(2020, 7, 16, 7, 0, tzinfo=datetime.timezone.utc), v=27620716),\n",
       " Candle(c=Decimal('96.3275'), figi='BBG000B9XRY4', h=Decimal('97.5'), interval=<CandleResolution.day: 'day'>, l=Decimal('95.8425'), o=Decimal('96.185'), time=datetime.datetime(2020, 7, 17, 7, 0, tzinfo=datetime.timezone.utc), v=29030700),\n",
       " Candle(c=Decimal('98.3575'), figi='BBG000B9XRY4', h=Decimal('98.475'), interval=<CandleResolution.day: 'day'>, l=Decimal('95.4025'), o=Decimal('96.9375'), time=datetime.datetime(2020, 7, 20, 7, 0, tzinfo=datetime.timezone.utc), v=27689992),\n",
       " Candle(c=Decimal('97'), figi='BBG000B9XRY4', h=Decimal('99.5'), interval=<CandleResolution.day: 'day'>, l=Decimal('96.775'), o=Decimal('98.995'), time=datetime.datetime(2020, 7, 21, 7, 0, tzinfo=datetime.timezone.utc), v=29163132),\n",
       " Candle(c=Decimal('97.2725'), figi='BBG000B9XRY4', h=Decimal('98.04'), interval=<CandleResolution.day: 'day'>, l=Decimal('96.25'), o=Decimal('97.5475'), time=datetime.datetime(2020, 7, 22, 7, 0, tzinfo=datetime.timezone.utc), v=21317516),\n",
       " Candle(c=Decimal('92.845'), figi='BBG000B9XRY4', h=Decimal('97.9425'), interval=<CandleResolution.day: 'day'>, l=Decimal('92.02'), o=Decimal('97.615'), time=datetime.datetime(2020, 7, 23, 7, 0, tzinfo=datetime.timezone.utc), v=51152976),\n",
       " Candle(c=Decimal('92.615'), figi='BBG000B9XRY4', h=Decimal('92.9675'), interval=<CandleResolution.day: 'day'>, l=Decimal('89.235'), o=Decimal('91.6025'), time=datetime.datetime(2020, 7, 24, 7, 0, tzinfo=datetime.timezone.utc), v=44497260),\n",
       " Candle(c=Decimal('94.81'), figi='BBG000B9XRY4', h=Decimal('95.1875'), interval=<CandleResolution.day: 'day'>, l=Decimal('92.7375'), o=Decimal('93.07'), time=datetime.datetime(2020, 7, 27, 7, 0, tzinfo=datetime.timezone.utc), v=32244016),\n",
       " Candle(c=Decimal('93.2525'), figi='BBG000B9XRY4', h=Decimal('95.5'), interval=<CandleResolution.day: 'day'>, l=Decimal('93.115'), o=Decimal('95.25'), time=datetime.datetime(2020, 7, 28, 7, 0, tzinfo=datetime.timezone.utc), v=25824112),\n",
       " Candle(c=Decimal('95.04'), figi='BBG000B9XRY4', h=Decimal('95.6'), interval=<CandleResolution.day: 'day'>, l=Decimal('93.7075'), o=Decimal('94.0225'), time=datetime.datetime(2020, 7, 29, 7, 0, tzinfo=datetime.timezone.utc), v=23278412),\n",
       " Candle(c=Decimal('96.19'), figi='BBG000B9XRY4', h=Decimal('102.2375'), interval=<CandleResolution.day: 'day'>, l=Decimal('93.57'), o=Decimal('94.975'), time=datetime.datetime(2020, 7, 30, 7, 0, tzinfo=datetime.timezone.utc), v=43937160),\n",
       " Candle(c=Decimal('106.26'), figi='BBG000B9XRY4', h=Decimal('107'), interval=<CandleResolution.day: 'day'>, l=Decimal('100.375'), o=Decimal('102.3625'), time=datetime.datetime(2020, 7, 31, 7, 0, tzinfo=datetime.timezone.utc), v=99571356),\n",
       " Candle(c=Decimal('108.9375'), figi='BBG000B9XRY4', h=Decimal('111.64'), interval=<CandleResolution.day: 'day'>, l=Decimal('104.875'), o=Decimal('106.8725'), time=datetime.datetime(2020, 8, 3, 7, 0, tzinfo=datetime.timezone.utc), v=71709120),\n",
       " Candle(c=Decimal('109.665'), figi='BBG000B9XRY4', h=Decimal('110.78'), interval=<CandleResolution.day: 'day'>, l=Decimal('108.265'), o=Decimal('109.7775'), time=datetime.datetime(2020, 8, 4, 7, 0, tzinfo=datetime.timezone.utc), v=39619592),\n",
       " Candle(c=Decimal('110.0625'), figi='BBG000B9XRY4', h=Decimal('110.7275'), interval=<CandleResolution.day: 'day'>, l=Decimal('108.8975'), o=Decimal('109.725'), time=datetime.datetime(2020, 8, 5, 7, 0, tzinfo=datetime.timezone.utc), v=28858864),\n",
       " Candle(c=Decimal('113.9025'), figi='BBG000B9XRY4', h=Decimal('114.41'), interval=<CandleResolution.day: 'day'>, l=Decimal('109.385'), o=Decimal('109.8525'), time=datetime.datetime(2020, 8, 6, 7, 0, tzinfo=datetime.timezone.utc), v=42838864),\n",
       " Candle(c=Decimal('111.1125'), figi='BBG000B9XRY4', h=Decimal('114.2475'), interval=<CandleResolution.day: 'day'>, l=Decimal('110.3'), o=Decimal('113.7525'), time=datetime.datetime(2020, 8, 7, 7, 0, tzinfo=datetime.timezone.utc), v=43839516),\n",
       " Candle(c=Decimal('112.7275'), figi='BBG000B9XRY4', h=Decimal('113.77'), interval=<CandleResolution.day: 'day'>, l=Decimal('110.0'), o=Decimal('111.4675'), time=datetime.datetime(2020, 8, 10, 7, 0, tzinfo=datetime.timezone.utc), v=44572180),\n",
       " Candle(c=Decimal('109.375'), figi='BBG000B9XRY4', h=Decimal('113.5925'), interval=<CandleResolution.day: 'day'>, l=Decimal('109.12'), o=Decimal('112.625'), time=datetime.datetime(2020, 8, 11, 7, 0, tzinfo=datetime.timezone.utc), v=46351540),\n",
       " Candle(c=Decimal('113.01'), figi='BBG000B9XRY4', h=Decimal('113.265'), interval=<CandleResolution.day: 'day'>, l=Decimal('109.97'), o=Decimal('110.0025'), time=datetime.datetime(2020, 8, 12, 7, 0, tzinfo=datetime.timezone.utc), v=39336848),\n",
       " Candle(c=Decimal('115.01'), figi='BBG000B9XRY4', h=Decimal('116.0375'), interval=<CandleResolution.day: 'day'>, l=Decimal('112.5'), o=Decimal('113.08'), time=datetime.datetime(2020, 8, 13, 7, 0, tzinfo=datetime.timezone.utc), v=40791564),\n",
       " Candle(c=Decimal('114.9075'), figi='BBG000B9XRY4', h=Decimal('115.4375'), interval=<CandleResolution.day: 'day'>, l=Decimal('113.055'), o=Decimal('115.175'), time=datetime.datetime(2020, 8, 14, 7, 0, tzinfo=datetime.timezone.utc), v=32626168),\n",
       " Candle(c=Decimal('114.6075'), figi='BBG000B9XRY4', h=Decimal('116.1225'), interval=<CandleResolution.day: 'day'>, l=Decimal('113.975'), o=Decimal('115.0875'), time=datetime.datetime(2020, 8, 17, 7, 0, tzinfo=datetime.timezone.utc), v=30329388),\n",
       " Candle(c=Decimal('115.5625'), figi='BBG000B9XRY4', h=Decimal('115.9975'), interval=<CandleResolution.day: 'day'>, l=Decimal('114.015'), o=Decimal('115.5325'), time=datetime.datetime(2020, 8, 18, 7, 0, tzinfo=datetime.timezone.utc), v=25675380),\n",
       " Candle(c=Decimal('115.7075'), figi='BBG000B9XRY4', h=Decimal('117.1625'), interval=<CandleResolution.day: 'day'>, l=Decimal('114.125'), o=Decimal('115.735'), time=datetime.datetime(2020, 8, 19, 7, 0, tzinfo=datetime.timezone.utc), v=35274652),\n",
       " Candle(c=Decimal('118.275'), figi='BBG000B9XRY4', h=Decimal('118.9975'), interval=<CandleResolution.day: 'day'>, l=Decimal('115.2025'), o=Decimal('115.2025'), time=datetime.datetime(2020, 8, 20, 7, 0, tzinfo=datetime.timezone.utc), v=30152272),\n",
       " Candle(c=Decimal('124.37'), figi='BBG000B9XRY4', h=Decimal('124.8625'), interval=<CandleResolution.day: 'day'>, l=Decimal('118.54'), o=Decimal('119.36'), time=datetime.datetime(2020, 8, 21, 7, 0, tzinfo=datetime.timezone.utc), v=74168456),\n",
       " Candle(c=Decimal('125.8575'), figi='BBG000B9XRY4', h=Decimal('128.825'), interval=<CandleResolution.day: 'day'>, l=Decimal('122.29'), o=Decimal('127.625'), time=datetime.datetime(2020, 8, 24, 7, 0, tzinfo=datetime.timezone.utc), v=76473416),\n",
       " Candle(c=Decimal('124.825'), figi='BBG000B9XRY4', h=Decimal('129.1225'), interval=<CandleResolution.day: 'day'>, l=Decimal('123.1'), o=Decimal('125.5025'), time=datetime.datetime(2020, 8, 25, 7, 0, tzinfo=datetime.timezone.utc), v=44201380),\n",
       " Candle(c=Decimal('126.5225'), figi='BBG000B9XRY4', h=Decimal('126.975'), interval=<CandleResolution.day: 'day'>, l=Decimal('124.625'), o=Decimal('125'), time=datetime.datetime(2020, 8, 26, 7, 0, tzinfo=datetime.timezone.utc), v=37791900),\n",
       " Candle(c=Decimal('125.01'), figi='BBG000B9XRY4', h=Decimal('127.475'), interval=<CandleResolution.day: 'day'>, l=Decimal('123.85'), o=Decimal('126.99'), time=datetime.datetime(2020, 8, 27, 7, 0, tzinfo=datetime.timezone.utc), v=41501852),\n",
       " Candle(c=Decimal('124.8075'), figi='BBG000B9XRY4', h=Decimal('126.425'), interval=<CandleResolution.day: 'day'>, l=Decimal('124.595'), o=Decimal('125.52'), time=datetime.datetime(2020, 8, 28, 7, 0, tzinfo=datetime.timezone.utc), v=61652416),\n",
       " Candle(c=Decimal('129.04'), figi='BBG000B9XRY4', h=Decimal('131'), interval=<CandleResolution.day: 'day'>, l=Decimal('127.13'), o=Decimal('127.82'), time=datetime.datetime(2020, 8, 31, 7, 0, tzinfo=datetime.timezone.utc), v=56902797),\n",
       " Candle(c=Decimal('134.18'), figi='BBG000B9XRY4', h=Decimal('134.8'), interval=<CandleResolution.day: 'day'>, l=Decimal('129.91'), o=Decimal('131.78'), time=datetime.datetime(2020, 9, 1, 7, 0, tzinfo=datetime.timezone.utc), v=35676286),\n",
       " Candle(c=Decimal('131.4'), figi='BBG000B9XRY4', h=Decimal('138.55'), interval=<CandleResolution.day: 'day'>, l=Decimal('127'), o=Decimal('135.3'), time=datetime.datetime(2020, 9, 2, 7, 0, tzinfo=datetime.timezone.utc), v=48253668),\n",
       " Candle(c=Decimal('120.88'), figi='BBG000B9XRY4', h=Decimal('135.31'), interval=<CandleResolution.day: 'day'>, l=Decimal('118.01'), o=Decimal('131.91'), time=datetime.datetime(2020, 9, 3, 7, 0, tzinfo=datetime.timezone.utc), v=67037455),\n",
       " Candle(c=Decimal('120.96'), figi='BBG000B9XRY4', h=Decimal('123.7'), interval=<CandleResolution.day: 'day'>, l=Decimal('110.69'), o=Decimal('117.6'), time=datetime.datetime(2020, 9, 4, 7, 0, tzinfo=datetime.timezone.utc), v=83306228),\n",
       " Candle(c=Decimal('112.82'), figi='BBG000B9XRY4', h=Decimal('124.09'), interval=<CandleResolution.day: 'day'>, l=Decimal('110.57'), o=Decimal('121'), time=datetime.datetime(2020, 9, 8, 7, 0, tzinfo=datetime.timezone.utc), v=57332520),\n",
       " Candle(c=Decimal('117.32'), figi='BBG000B9XRY4', h=Decimal('119.75'), interval=<CandleResolution.day: 'day'>, l=Decimal('112.64'), o=Decimal('112.64'), time=datetime.datetime(2020, 9, 9, 7, 0, tzinfo=datetime.timezone.utc), v=41434855),\n",
       " Candle(c=Decimal('113.49'), figi='BBG000B9XRY4', h=Decimal('120.64'), interval=<CandleResolution.day: 'day'>, l=Decimal('112.5'), o=Decimal('118.79'), time=datetime.datetime(2020, 9, 10, 7, 0, tzinfo=datetime.timezone.utc), v=39892364),\n",
       " Candle(c=Decimal('112'), figi='BBG000B9XRY4', h=Decimal('116.32'), interval=<CandleResolution.day: 'day'>, l=Decimal('110.03'), o=Decimal('114.66'), time=datetime.datetime(2020, 9, 11, 7, 0, tzinfo=datetime.timezone.utc), v=35293776),\n",
       " Candle(c=Decimal('115.36'), figi='BBG000B9XRY4', h=Decimal('116'), interval=<CandleResolution.day: 'day'>, l=Decimal('112.81'), o=Decimal('114.46'), time=datetime.datetime(2020, 9, 14, 7, 0, tzinfo=datetime.timezone.utc), v=30472074),\n",
       " Candle(c=Decimal('115.54'), figi='BBG000B9XRY4', h=Decimal('118.88'), interval=<CandleResolution.day: 'day'>, l=Decimal('113.61'), o=Decimal('116.27'), time=datetime.datetime(2020, 9, 15, 7, 0, tzinfo=datetime.timezone.utc), v=32388341),\n",
       " Candle(c=Decimal('112.13'), figi='BBG000B9XRY4', h=Decimal('116.5'), interval=<CandleResolution.day: 'day'>, l=Decimal('112.01'), o=Decimal('115.65'), time=datetime.datetime(2020, 9, 16, 7, 0, tzinfo=datetime.timezone.utc), v=32809665),\n",
       " Candle(c=Decimal('110.42'), figi='BBG000B9XRY4', h=Decimal('112.2'), interval=<CandleResolution.day: 'day'>, l=Decimal('101.39'), o=Decimal('111.2'), time=datetime.datetime(2020, 9, 17, 7, 0, tzinfo=datetime.timezone.utc), v=40399664),\n",
       " Candle(c=Decimal('106.84'), figi='BBG000B9XRY4', h=Decimal('111.78'), interval=<CandleResolution.day: 'day'>, l=Decimal('106.11'), o=Decimal('111.14'), time=datetime.datetime(2020, 9, 18, 7, 0, tzinfo=datetime.timezone.utc), v=106210118),\n",
       " Candle(c=Decimal('110.08'), figi='BBG000B9XRY4', h=Decimal('110.68'), interval=<CandleResolution.day: 'day'>, l=Decimal('103.1'), o=Decimal('106.81'), time=datetime.datetime(2020, 9, 21, 7, 0, tzinfo=datetime.timezone.utc), v=38056896),\n",
       " Candle(c=Decimal('111.81'), figi='BBG000B9XRY4', h=Decimal('112.87'), interval=<CandleResolution.day: 'day'>, l=Decimal('108.39'), o=Decimal('110.32'), time=datetime.datetime(2020, 9, 22, 7, 0, tzinfo=datetime.timezone.utc), v=35121928),\n",
       " Candle(c=Decimal('107.12'), figi='BBG000B9XRY4', h=Decimal('112.55'), interval=<CandleResolution.day: 'day'>, l=Decimal('105.81'), o=Decimal('111.99'), time=datetime.datetime(2020, 9, 23, 7, 0, tzinfo=datetime.timezone.utc), v=37153145),\n",
       " Candle(c=Decimal('108.22'), figi='BBG000B9XRY4', h=Decimal('110.22'), interval=<CandleResolution.day: 'day'>, l=Decimal('104.81'), o=Decimal('106.17'), time=datetime.datetime(2020, 9, 24, 7, 0, tzinfo=datetime.timezone.utc), v=33253776),\n",
       " Candle(c=Decimal('112.28'), figi='BBG000B9XRY4', h=Decimal('112.55'), interval=<CandleResolution.day: 'day'>, l=Decimal('107.25'), o=Decimal('108.91'), time=datetime.datetime(2020, 9, 25, 7, 0, tzinfo=datetime.timezone.utc), v=29132181),\n",
       " Candle(c=Decimal('114.96'), figi='BBG000B9XRY4', h=Decimal('115.5'), interval=<CandleResolution.day: 'day'>, l=Decimal('112.79'), o=Decimal('114.01'), time=datetime.datetime(2020, 9, 28, 7, 0, tzinfo=datetime.timezone.utc), v=29602144),\n",
       " Candle(c=Decimal('114.09'), figi='BBG000B9XRY4', h=Decimal('115.69'), interval=<CandleResolution.day: 'day'>, l=Decimal('113.57'), o=Decimal('115'), time=datetime.datetime(2020, 9, 29, 7, 0, tzinfo=datetime.timezone.utc), v=17501538),\n",
       " Candle(c=Decimal('115.81'), figi='BBG000B9XRY4', h=Decimal('117.23'), interval=<CandleResolution.day: 'day'>, l=Decimal('111.11'), o=Decimal('113.07'), time=datetime.datetime(2020, 9, 30, 7, 0, tzinfo=datetime.timezone.utc), v=34817153),\n",
       " Candle(c=Decimal('116.79'), figi='BBG000B9XRY4', h=Decimal('118.1'), interval=<CandleResolution.day: 'day'>, l=Decimal('115.83'), o=Decimal('116.7'), time=datetime.datetime(2020, 10, 1, 7, 0, tzinfo=datetime.timezone.utc), v=24188129),\n",
       " Candle(c=Decimal('113.02'), figi='BBG000B9XRY4', h=Decimal('115.4'), interval=<CandleResolution.day: 'day'>, l=Decimal('110.5'), o=Decimal('113.89'), time=datetime.datetime(2020, 10, 2, 7, 0, tzinfo=datetime.timezone.utc), v=30380718),\n",
       " Candle(c=Decimal('116.5'), figi='BBG000B9XRY4', h=Decimal('116.63'), interval=<CandleResolution.day: 'day'>, l=Decimal('113.5'), o=Decimal('113.82'), time=datetime.datetime(2020, 10, 5, 7, 0, tzinfo=datetime.timezone.utc), v=21420950),\n",
       " Candle(c=Decimal('113.16'), figi='BBG000B9XRY4', h=Decimal('116.5'), interval=<CandleResolution.day: 'day'>, l=Decimal('112.26'), o=Decimal('116.2'), time=datetime.datetime(2020, 10, 6, 7, 0, tzinfo=datetime.timezone.utc), v=30009300),\n",
       " Candle(c=Decimal('115.08'), figi='BBG000B9XRY4', h=Decimal('115.46'), interval=<CandleResolution.day: 'day'>, l=Decimal('113.6'), o=Decimal('114'), time=datetime.datetime(2020, 10, 7, 7, 0, tzinfo=datetime.timezone.utc), v=20499440),\n",
       " Candle(c=Decimal('114.97'), figi='BBG000B9XRY4', h=Decimal('116.45'), interval=<CandleResolution.day: 'day'>, l=Decimal('114.6'), o=Decimal('116.27'), time=datetime.datetime(2020, 10, 8, 7, 0, tzinfo=datetime.timezone.utc), v=16116129),\n",
       " Candle(c=Decimal('116.97'), figi='BBG000B9XRY4', h=Decimal('117.9'), interval=<CandleResolution.day: 'day'>, l=Decimal('114.93'), o=Decimal('115.88'), time=datetime.datetime(2020, 10, 9, 7, 0, tzinfo=datetime.timezone.utc), v=22228206),\n",
       " Candle(c=Decimal('124.4'), figi='BBG000B9XRY4', h=Decimal('125.17'), interval=<CandleResolution.day: 'day'>, l=Decimal('116.99'), o=Decimal('118.36'), time=datetime.datetime(2020, 10, 12, 7, 0, tzinfo=datetime.timezone.utc), v=46373327),\n",
       " Candle(c=Decimal('121.1'), figi='BBG000B9XRY4', h=Decimal('127.65'), interval=<CandleResolution.day: 'day'>, l=Decimal('119.69'), o=Decimal('125.36'), time=datetime.datetime(2020, 10, 13, 7, 0, tzinfo=datetime.timezone.utc), v=45200253),\n",
       " Candle(c=Decimal('121.19'), figi='BBG000B9XRY4', h=Decimal('123.01'), interval=<CandleResolution.day: 'day'>, l=Decimal('119.63'), o=Decimal('122.35'), time=datetime.datetime(2020, 10, 14, 7, 0, tzinfo=datetime.timezone.utc), v=26747342),\n",
       " Candle(c=Decimal('120.71'), figi='BBG000B9XRY4', h=Decimal('121.19'), interval=<CandleResolution.day: 'day'>, l=Decimal('117.06'), o=Decimal('120.1'), time=datetime.datetime(2020, 10, 15, 7, 0, tzinfo=datetime.timezone.utc), v=21212218),\n",
       " Candle(c=Decimal('118.97'), figi='BBG000B9XRY4', h=Decimal('122.1'), interval=<CandleResolution.day: 'day'>, l=Decimal('118.74'), o=Decimal('120.16'), time=datetime.datetime(2020, 10, 16, 7, 0, tzinfo=datetime.timezone.utc), v=24390240),\n",
       " Candle(c=Decimal('115.98'), figi='BBG000B9XRY4', h=Decimal('121'), interval=<CandleResolution.day: 'day'>, l=Decimal('115.67'), o=Decimal('120.03'), time=datetime.datetime(2020, 10, 19, 7, 0, tzinfo=datetime.timezone.utc), v=25270919),\n",
       " Candle(c=Decimal('117.51'), figi='BBG000B9XRY4', h=Decimal('118.98'), interval=<CandleResolution.day: 'day'>, l=Decimal('115.63'), o=Decimal('118.03'), time=datetime.datetime(2020, 10, 20, 7, 0, tzinfo=datetime.timezone.utc), v=20549541),\n",
       " Candle(c=Decimal('116.87'), figi='BBG000B9XRY4', h=Decimal('118.7'), interval=<CandleResolution.day: 'day'>, l=Decimal('116.5'), o=Decimal('118.2'), time=datetime.datetime(2020, 10, 21, 7, 0, tzinfo=datetime.timezone.utc), v=20193226),\n",
       " Candle(c=Decimal('115.75'), figi='BBG000B9XRY4', h=Decimal('118.01'), interval=<CandleResolution.day: 'day'>, l=Decimal('114.68'), o=Decimal('115.12'), time=datetime.datetime(2020, 10, 22, 7, 0, tzinfo=datetime.timezone.utc), v=21395837),\n",
       " Candle(c=Decimal('115.04'), figi='BBG000B9XRY4', h=Decimal('119.19'), interval=<CandleResolution.day: 'day'>, l=Decimal('114.29'), o=Decimal('116.35'), time=datetime.datetime(2020, 10, 23, 7, 0, tzinfo=datetime.timezone.utc), v=15772549),\n",
       " Candle(c=Decimal('115.05'), figi='BBG000B9XRY4', h=Decimal('116.54'), interval=<CandleResolution.day: 'day'>, l=Decimal('112.89'), o=Decimal('114.3'), time=datetime.datetime(2020, 10, 26, 7, 0, tzinfo=datetime.timezone.utc), v=25039379),\n",
       " Candle(c=Decimal('116.6'), figi='BBG000B9XRY4', h=Decimal('117.27'), interval=<CandleResolution.day: 'day'>, l=Decimal('114.3'), o=Decimal('115.11'), time=datetime.datetime(2020, 10, 27, 7, 0, tzinfo=datetime.timezone.utc), v=18459031),\n",
       " Candle(c=Decimal('111.2'), figi='BBG000B9XRY4', h=Decimal('117'), interval=<CandleResolution.day: 'day'>, l=Decimal('111.16'), o=Decimal('116.8'), time=datetime.datetime(2020, 10, 28, 7, 0, tzinfo=datetime.timezone.utc), v=33979047),\n",
       " Candle(c=Decimal('115.32'), figi='BBG000B9XRY4', h=Decimal('116.92'), interval=<CandleResolution.day: 'day'>, l=Decimal('108.79'), o=Decimal('112.5'), time=datetime.datetime(2020, 10, 29, 7, 0, tzinfo=datetime.timezone.utc), v=34286375),\n",
       " Candle(c=Decimal('108.86'), figi='BBG000B9XRY4', h=Decimal('111.97'), interval=<CandleResolution.day: 'day'>, l=Decimal('107.2'), o=Decimal('111'), time=datetime.datetime(2020, 10, 30, 7, 0, tzinfo=datetime.timezone.utc), v=41651727),\n",
       " Candle(c=Decimal('108.77'), figi='BBG000B9XRY4', h=Decimal('110.66'), interval=<CandleResolution.day: 'day'>, l=Decimal('107.33'), o=Decimal('109.1'), time=datetime.datetime(2020, 11, 2, 7, 0, tzinfo=datetime.timezone.utc), v=25306166),\n",
       " Candle(c=Decimal('110.44'), figi='BBG000B9XRY4', h=Decimal('111.45'), interval=<CandleResolution.day: 'day'>, l=Decimal('108.74'), o=Decimal('109.2'), time=datetime.datetime(2020, 11, 3, 7, 0, tzinfo=datetime.timezone.utc), v=23407167),\n",
       " Candle(c=Decimal('114.95'), figi='BBG000B9XRY4', h=Decimal('115.99'), interval=<CandleResolution.day: 'day'>, l=Decimal('110.4'), o=Decimal('110.83'), time=datetime.datetime(2020, 11, 4, 7, 0, tzinfo=datetime.timezone.utc), v=35317840),\n",
       " Candle(c=Decimal('119.03'), figi='BBG000B9XRY4', h=Decimal('119.61'), interval=<CandleResolution.day: 'day'>, l=Decimal('115.6'), o=Decimal('116'), time=datetime.datetime(2020, 11, 5, 7, 0, tzinfo=datetime.timezone.utc), v=28473500),\n",
       " Candle(c=Decimal('118.69'), figi='BBG000B9XRY4', h=Decimal('119.2'), interval=<CandleResolution.day: 'day'>, l=Decimal('115.08'), o=Decimal('117.24'), time=datetime.datetime(2020, 11, 6, 7, 0, tzinfo=datetime.timezone.utc), v=23943830),\n",
       " Candle(c=Decimal('116.32'), figi='BBG000B9XRY4', h=Decimal('124.8'), interval=<CandleResolution.day: 'day'>, l=Decimal('116.04'), o=Decimal('121'), time=datetime.datetime(2020, 11, 9, 7, 0, tzinfo=datetime.timezone.utc), v=39029824),\n",
       " Candle(c=Decimal('115.97'), figi='BBG000B9XRY4', h=Decimal('118.19'), interval=<CandleResolution.day: 'day'>, l=Decimal('114.14'), o=Decimal('117'), time=datetime.datetime(2020, 11, 10, 7, 0, tzinfo=datetime.timezone.utc), v=29759427),\n",
       " Candle(c=Decimal('119.49'), figi='BBG000B9XRY4', h=Decimal('120.02'), interval=<CandleResolution.day: 'day'>, l=Decimal('116.15'), o=Decimal('116.5'), time=datetime.datetime(2020, 11, 11, 7, 0, tzinfo=datetime.timezone.utc), v=21096394),\n",
       " Candle(c=Decimal('119.21'), figi='BBG000B9XRY4', h=Decimal('120.52'), interval=<CandleResolution.day: 'day'>, l=Decimal('118.5'), o=Decimal('119.08'), time=datetime.datetime(2020, 11, 12, 7, 0, tzinfo=datetime.timezone.utc), v=21021945),\n",
       " Candle(c=Decimal('119.26'), figi='BBG000B9XRY4', h=Decimal('120.15'), interval=<CandleResolution.day: 'day'>, l=Decimal('117.88'), o=Decimal('119.3'), time=datetime.datetime(2020, 11, 13, 7, 0, tzinfo=datetime.timezone.utc), v=18657556),\n",
       " Candle(c=Decimal('120.3'), figi='BBG000B9XRY4', h=Decimal('121.39'), interval=<CandleResolution.day: 'day'>, l=Decimal('118.1'), o=Decimal('120.64'), time=datetime.datetime(2020, 11, 16, 7, 0, tzinfo=datetime.timezone.utc), v=20946645),\n",
       " Candle(c=Decimal('119.39'), figi='BBG000B9XRY4', h=Decimal('120.75'), interval=<CandleResolution.day: 'day'>, l=Decimal('118.98'), o=Decimal('120.1'), time=datetime.datetime(2020, 11, 17, 7, 0, tzinfo=datetime.timezone.utc), v=19548072),\n",
       " Candle(c=Decimal('118.03'), figi='BBG000B9XRY4', h=Decimal('120.0'), interval=<CandleResolution.day: 'day'>, l=Decimal('117.77'), o=Decimal('119.5'), time=datetime.datetime(2020, 11, 18, 7, 0, tzinfo=datetime.timezone.utc), v=19257217),\n",
       " Candle(c=Decimal('118.64'), figi='BBG000B9XRY4', h=Decimal('118.94'), interval=<CandleResolution.day: 'day'>, l=Decimal('116.81'), o=Decimal('118.23'), time=datetime.datetime(2020, 11, 19, 7, 0, tzinfo=datetime.timezone.utc), v=17387380),\n",
       " Candle(c=Decimal('117.34'), figi='BBG000B9XRY4', h=Decimal('118.96'), interval=<CandleResolution.day: 'day'>, l=Decimal('117.16'), o=Decimal('118.71'), time=datetime.datetime(2020, 11, 20, 7, 0, tzinfo=datetime.timezone.utc), v=20049514),\n",
       " Candle(c=Decimal('113.85'), figi='BBG000B9XRY4', h=Decimal('118.3'), interval=<CandleResolution.day: 'day'>, l=Decimal('113.76'), o=Decimal('117.33'), time=datetime.datetime(2020, 11, 23, 7, 0, tzinfo=datetime.timezone.utc), v=26731556),\n",
       " Candle(c=Decimal('115.17'), figi='BBG000B9XRY4', h=Decimal('115.84'), interval=<CandleResolution.day: 'day'>, l=Decimal('112.61'), o=Decimal('115.3'), time=datetime.datetime(2020, 11, 24, 7, 0, tzinfo=datetime.timezone.utc), v=27604071),\n",
       " Candle(c=Decimal('116.03'), figi='BBG000B9XRY4', h=Decimal('116.74'), interval=<CandleResolution.day: 'day'>, l=Decimal('114.8'), o=Decimal('115.7'), time=datetime.datetime(2020, 11, 25, 7, 0, tzinfo=datetime.timezone.utc), v=17837123),\n",
       " Candle(c=Decimal('116.59'), figi='BBG000B9XRY4', h=Decimal('117.48'), interval=<CandleResolution.day: 'day'>, l=Decimal('115.6'), o=Decimal('115.8'), time=datetime.datetime(2020, 11, 27, 7, 0, tzinfo=datetime.timezone.utc), v=11153001),\n",
       " Candle(c=Decimal('119.05'), figi='BBG000B9XRY4', h=Decimal('120.96'), interval=<CandleResolution.day: 'day'>, l=Decimal('114.7'), o=Decimal('115.5'), time=datetime.datetime(2020, 11, 30, 7, 0, tzinfo=datetime.timezone.utc), v=51924426),\n",
       " Candle(c=Decimal('122.72'), figi='BBG000B9XRY4', h=Decimal('123.47'), interval=<CandleResolution.day: 'day'>, l=Decimal('119.8'), o=Decimal('120.0'), time=datetime.datetime(2020, 12, 1, 7, 0, tzinfo=datetime.timezone.utc), v=27616704),\n",
       " Candle(c=Decimal('123.08'), figi='BBG000B9XRY4', h=Decimal('123.37'), interval=<CandleResolution.day: 'day'>, l=Decimal('120.89'), o=Decimal('122.3'), time=datetime.datetime(2020, 12, 2, 7, 0, tzinfo=datetime.timezone.utc), v=20035013),\n",
       " Candle(c=Decimal('122.94'), figi='BBG000B9XRY4', h=Decimal('123.81'), interval=<CandleResolution.day: 'day'>, l=Decimal('120.65'), o=Decimal('123.1'), time=datetime.datetime(2020, 12, 3, 7, 0, tzinfo=datetime.timezone.utc), v=18476716),\n",
       " Candle(c=Decimal('122.25'), figi='BBG000B9XRY4', h=Decimal('123.54'), interval=<CandleResolution.day: 'day'>, l=Decimal('121.52'), o=Decimal('123.01'), time=datetime.datetime(2020, 12, 4, 7, 0, tzinfo=datetime.timezone.utc), v=17064958),\n",
       " Candle(c=Decimal('123.75'), figi='BBG000B9XRY4', h=Decimal('124.57'), interval=<CandleResolution.day: 'day'>, l=Decimal('121.25'), o=Decimal('123.2'), time=datetime.datetime(2020, 12, 7, 7, 0, tzinfo=datetime.timezone.utc), v=20436501),\n",
       " Candle(c=Decimal('124.38'), figi='BBG000B9XRY4', h=Decimal('124.98'), interval=<CandleResolution.day: 'day'>, l=Decimal('123.05'), o=Decimal('123.69'), time=datetime.datetime(2020, 12, 8, 7, 0, tzinfo=datetime.timezone.utc), v=19517377),\n",
       " Candle(c=Decimal('121.78'), figi='BBG000B9XRY4', h=Decimal('125.95'), interval=<CandleResolution.day: 'day'>, l=Decimal('121.07'), o=Decimal('124.5'), time=datetime.datetime(2020, 12, 9, 7, 0, tzinfo=datetime.timezone.utc), v=30229870),\n",
       " Candle(c=Decimal('123.24'), figi='BBG000B9XRY4', h=Decimal('123.85'), interval=<CandleResolution.day: 'day'>, l=Decimal('120.01'), o=Decimal('121.45'), time=datetime.datetime(2020, 12, 10, 7, 0, tzinfo=datetime.timezone.utc), v=21004315),\n",
       " Candle(c=Decimal('122.41'), figi='BBG000B9XRY4', h=Decimal('123.7'), interval=<CandleResolution.day: 'day'>, l=Decimal('120.56'), o=Decimal('123.16'), time=datetime.datetime(2020, 12, 11, 7, 0, tzinfo=datetime.timezone.utc), v=21024768),\n",
       " Candle(c=Decimal('121.78'), figi='BBG000B9XRY4', h=Decimal('123.33'), interval=<CandleResolution.day: 'day'>, l=Decimal('121.66'), o=Decimal('122.81'), time=datetime.datetime(2020, 12, 14, 7, 0, tzinfo=datetime.timezone.utc), v=25192382),\n",
       " Candle(c=Decimal('127.88'), figi='BBG000B9XRY4', h=Decimal('127.99'), interval=<CandleResolution.day: 'day'>, l=Decimal('121.73'), o=Decimal('121.83'), time=datetime.datetime(2020, 12, 15, 7, 0, tzinfo=datetime.timezone.utc), v=35498287),\n",
       " Candle(c=Decimal('127.81'), figi='BBG000B9XRY4', h=Decimal('128.73'), interval=<CandleResolution.day: 'day'>, l=Decimal('126.56'), o=Decimal('128.52'), time=datetime.datetime(2020, 12, 16, 7, 0, tzinfo=datetime.timezone.utc), v=22918829),\n",
       " Candle(c=Decimal('128.7'), figi='BBG000B9XRY4', h=Decimal('129.56'), interval=<CandleResolution.day: 'day'>, l=Decimal('127.96'), o=Decimal('128.37'), time=datetime.datetime(2020, 12, 17, 7, 0, tzinfo=datetime.timezone.utc), v=20943490),\n",
       " Candle(c=Decimal('126.66'), figi='BBG000B9XRY4', h=Decimal('129.35'), interval=<CandleResolution.day: 'day'>, l=Decimal('126.13'), o=Decimal('128.55'), time=datetime.datetime(2020, 12, 18, 7, 0, tzinfo=datetime.timezone.utc), v=98946734),\n",
       " Candle(c=Decimal('128.23'), figi='BBG000B9XRY4', h=Decimal('132'), interval=<CandleResolution.day: 'day'>, l=Decimal('123.12'), o=Decimal('127.6'), time=datetime.datetime(2020, 12, 21, 7, 0, tzinfo=datetime.timezone.utc), v=30421273),\n",
       " Candle(c=Decimal('131.88'), figi='BBG000B9XRY4', h=Decimal('134.4'), interval=<CandleResolution.day: 'day'>, l=Decimal('127.28'), o=Decimal('128.81'), time=datetime.datetime(2020, 12, 22, 7, 0, tzinfo=datetime.timezone.utc), v=31510984),\n",
       " Candle(c=Decimal('130.96'), figi='BBG000B9XRY4', h=Decimal('132.8'), interval=<CandleResolution.day: 'day'>, l=Decimal('130.5'), o=Decimal('130.5'), time=datetime.datetime(2020, 12, 23, 7, 0, tzinfo=datetime.timezone.utc), v=20511617),\n",
       " Candle(c=Decimal('131.97'), figi='BBG000B9XRY4', h=Decimal('133.46'), interval=<CandleResolution.day: 'day'>, l=Decimal('130.67'), o=Decimal('131.15'), time=datetime.datetime(2020, 12, 24, 7, 0, tzinfo=datetime.timezone.utc), v=9470208),\n",
       " Candle(c=Decimal('136.69'), figi='BBG000B9XRY4', h=Decimal('137.33'), interval=<CandleResolution.day: 'day'>, l=Decimal('131.75'), o=Decimal('133.1'), time=datetime.datetime(2020, 12, 28, 7, 0, tzinfo=datetime.timezone.utc), v=23459873),\n",
       " Candle(c=Decimal('134.87'), figi='BBG000B9XRY4', h=Decimal('138.78'), interval=<CandleResolution.day: 'day'>, l=Decimal('134.35'), o=Decimal('137'), time=datetime.datetime(2020, 12, 29, 7, 0, tzinfo=datetime.timezone.utc), v=22534735),\n",
       " Candle(c=Decimal('133.72'), figi='BBG000B9XRY4', h=Decimal('135.99'), interval=<CandleResolution.day: 'day'>, l=Decimal('133.41'), o=Decimal('135.1'), time=datetime.datetime(2020, 12, 30, 7, 0, tzinfo=datetime.timezone.utc), v=18890796),\n",
       " Candle(c=Decimal('132.69'), figi='BBG000B9XRY4', h=Decimal('134.71'), interval=<CandleResolution.day: 'day'>, l=Decimal('131.73'), o=Decimal('133.5'), time=datetime.datetime(2020, 12, 31, 7, 0, tzinfo=datetime.timezone.utc), v=23561134),\n",
       " Candle(c=Decimal('129.41'), figi='BBG000B9XRY4', h=Decimal('135'), interval=<CandleResolution.day: 'day'>, l=Decimal('126.78'), o=Decimal('132.99'), time=datetime.datetime(2021, 1, 4, 7, 0, tzinfo=datetime.timezone.utc), v=36048526),\n",
       " Candle(c=Decimal('131.01'), figi='BBG000B9XRY4', h=Decimal('131.74'), interval=<CandleResolution.day: 'day'>, l=Decimal('128.32'), o=Decimal('129.76'), time=datetime.datetime(2021, 1, 5, 7, 0, tzinfo=datetime.timezone.utc), v=20355266),\n",
       " Candle(c=Decimal('126.6'), figi='BBG000B9XRY4', h=Decimal('131.51'), interval=<CandleResolution.day: 'day'>, l=Decimal('126.33'), o=Decimal('130.42'), time=datetime.datetime(2021, 1, 6, 7, 0, tzinfo=datetime.timezone.utc), v=35525626),\n",
       " Candle(c=Decimal('130.92'), figi='BBG000B9XRY4', h=Decimal('131.62'), interval=<CandleResolution.day: 'day'>, l=Decimal('127.11'), o=Decimal('127.51'), time=datetime.datetime(2021, 1, 7, 7, 0, tzinfo=datetime.timezone.utc), v=24404904),\n",
       " Candle(c=Decimal('132.05'), figi='BBG000B9XRY4', h=Decimal('132.79'), interval=<CandleResolution.day: 'day'>, l=Decimal('130.25'), o=Decimal('131'), time=datetime.datetime(2021, 1, 8, 7, 0, tzinfo=datetime.timezone.utc), v=22804683),\n",
       " Candle(c=Decimal('128.98'), figi='BBG000B9XRY4', h=Decimal('132.99'), interval=<CandleResolution.day: 'day'>, l=Decimal('128.54'), o=Decimal('132.44'), time=datetime.datetime(2021, 1, 11, 7, 0, tzinfo=datetime.timezone.utc), v=23293195),\n",
       " Candle(c=Decimal('128.8'), figi='BBG000B9XRY4', h=Decimal('130.0'), interval=<CandleResolution.day: 'day'>, l=Decimal('126.86'), o=Decimal('129.01'), time=datetime.datetime(2021, 1, 12, 7, 0, tzinfo=datetime.timezone.utc), v=17651342),\n",
       " Candle(c=Decimal('130.89'), figi='BBG000B9XRY4', h=Decimal('131.44'), interval=<CandleResolution.day: 'day'>, l=Decimal('128.41'), o=Decimal('129.1'), time=datetime.datetime(2021, 1, 13, 7, 0, tzinfo=datetime.timezone.utc), v=20159509),\n",
       " Candle(c=Decimal('128.91'), figi='BBG000B9XRY4', h=Decimal('131.28'), interval=<CandleResolution.day: 'day'>, l=Decimal('128.78'), o=Decimal('131.15'), time=datetime.datetime(2021, 1, 14, 7, 0, tzinfo=datetime.timezone.utc), v=19886440),\n",
       " Candle(c=Decimal('127.14'), figi='BBG000B9XRY4', h=Decimal('130.2'), interval=<CandleResolution.day: 'day'>, l=Decimal('126.92'), o=Decimal('127.03'), time=datetime.datetime(2021, 1, 15, 7, 0, tzinfo=datetime.timezone.utc), v=28313213),\n",
       " Candle(c=Decimal('127.83'), figi='BBG000B9XRY4', h=Decimal('129.19'), interval=<CandleResolution.day: 'day'>, l=Decimal('126.94'), o=Decimal('128.5'), time=datetime.datetime(2021, 1, 19, 7, 0, tzinfo=datetime.timezone.utc), v=18916421),\n",
       " Candle(c=Decimal('132.03'), figi='BBG000B9XRY4', h=Decimal('132.49'), interval=<CandleResolution.day: 'day'>, l=Decimal('127.82'), o=Decimal('128.5'), time=datetime.datetime(2021, 1, 20, 7, 0, tzinfo=datetime.timezone.utc), v=24242294),\n",
       " Candle(c=Decimal('136.87'), figi='BBG000B9XRY4', h=Decimal('137.5'), interval=<CandleResolution.day: 'day'>, l=Decimal('132.38'), o=Decimal('132.51'), time=datetime.datetime(2021, 1, 21, 7, 0, tzinfo=datetime.timezone.utc), v=23735496),\n",
       " Candle(c=Decimal('139.07'), figi='BBG000B9XRY4', h=Decimal('139.85'), interval=<CandleResolution.day: 'day'>, l=Decimal('134.36'), o=Decimal('137.3'), time=datetime.datetime(2021, 1, 22, 7, 0, tzinfo=datetime.timezone.utc), v=22084450),\n",
       " Candle(c=Decimal('142.92'), figi='BBG000B9XRY4', h=Decimal('145.08'), interval=<CandleResolution.day: 'day'>, l=Decimal('136.55'), o=Decimal('140.35'), time=datetime.datetime(2021, 1, 25, 7, 0, tzinfo=datetime.timezone.utc), v=30653431),\n",
       " Candle(c=Decimal('143.16'), figi='BBG000B9XRY4', h=Decimal('145'), interval=<CandleResolution.day: 'day'>, l=Decimal('140.64'), o=Decimal('142'), time=datetime.datetime(2021, 1, 26, 7, 0, tzinfo=datetime.timezone.utc), v=19015575),\n",
       " Candle(c=Decimal('142.06'), figi='BBG000B9XRY4', h=Decimal('145.14'), interval=<CandleResolution.day: 'day'>, l=Decimal('137.01'), o=Decimal('144.44'), time=datetime.datetime(2021, 1, 27, 7, 0, tzinfo=datetime.timezone.utc), v=33798457),\n",
       " Candle(c=Decimal('137.09'), figi='BBG000B9XRY4', h=Decimal('142.1'), interval=<CandleResolution.day: 'day'>, l=Decimal('135.46'), o=Decimal('138.49'), time=datetime.datetime(2021, 1, 28, 7, 0, tzinfo=datetime.timezone.utc), v=35914916),\n",
       " Candle(c=Decimal('131.96'), figi='BBG000B9XRY4', h=Decimal('137.37'), interval=<CandleResolution.day: 'day'>, l=Decimal('130.22'), o=Decimal('136.4'), time=datetime.datetime(2021, 1, 29, 7, 0, tzinfo=datetime.timezone.utc), v=42468042),\n",
       " Candle(c=Decimal('134.14'), figi='BBG000B9XRY4', h=Decimal('135.38'), interval=<CandleResolution.day: 'day'>, l=Decimal('130.96'), o=Decimal('133.12'), time=datetime.datetime(2021, 2, 1, 7, 0, tzinfo=datetime.timezone.utc), v=25563867),\n",
       " Candle(c=Decimal('134.99'), figi='BBG000B9XRY4', h=Decimal('136.45'), interval=<CandleResolution.day: 'day'>, l=Decimal('134.5'), o=Decimal('134.76'), time=datetime.datetime(2021, 2, 2, 7, 0, tzinfo=datetime.timezone.utc), v=19587632),\n",
       " Candle(c=Decimal('133.94'), figi='BBG000B9XRY4', h=Decimal('136'), interval=<CandleResolution.day: 'day'>, l=Decimal('133.62'), o=Decimal('135.7'), time=datetime.datetime(2021, 2, 3, 7, 0, tzinfo=datetime.timezone.utc), v=18380120),\n",
       " Candle(c=Decimal('137.39'), figi='BBG000B9XRY4', h=Decimal('137.46'), interval=<CandleResolution.day: 'day'>, l=Decimal('134.63'), o=Decimal('136.02'), time=datetime.datetime(2021, 2, 4, 7, 0, tzinfo=datetime.timezone.utc), v=19081589),\n",
       " Candle(c=Decimal('136.76'), figi='BBG000B9XRY4', h=Decimal('138.4'), interval=<CandleResolution.day: 'day'>, l=Decimal('135.87'), o=Decimal('137.32'), time=datetime.datetime(2021, 2, 5, 7, 0, tzinfo=datetime.timezone.utc), v=15678428),\n",
       " Candle(c=Decimal('136.91'), figi='BBG000B9XRY4', h=Decimal('137.91'), interval=<CandleResolution.day: 'day'>, l=Decimal('135'), o=Decimal('137.18'), time=datetime.datetime(2021, 2, 8, 7, 0, tzinfo=datetime.timezone.utc), v=16655834),\n",
       " Candle(c=Decimal('136.01'), figi='BBG000B9XRY4', h=Decimal('137.87'), interval=<CandleResolution.day: 'day'>, l=Decimal('135.8'), o=Decimal('136.01'), time=datetime.datetime(2021, 2, 9, 7, 0, tzinfo=datetime.timezone.utc), v=14578810),\n",
       " Candle(c=Decimal('136.61'), figi='BBG000B9XRY4', h=Decimal('137'), interval=<CandleResolution.day: 'day'>, l=Decimal('136.02'), o=Decimal('136.51'), time=datetime.datetime(2021, 2, 10, 7, 0, tzinfo=datetime.timezone.utc), v=12399)]"
      ]
     },
     "execution_count": 26,
     "metadata": {},
     "output_type": "execute_result"
    }
   ],
   "source": [
    "data.payload.candles"
   ]
  },
  {
   "cell_type": "code",
   "execution_count": 13,
   "metadata": {},
   "outputs": [],
   "source": [
    "df = pd.DataFrame(\n",
    "    data=(\n",
    "        (\n",
    "            candle.time,\n",
    "            candle.o,\n",
    "            candle.h,\n",
    "            candle.l,\n",
    "            candle.c,\n",
    "            candle.v,\n",
    "        ) for candle in data.payload.candles\n",
    "    ),\n",
    "    columns=(\n",
    "        'time',\n",
    "        'open',\n",
    "        'high',\n",
    "        'low',\n",
    "        'close',\n",
    "        'volume',\n",
    "    )\n",
    ")"
   ]
  },
  {
   "cell_type": "code",
   "execution_count": 14,
   "metadata": {},
   "outputs": [
    {
     "data": {
      "text/html": [
       "<div>\n",
       "<style scoped>\n",
       "    .dataframe tbody tr th:only-of-type {\n",
       "        vertical-align: middle;\n",
       "    }\n",
       "\n",
       "    .dataframe tbody tr th {\n",
       "        vertical-align: top;\n",
       "    }\n",
       "\n",
       "    .dataframe thead th {\n",
       "        text-align: right;\n",
       "    }\n",
       "</style>\n",
       "<table border=\"1\" class=\"dataframe\">\n",
       "  <thead>\n",
       "    <tr style=\"text-align: right;\">\n",
       "      <th></th>\n",
       "      <th>time</th>\n",
       "      <th>open</th>\n",
       "      <th>high</th>\n",
       "      <th>low</th>\n",
       "      <th>close</th>\n",
       "      <th>volume</th>\n",
       "    </tr>\n",
       "  </thead>\n",
       "  <tbody>\n",
       "    <tr>\n",
       "      <th>0</th>\n",
       "      <td>2020-02-12 07:00:00+00:00</td>\n",
       "      <td>79.96</td>\n",
       "      <td>81.8375</td>\n",
       "      <td>79.96</td>\n",
       "      <td>81.8</td>\n",
       "      <td>30336764</td>\n",
       "    </tr>\n",
       "    <tr>\n",
       "      <th>1</th>\n",
       "      <td>2020-02-13 07:00:00+00:00</td>\n",
       "      <td>81.1375</td>\n",
       "      <td>81.865</td>\n",
       "      <td>80.255</td>\n",
       "      <td>81.2175</td>\n",
       "      <td>23174296</td>\n",
       "    </tr>\n",
       "    <tr>\n",
       "      <th>2</th>\n",
       "      <td>2020-02-14 07:00:00+00:00</td>\n",
       "      <td>81.3475</td>\n",
       "      <td>81.6125</td>\n",
       "      <td>80.725</td>\n",
       "      <td>81.2375</td>\n",
       "      <td>22025920</td>\n",
       "    </tr>\n",
       "    <tr>\n",
       "      <th>3</th>\n",
       "      <td>2020-02-18 07:00:00+00:00</td>\n",
       "      <td>80.5125</td>\n",
       "      <td>80.755</td>\n",
       "      <td>77.6</td>\n",
       "      <td>79.75</td>\n",
       "      <td>38141376</td>\n",
       "    </tr>\n",
       "    <tr>\n",
       "      <th>4</th>\n",
       "      <td>2020-02-19 07:00:00+00:00</td>\n",
       "      <td>80.01</td>\n",
       "      <td>81.1375</td>\n",
       "      <td>79.6725</td>\n",
       "      <td>80.905</td>\n",
       "      <td>28958280</td>\n",
       "    </tr>\n",
       "  </tbody>\n",
       "</table>\n",
       "</div>"
      ],
      "text/plain": [
       "                       time     open     high      low    close    volume\n",
       "0 2020-02-12 07:00:00+00:00    79.96  81.8375    79.96     81.8  30336764\n",
       "1 2020-02-13 07:00:00+00:00  81.1375   81.865   80.255  81.2175  23174296\n",
       "2 2020-02-14 07:00:00+00:00  81.3475  81.6125   80.725  81.2375  22025920\n",
       "3 2020-02-18 07:00:00+00:00  80.5125   80.755     77.6    79.75  38141376\n",
       "4 2020-02-19 07:00:00+00:00    80.01  81.1375  79.6725   80.905  28958280"
      ]
     },
     "execution_count": 14,
     "metadata": {},
     "output_type": "execute_result"
    }
   ],
   "source": [
    "df.head()"
   ]
  },
  {
   "cell_type": "code",
   "execution_count": 15,
   "metadata": {},
   "outputs": [
    {
     "data": {
      "text/html": [
       "<div>\n",
       "<style scoped>\n",
       "    .dataframe tbody tr th:only-of-type {\n",
       "        vertical-align: middle;\n",
       "    }\n",
       "\n",
       "    .dataframe tbody tr th {\n",
       "        vertical-align: top;\n",
       "    }\n",
       "\n",
       "    .dataframe thead th {\n",
       "        text-align: right;\n",
       "    }\n",
       "</style>\n",
       "<table border=\"1\" class=\"dataframe\">\n",
       "  <thead>\n",
       "    <tr style=\"text-align: right;\">\n",
       "      <th></th>\n",
       "      <th>time</th>\n",
       "      <th>open</th>\n",
       "      <th>high</th>\n",
       "      <th>low</th>\n",
       "      <th>close</th>\n",
       "      <th>volume</th>\n",
       "    </tr>\n",
       "  </thead>\n",
       "  <tbody>\n",
       "    <tr>\n",
       "      <th>247</th>\n",
       "      <td>2021-02-04 07:00:00+00:00</td>\n",
       "      <td>136.02</td>\n",
       "      <td>137.46</td>\n",
       "      <td>134.63</td>\n",
       "      <td>137.39</td>\n",
       "      <td>19081589</td>\n",
       "    </tr>\n",
       "    <tr>\n",
       "      <th>248</th>\n",
       "      <td>2021-02-05 07:00:00+00:00</td>\n",
       "      <td>137.32</td>\n",
       "      <td>138.4</td>\n",
       "      <td>135.87</td>\n",
       "      <td>136.76</td>\n",
       "      <td>15678428</td>\n",
       "    </tr>\n",
       "    <tr>\n",
       "      <th>249</th>\n",
       "      <td>2021-02-08 07:00:00+00:00</td>\n",
       "      <td>137.18</td>\n",
       "      <td>137.91</td>\n",
       "      <td>135</td>\n",
       "      <td>136.91</td>\n",
       "      <td>16655834</td>\n",
       "    </tr>\n",
       "    <tr>\n",
       "      <th>250</th>\n",
       "      <td>2021-02-09 07:00:00+00:00</td>\n",
       "      <td>136.01</td>\n",
       "      <td>137.87</td>\n",
       "      <td>135.8</td>\n",
       "      <td>136.01</td>\n",
       "      <td>14578810</td>\n",
       "    </tr>\n",
       "    <tr>\n",
       "      <th>251</th>\n",
       "      <td>2021-02-10 07:00:00+00:00</td>\n",
       "      <td>136.51</td>\n",
       "      <td>137</td>\n",
       "      <td>136.02</td>\n",
       "      <td>136.48</td>\n",
       "      <td>29670</td>\n",
       "    </tr>\n",
       "  </tbody>\n",
       "</table>\n",
       "</div>"
      ],
      "text/plain": [
       "                         time    open    high     low   close    volume\n",
       "247 2021-02-04 07:00:00+00:00  136.02  137.46  134.63  137.39  19081589\n",
       "248 2021-02-05 07:00:00+00:00  137.32   138.4  135.87  136.76  15678428\n",
       "249 2021-02-08 07:00:00+00:00  137.18  137.91     135  136.91  16655834\n",
       "250 2021-02-09 07:00:00+00:00  136.01  137.87   135.8  136.01  14578810\n",
       "251 2021-02-10 07:00:00+00:00  136.51     137  136.02  136.48     29670"
      ]
     },
     "execution_count": 15,
     "metadata": {},
     "output_type": "execute_result"
    }
   ],
   "source": [
    "df.tail()"
   ]
  },
  {
   "cell_type": "code",
   "execution_count": null,
   "metadata": {},
   "outputs": [],
   "source": []
  },
  {
   "cell_type": "markdown",
   "metadata": {},
   "source": [
    "#### 2. Save to DB"
   ]
  },
  {
   "cell_type": "code",
   "execution_count": 16,
   "metadata": {},
   "outputs": [],
   "source": [
    "import psycopg2\n",
    "from io import StringIO\n",
    "import csv"
   ]
  },
  {
   "cell_type": "code",
   "execution_count": 17,
   "metadata": {},
   "outputs": [
    {
     "data": {
      "text/html": [
       "<div>\n",
       "<style scoped>\n",
       "    .dataframe tbody tr th:only-of-type {\n",
       "        vertical-align: middle;\n",
       "    }\n",
       "\n",
       "    .dataframe tbody tr th {\n",
       "        vertical-align: top;\n",
       "    }\n",
       "\n",
       "    .dataframe thead th {\n",
       "        text-align: right;\n",
       "    }\n",
       "</style>\n",
       "<table border=\"1\" class=\"dataframe\">\n",
       "  <thead>\n",
       "    <tr style=\"text-align: right;\">\n",
       "      <th></th>\n",
       "      <th>time</th>\n",
       "      <th>open</th>\n",
       "      <th>high</th>\n",
       "      <th>low</th>\n",
       "      <th>close</th>\n",
       "      <th>volume</th>\n",
       "    </tr>\n",
       "  </thead>\n",
       "  <tbody>\n",
       "    <tr>\n",
       "      <th>0</th>\n",
       "      <td>2020-02-12 07:00:00+00:00</td>\n",
       "      <td>79.96</td>\n",
       "      <td>81.8375</td>\n",
       "      <td>79.96</td>\n",
       "      <td>81.8</td>\n",
       "      <td>30336764</td>\n",
       "    </tr>\n",
       "    <tr>\n",
       "      <th>1</th>\n",
       "      <td>2020-02-13 07:00:00+00:00</td>\n",
       "      <td>81.1375</td>\n",
       "      <td>81.865</td>\n",
       "      <td>80.255</td>\n",
       "      <td>81.2175</td>\n",
       "      <td>23174296</td>\n",
       "    </tr>\n",
       "    <tr>\n",
       "      <th>2</th>\n",
       "      <td>2020-02-14 07:00:00+00:00</td>\n",
       "      <td>81.3475</td>\n",
       "      <td>81.6125</td>\n",
       "      <td>80.725</td>\n",
       "      <td>81.2375</td>\n",
       "      <td>22025920</td>\n",
       "    </tr>\n",
       "    <tr>\n",
       "      <th>3</th>\n",
       "      <td>2020-02-18 07:00:00+00:00</td>\n",
       "      <td>80.5125</td>\n",
       "      <td>80.755</td>\n",
       "      <td>77.6</td>\n",
       "      <td>79.75</td>\n",
       "      <td>38141376</td>\n",
       "    </tr>\n",
       "    <tr>\n",
       "      <th>4</th>\n",
       "      <td>2020-02-19 07:00:00+00:00</td>\n",
       "      <td>80.01</td>\n",
       "      <td>81.1375</td>\n",
       "      <td>79.6725</td>\n",
       "      <td>80.905</td>\n",
       "      <td>28958280</td>\n",
       "    </tr>\n",
       "  </tbody>\n",
       "</table>\n",
       "</div>"
      ],
      "text/plain": [
       "                       time     open     high      low    close    volume\n",
       "0 2020-02-12 07:00:00+00:00    79.96  81.8375    79.96     81.8  30336764\n",
       "1 2020-02-13 07:00:00+00:00  81.1375   81.865   80.255  81.2175  23174296\n",
       "2 2020-02-14 07:00:00+00:00  81.3475  81.6125   80.725  81.2375  22025920\n",
       "3 2020-02-18 07:00:00+00:00  80.5125   80.755     77.6    79.75  38141376\n",
       "4 2020-02-19 07:00:00+00:00    80.01  81.1375  79.6725   80.905  28958280"
      ]
     },
     "execution_count": 17,
     "metadata": {},
     "output_type": "execute_result"
    }
   ],
   "source": [
    "df.head()"
   ]
  },
  {
   "cell_type": "code",
   "execution_count": 18,
   "metadata": {},
   "outputs": [
    {
     "name": "stdout",
     "output_type": "stream",
     "text": [
      "<class 'pandas.core.frame.DataFrame'>\n",
      "RangeIndex: 252 entries, 0 to 251\n",
      "Data columns (total 6 columns):\n",
      " #   Column  Non-Null Count  Dtype              \n",
      "---  ------  --------------  -----              \n",
      " 0   time    252 non-null    datetime64[ns, UTC]\n",
      " 1   open    252 non-null    object             \n",
      " 2   high    252 non-null    object             \n",
      " 3   low     252 non-null    object             \n",
      " 4   close   252 non-null    object             \n",
      " 5   volume  252 non-null    int64              \n",
      "dtypes: datetime64[ns, UTC](1), int64(1), object(4)\n",
      "memory usage: 11.9+ KB\n"
     ]
    }
   ],
   "source": [
    "df.info()"
   ]
  },
  {
   "cell_type": "code",
   "execution_count": 19,
   "metadata": {},
   "outputs": [],
   "source": [
    "df.loc[:, 'open':'close'] = df.loc[:, 'open':'close'].astype('float16')"
   ]
  },
  {
   "cell_type": "code",
   "execution_count": 20,
   "metadata": {},
   "outputs": [
    {
     "name": "stdout",
     "output_type": "stream",
     "text": [
      "<class 'pandas.core.frame.DataFrame'>\n",
      "RangeIndex: 252 entries, 0 to 251\n",
      "Data columns (total 6 columns):\n",
      " #   Column  Non-Null Count  Dtype              \n",
      "---  ------  --------------  -----              \n",
      " 0   time    252 non-null    datetime64[ns, UTC]\n",
      " 1   open    252 non-null    float16            \n",
      " 2   high    252 non-null    float16            \n",
      " 3   low     252 non-null    float16            \n",
      " 4   close   252 non-null    float16            \n",
      " 5   volume  252 non-null    int64              \n",
      "dtypes: datetime64[ns, UTC](1), float16(4), int64(1)\n",
      "memory usage: 6.0 KB\n"
     ]
    }
   ],
   "source": [
    "df.info()"
   ]
  },
  {
   "cell_type": "code",
   "execution_count": 21,
   "metadata": {},
   "outputs": [],
   "source": [
    "login = 'trader'\n",
    "password = 'income'\n",
    "host = 'localhost'\n",
    "port = 5432\n",
    "dbname = 'stocks'"
   ]
  },
  {
   "cell_type": "code",
   "execution_count": 22,
   "metadata": {},
   "outputs": [],
   "source": [
    "DB_URL = f'user={login} password={password} host={host} port={port} dbname={dbname}'"
   ]
  },
  {
   "cell_type": "code",
   "execution_count": 23,
   "metadata": {},
   "outputs": [
    {
     "data": {
      "text/plain": [
       "'user=trader password=income host=localhost port=5432 dbname=stocks'"
      ]
     },
     "execution_count": 23,
     "metadata": {},
     "output_type": "execute_result"
    }
   ],
   "source": [
    "DB_URL"
   ]
  },
  {
   "cell_type": "code",
   "execution_count": 24,
   "metadata": {},
   "outputs": [],
   "source": [
    "def load_df_to_db(df: pd.DataFrame, table_name: str) -> None:\n",
    "    buffer = StringIO()\n",
    "    df.to_csv(buffer, index=False, sep='|', na_rep='NUL', quoting=csv.QUOTE_MINIMAL,\n",
    "             header=False, float_format='%.8f', doublequote=False, escapechar='\\\\')\n",
    "    buffer.seek(0)\n",
    "    copy_query = f\"\"\"\n",
    "        COPY {table_name}({','.join(df.columns)})\n",
    "        FROM STDIN\n",
    "        DELIMITER '|'\n",
    "        NULL 'NUL'\n",
    "    \"\"\"\n",
    "    conn = psycopg2.connect(dsn=DB_URL)\n",
    "    with conn.cursor() as cursor:\n",
    "        cursor.copy_expert(copy_query, buffer)\n",
    "    conn.commit()\n",
    "    conn.close()"
   ]
  },
  {
   "cell_type": "code",
   "execution_count": 25,
   "metadata": {},
   "outputs": [],
   "source": [
    "load_df_to_db(df, 'aapl')"
   ]
  },
  {
   "cell_type": "code",
   "execution_count": null,
   "metadata": {},
   "outputs": [],
   "source": []
  },
  {
   "cell_type": "code",
   "execution_count": null,
   "metadata": {},
   "outputs": [],
   "source": []
  },
  {
   "cell_type": "code",
   "execution_count": null,
   "metadata": {},
   "outputs": [],
   "source": []
  }
 ],
 "metadata": {
  "kernelspec": {
   "display_name": "Python 3",
   "language": "python",
   "name": "python3"
  },
  "language_info": {
   "codemirror_mode": {
    "name": "ipython",
    "version": 3
   },
   "file_extension": ".py",
   "mimetype": "text/x-python",
   "name": "python",
   "nbconvert_exporter": "python",
   "pygments_lexer": "ipython3",
   "version": "3.8.5"
  }
 },
 "nbformat": 4,
 "nbformat_minor": 4
}
