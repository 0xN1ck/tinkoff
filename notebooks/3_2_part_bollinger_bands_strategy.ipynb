{
 "cells": [
  {
   "cell_type": "code",
   "execution_count": 34,
   "id": "fed95191",
   "metadata": {},
   "outputs": [
    {
     "name": "stdout",
     "output_type": "stream",
     "text": [
      "db.py  __pycache__  strategy.py  tinkoff.py\r\n"
     ]
    }
   ],
   "source": [
    "!ls ../airflow/plugins/utils/"
   ]
  },
  {
   "cell_type": "code",
   "execution_count": 35,
   "id": "34dc5fb6",
   "metadata": {},
   "outputs": [],
   "source": [
    "import sys \n",
    "sys.path.insert(0, '../airflow/plugins/utils/')"
   ]
  },
  {
   "cell_type": "code",
   "execution_count": 36,
   "id": "3c8967ba",
   "metadata": {},
   "outputs": [],
   "source": [
    "import pandas as pd\n",
    "import numpy as np\n",
    "import db\n",
    "import matplotlib.pyplot as plt"
   ]
  },
  {
   "cell_type": "code",
   "execution_count": 37,
   "id": "194d176c",
   "metadata": {},
   "outputs": [],
   "source": [
    "def _get_db_url(connector: str) -> str:\n",
    "    return f'user=trader password=income host=localhost port=5432 dbname=stocks'"
   ]
  },
  {
   "cell_type": "code",
   "execution_count": 38,
   "id": "ed35f50e",
   "metadata": {},
   "outputs": [],
   "source": [
    "db._get_db_url = _get_db_url"
   ]
  },
  {
   "cell_type": "code",
   "execution_count": 39,
   "id": "fd75c90e",
   "metadata": {},
   "outputs": [],
   "source": [
    "data = db.get_data_from_table('aaaa', 'aapl')"
   ]
  },
  {
   "cell_type": "code",
   "execution_count": 40,
   "id": "45ca8a22",
   "metadata": {},
   "outputs": [
    {
     "data": {
      "text/html": [
       "<div>\n",
       "<style scoped>\n",
       "    .dataframe tbody tr th:only-of-type {\n",
       "        vertical-align: middle;\n",
       "    }\n",
       "\n",
       "    .dataframe tbody tr th {\n",
       "        vertical-align: top;\n",
       "    }\n",
       "\n",
       "    .dataframe thead th {\n",
       "        text-align: right;\n",
       "    }\n",
       "</style>\n",
       "<table border=\"1\" class=\"dataframe\">\n",
       "  <thead>\n",
       "    <tr style=\"text-align: right;\">\n",
       "      <th></th>\n",
       "      <th>time</th>\n",
       "      <th>open</th>\n",
       "      <th>high</th>\n",
       "      <th>low</th>\n",
       "      <th>close</th>\n",
       "      <th>volume</th>\n",
       "    </tr>\n",
       "  </thead>\n",
       "  <tbody>\n",
       "    <tr>\n",
       "      <th>0</th>\n",
       "      <td>2020-12-21 07:00:00</td>\n",
       "      <td>127.63</td>\n",
       "      <td>132.00</td>\n",
       "      <td>123.13</td>\n",
       "      <td>128.25</td>\n",
       "      <td>30421273</td>\n",
       "    </tr>\n",
       "    <tr>\n",
       "      <th>1</th>\n",
       "      <td>2020-12-22 07:00:00</td>\n",
       "      <td>128.75</td>\n",
       "      <td>134.38</td>\n",
       "      <td>127.25</td>\n",
       "      <td>131.88</td>\n",
       "      <td>31510984</td>\n",
       "    </tr>\n",
       "    <tr>\n",
       "      <th>2</th>\n",
       "      <td>2020-12-23 07:00:00</td>\n",
       "      <td>130.50</td>\n",
       "      <td>132.75</td>\n",
       "      <td>130.50</td>\n",
       "      <td>131.00</td>\n",
       "      <td>20511617</td>\n",
       "    </tr>\n",
       "    <tr>\n",
       "      <th>3</th>\n",
       "      <td>2020-12-24 07:00:00</td>\n",
       "      <td>131.13</td>\n",
       "      <td>133.50</td>\n",
       "      <td>130.63</td>\n",
       "      <td>132.00</td>\n",
       "      <td>9470208</td>\n",
       "    </tr>\n",
       "    <tr>\n",
       "      <th>4</th>\n",
       "      <td>2020-12-28 07:00:00</td>\n",
       "      <td>133.13</td>\n",
       "      <td>137.38</td>\n",
       "      <td>131.75</td>\n",
       "      <td>136.75</td>\n",
       "      <td>23459873</td>\n",
       "    </tr>\n",
       "    <tr>\n",
       "      <th>...</th>\n",
       "      <td>...</td>\n",
       "      <td>...</td>\n",
       "      <td>...</td>\n",
       "      <td>...</td>\n",
       "      <td>...</td>\n",
       "      <td>...</td>\n",
       "    </tr>\n",
       "    <tr>\n",
       "      <th>246</th>\n",
       "      <td>2021-12-13 04:00:00</td>\n",
       "      <td>179.00</td>\n",
       "      <td>182.25</td>\n",
       "      <td>175.25</td>\n",
       "      <td>175.75</td>\n",
       "      <td>27970084</td>\n",
       "    </tr>\n",
       "    <tr>\n",
       "      <th>247</th>\n",
       "      <td>2021-12-14 04:00:00</td>\n",
       "      <td>175.63</td>\n",
       "      <td>178.13</td>\n",
       "      <td>174.38</td>\n",
       "      <td>174.38</td>\n",
       "      <td>30671309</td>\n",
       "    </tr>\n",
       "    <tr>\n",
       "      <th>248</th>\n",
       "      <td>2021-12-15 04:00:00</td>\n",
       "      <td>173.75</td>\n",
       "      <td>180.00</td>\n",
       "      <td>172.25</td>\n",
       "      <td>179.25</td>\n",
       "      <td>28111891</td>\n",
       "    </tr>\n",
       "    <tr>\n",
       "      <th>249</th>\n",
       "      <td>2021-12-16 04:00:00</td>\n",
       "      <td>179.13</td>\n",
       "      <td>181.13</td>\n",
       "      <td>170.75</td>\n",
       "      <td>172.25</td>\n",
       "      <td>32089783</td>\n",
       "    </tr>\n",
       "    <tr>\n",
       "      <th>250</th>\n",
       "      <td>2021-12-17 04:00:00</td>\n",
       "      <td>172.25</td>\n",
       "      <td>173.50</td>\n",
       "      <td>169.13</td>\n",
       "      <td>171.38</td>\n",
       "      <td>74824907</td>\n",
       "    </tr>\n",
       "  </tbody>\n",
       "</table>\n",
       "<p>251 rows × 6 columns</p>\n",
       "</div>"
      ],
      "text/plain": [
       "                   time    open    high     low   close    volume\n",
       "0   2020-12-21 07:00:00  127.63  132.00  123.13  128.25  30421273\n",
       "1   2020-12-22 07:00:00  128.75  134.38  127.25  131.88  31510984\n",
       "2   2020-12-23 07:00:00  130.50  132.75  130.50  131.00  20511617\n",
       "3   2020-12-24 07:00:00  131.13  133.50  130.63  132.00   9470208\n",
       "4   2020-12-28 07:00:00  133.13  137.38  131.75  136.75  23459873\n",
       "..                  ...     ...     ...     ...     ...       ...\n",
       "246 2021-12-13 04:00:00  179.00  182.25  175.25  175.75  27970084\n",
       "247 2021-12-14 04:00:00  175.63  178.13  174.38  174.38  30671309\n",
       "248 2021-12-15 04:00:00  173.75  180.00  172.25  179.25  28111891\n",
       "249 2021-12-16 04:00:00  179.13  181.13  170.75  172.25  32089783\n",
       "250 2021-12-17 04:00:00  172.25  173.50  169.13  171.38  74824907\n",
       "\n",
       "[251 rows x 6 columns]"
      ]
     },
     "execution_count": 40,
     "metadata": {},
     "output_type": "execute_result"
    }
   ],
   "source": [
    "data"
   ]
  },
  {
   "cell_type": "code",
   "execution_count": 41,
   "id": "486e2b7a",
   "metadata": {},
   "outputs": [],
   "source": [
    "SMA = 30\n",
    "DEV = 2"
   ]
  },
  {
   "cell_type": "code",
   "execution_count": 42,
   "id": "d0dd070e",
   "metadata": {},
   "outputs": [],
   "source": [
    "data['sma'] = data['close'].rolling(SMA).mean()"
   ]
  },
  {
   "cell_type": "code",
   "execution_count": 43,
   "id": "77e2ae5a",
   "metadata": {},
   "outputs": [],
   "source": [
    "std = data['close'].rolling(SMA).std() * DEV"
   ]
  },
  {
   "cell_type": "code",
   "execution_count": 44,
   "id": "05e7c100",
   "metadata": {},
   "outputs": [],
   "source": [
    "data['lower'] = data['sma'] - std\n",
    "data['upper'] = data['sma'] + std"
   ]
  },
  {
   "cell_type": "code",
   "execution_count": 45,
   "id": "afc6b3ae",
   "metadata": {},
   "outputs": [
    {
     "data": {
      "text/plain": [
       "<AxesSubplot:title={'center':'Bollinger Bands with SMA: 30 and 2 std'}>"
      ]
     },
     "execution_count": 45,
     "metadata": {},
     "output_type": "execute_result"
    },
    {
     "data": {
      "image/png": "[encoded data removed]",
      "text/plain": [
       "<Figure size 864x576 with 1 Axes>"
      ]
     },
     "metadata": {
      "needs_background": "light"
     },
     "output_type": "display_data"
    }
   ],
   "source": [
    "data[['close', 'sma', 'lower', 'upper']] \\\n",
    "    .plot(figsize=(12,8), title=f'Bollinger Bands with SMA: {SMA} and {DEV} std')"
   ]
  },
  {
   "cell_type": "code",
   "execution_count": 46,
   "id": "1d6cc24b",
   "metadata": {},
   "outputs": [],
   "source": [
    "data['distance'] = data['close'] - data['sma']"
   ]
  },
  {
   "cell_type": "code",
   "execution_count": 47,
   "id": "40943c3a",
   "metadata": {},
   "outputs": [],
   "source": [
    "data['position'] = np.where(data['close'] < data['lower'], 1 ,np.nan)"
   ]
  },
  {
   "cell_type": "code",
   "execution_count": 48,
   "id": "7c198b3e",
   "metadata": {},
   "outputs": [],
   "source": [
    "data['position'] = np.where(data['close'] > data['upper'], -1, data['position'])"
   ]
  },
  {
   "cell_type": "code",
   "execution_count": 49,
   "id": "50e3e67c",
   "metadata": {},
   "outputs": [],
   "source": [
    "data['position'] = np.where(data['distance'] * data['distance'].shift(1) < 0, 0, data['position'])"
   ]
  },
  {
   "cell_type": "code",
   "execution_count": 51,
   "id": "97b24c66",
   "metadata": {},
   "outputs": [],
   "source": [
    "data['position'] = data['position'].ffill().fillna(0)"
   ]
  },
  {
   "cell_type": "code",
   "execution_count": 55,
   "id": "419341cf",
   "metadata": {},
   "outputs": [
    {
     "data": {
      "text/plain": [
       "-1.0    106\n",
       " 0.0    100\n",
       " 1.0     45\n",
       "Name: position, dtype: int64"
      ]
     },
     "execution_count": 55,
     "metadata": {},
     "output_type": "execute_result"
    }
   ],
   "source": [
    "data['position'].value_counts()"
   ]
  },
  {
   "cell_type": "code",
   "execution_count": 56,
   "id": "6dad0b35",
   "metadata": {},
   "outputs": [
    {
     "data": {
      "text/html": [
       "<div>\n",
       "<style scoped>\n",
       "    .dataframe tbody tr th:only-of-type {\n",
       "        vertical-align: middle;\n",
       "    }\n",
       "\n",
       "    .dataframe tbody tr th {\n",
       "        vertical-align: top;\n",
       "    }\n",
       "\n",
       "    .dataframe thead th {\n",
       "        text-align: right;\n",
       "    }\n",
       "</style>\n",
       "<table border=\"1\" class=\"dataframe\">\n",
       "  <thead>\n",
       "    <tr style=\"text-align: right;\">\n",
       "      <th></th>\n",
       "      <th>time</th>\n",
       "      <th>open</th>\n",
       "      <th>high</th>\n",
       "      <th>low</th>\n",
       "      <th>close</th>\n",
       "      <th>volume</th>\n",
       "      <th>sma</th>\n",
       "      <th>lower</th>\n",
       "      <th>upper</th>\n",
       "      <th>distance</th>\n",
       "      <th>position</th>\n",
       "    </tr>\n",
       "  </thead>\n",
       "  <tbody>\n",
       "    <tr>\n",
       "      <th>246</th>\n",
       "      <td>2021-12-13 04:00:00</td>\n",
       "      <td>179.00</td>\n",
       "      <td>182.25</td>\n",
       "      <td>175.25</td>\n",
       "      <td>175.75</td>\n",
       "      <td>27970084</td>\n",
       "      <td>159.034667</td>\n",
       "      <td>140.368806</td>\n",
       "      <td>177.700528</td>\n",
       "      <td>16.715333</td>\n",
       "      <td>-1.0</td>\n",
       "    </tr>\n",
       "    <tr>\n",
       "      <th>247</th>\n",
       "      <td>2021-12-14 04:00:00</td>\n",
       "      <td>175.63</td>\n",
       "      <td>178.13</td>\n",
       "      <td>174.38</td>\n",
       "      <td>174.38</td>\n",
       "      <td>30671309</td>\n",
       "      <td>159.880667</td>\n",
       "      <td>140.800735</td>\n",
       "      <td>178.960598</td>\n",
       "      <td>14.499333</td>\n",
       "      <td>-1.0</td>\n",
       "    </tr>\n",
       "    <tr>\n",
       "      <th>248</th>\n",
       "      <td>2021-12-15 04:00:00</td>\n",
       "      <td>173.75</td>\n",
       "      <td>180.00</td>\n",
       "      <td>172.25</td>\n",
       "      <td>179.25</td>\n",
       "      <td>28111891</td>\n",
       "      <td>160.855667</td>\n",
       "      <td>140.895907</td>\n",
       "      <td>180.815427</td>\n",
       "      <td>18.394333</td>\n",
       "      <td>-1.0</td>\n",
       "    </tr>\n",
       "    <tr>\n",
       "      <th>249</th>\n",
       "      <td>2021-12-16 04:00:00</td>\n",
       "      <td>179.13</td>\n",
       "      <td>181.13</td>\n",
       "      <td>170.75</td>\n",
       "      <td>172.25</td>\n",
       "      <td>32089783</td>\n",
       "      <td>161.547333</td>\n",
       "      <td>141.491231</td>\n",
       "      <td>181.603435</td>\n",
       "      <td>10.702667</td>\n",
       "      <td>-1.0</td>\n",
       "    </tr>\n",
       "    <tr>\n",
       "      <th>250</th>\n",
       "      <td>2021-12-17 04:00:00</td>\n",
       "      <td>172.25</td>\n",
       "      <td>173.50</td>\n",
       "      <td>169.13</td>\n",
       "      <td>171.38</td>\n",
       "      <td>74824907</td>\n",
       "      <td>162.226667</td>\n",
       "      <td>142.268494</td>\n",
       "      <td>182.184839</td>\n",
       "      <td>9.153333</td>\n",
       "      <td>-1.0</td>\n",
       "    </tr>\n",
       "  </tbody>\n",
       "</table>\n",
       "</div>"
      ],
      "text/plain": [
       "                   time    open    high     low   close    volume         sma  \\\n",
       "246 2021-12-13 04:00:00  179.00  182.25  175.25  175.75  27970084  159.034667   \n",
       "247 2021-12-14 04:00:00  175.63  178.13  174.38  174.38  30671309  159.880667   \n",
       "248 2021-12-15 04:00:00  173.75  180.00  172.25  179.25  28111891  160.855667   \n",
       "249 2021-12-16 04:00:00  179.13  181.13  170.75  172.25  32089783  161.547333   \n",
       "250 2021-12-17 04:00:00  172.25  173.50  169.13  171.38  74824907  162.226667   \n",
       "\n",
       "          lower       upper   distance  position  \n",
       "246  140.368806  177.700528  16.715333      -1.0  \n",
       "247  140.800735  178.960598  14.499333      -1.0  \n",
       "248  140.895907  180.815427  18.394333      -1.0  \n",
       "249  141.491231  181.603435  10.702667      -1.0  \n",
       "250  142.268494  182.184839   9.153333      -1.0  "
      ]
     },
     "execution_count": 56,
     "metadata": {},
     "output_type": "execute_result"
    }
   ],
   "source": [
    "data.tail()"
   ]
  },
  {
   "cell_type": "code",
   "execution_count": null,
   "id": "100590fe",
   "metadata": {},
   "outputs": [],
   "source": []
  }
 ],
 "metadata": {
  "kernelspec": {
   "display_name": "Python 3 (ipykernel)",
   "language": "python",
   "name": "python3"
  },
  "language_info": {
   "codemirror_mode": {
    "name": "ipython",
    "version": 3
   },
   "file_extension": ".py",
   "mimetype": "text/x-python",
   "name": "python",
   "nbconvert_exporter": "python",
   "pygments_lexer": "ipython3",
   "version": "3.9.7"
  },
  "nbTranslate": {
   "displayLangs": [
    "*"
   ],
   "hotkey": "alt-t",
   "langInMainMenu": true,
   "sourceLang": "en",
   "targetLang": "fr",
   "useGoogleTranslate": true
  }
 },
 "nbformat": 4,
 "nbformat_minor": 5
}
