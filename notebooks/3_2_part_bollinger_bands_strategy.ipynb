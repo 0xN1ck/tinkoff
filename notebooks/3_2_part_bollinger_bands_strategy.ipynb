{
 "cells": [
  {
   "cell_type": "code",
   "execution_count": 1,
   "metadata": {},
   "outputs": [
    {
     "name": "stdout",
     "output_type": "stream",
     "text": [
      "db.py  __pycache__  strategy.py  tinkoff.py\r\n"
     ]
    }
   ],
   "source": [
    "!ls ../airflow/plugins/utils/"
   ]
  },
  {
   "cell_type": "code",
   "execution_count": 2,
   "metadata": {},
   "outputs": [],
   "source": [
    "import sys\n",
    "sys.path.insert(0, '../airflow/plugins/utils/')"
   ]
  },
  {
   "cell_type": "code",
   "execution_count": 3,
   "metadata": {},
   "outputs": [],
   "source": [
    "import pandas as pd\n",
    "import numpy as np\n",
    "import db\n",
    "import matplotlib.pyplot as plt"
   ]
  },
  {
   "cell_type": "code",
   "execution_count": 4,
   "metadata": {},
   "outputs": [],
   "source": [
    "def _get_db_url(connector: str) -> str:\n",
    "    return 'user=trader password=income host=localhost port=5432 dbname=stocks'"
   ]
  },
  {
   "cell_type": "code",
   "execution_count": 5,
   "metadata": {},
   "outputs": [],
   "source": [
    "db._get_db_url = _get_db_url"
   ]
  },
  {
   "cell_type": "code",
   "execution_count": 6,
   "metadata": {},
   "outputs": [],
   "source": [
    "data = db.get_data_from_table('adsdf', 'aapl')"
   ]
  },
  {
   "cell_type": "code",
   "execution_count": 7,
   "metadata": {},
   "outputs": [
    {
     "data": {
      "text/html": [
       "<div>\n",
       "<style scoped>\n",
       "    .dataframe tbody tr th:only-of-type {\n",
       "        vertical-align: middle;\n",
       "    }\n",
       "\n",
       "    .dataframe tbody tr th {\n",
       "        vertical-align: top;\n",
       "    }\n",
       "\n",
       "    .dataframe thead th {\n",
       "        text-align: right;\n",
       "    }\n",
       "</style>\n",
       "<table border=\"1\" class=\"dataframe\">\n",
       "  <thead>\n",
       "    <tr style=\"text-align: right;\">\n",
       "      <th></th>\n",
       "      <th>time</th>\n",
       "      <th>open</th>\n",
       "      <th>high</th>\n",
       "      <th>low</th>\n",
       "      <th>close</th>\n",
       "      <th>volume</th>\n",
       "    </tr>\n",
       "  </thead>\n",
       "  <tbody>\n",
       "    <tr>\n",
       "      <th>0</th>\n",
       "      <td>2020-02-18 07:00:00</td>\n",
       "      <td>80.51</td>\n",
       "      <td>80.76</td>\n",
       "      <td>77.60</td>\n",
       "      <td>79.75</td>\n",
       "      <td>38141376</td>\n",
       "    </tr>\n",
       "    <tr>\n",
       "      <th>1</th>\n",
       "      <td>2020-02-19 07:00:00</td>\n",
       "      <td>80.01</td>\n",
       "      <td>81.14</td>\n",
       "      <td>79.67</td>\n",
       "      <td>80.91</td>\n",
       "      <td>28958280</td>\n",
       "    </tr>\n",
       "    <tr>\n",
       "      <th>2</th>\n",
       "      <td>2020-02-20 07:00:00</td>\n",
       "      <td>81.21</td>\n",
       "      <td>81.25</td>\n",
       "      <td>79.50</td>\n",
       "      <td>80.08</td>\n",
       "      <td>25971548</td>\n",
       "    </tr>\n",
       "    <tr>\n",
       "      <th>3</th>\n",
       "      <td>2020-02-21 07:00:00</td>\n",
       "      <td>79.51</td>\n",
       "      <td>80.10</td>\n",
       "      <td>77.63</td>\n",
       "      <td>78.26</td>\n",
       "      <td>41238888</td>\n",
       "    </tr>\n",
       "    <tr>\n",
       "      <th>4</th>\n",
       "      <td>2020-02-24 07:00:00</td>\n",
       "      <td>76.75</td>\n",
       "      <td>77.27</td>\n",
       "      <td>72.31</td>\n",
       "      <td>74.55</td>\n",
       "      <td>74369592</td>\n",
       "    </tr>\n",
       "  </tbody>\n",
       "</table>\n",
       "</div>"
      ],
      "text/plain": [
       "                 time   open   high    low  close    volume\n",
       "0 2020-02-18 07:00:00  80.51  80.76  77.60  79.75  38141376\n",
       "1 2020-02-19 07:00:00  80.01  81.14  79.67  80.91  28958280\n",
       "2 2020-02-20 07:00:00  81.21  81.25  79.50  80.08  25971548\n",
       "3 2020-02-21 07:00:00  79.51  80.10  77.63  78.26  41238888\n",
       "4 2020-02-24 07:00:00  76.75  77.27  72.31  74.55  74369592"
      ]
     },
     "execution_count": 7,
     "metadata": {},
     "output_type": "execute_result"
    }
   ],
   "source": [
    "data.head()"
   ]
  },
  {
   "cell_type": "code",
   "execution_count": 8,
   "metadata": {},
   "outputs": [],
   "source": [
    "SMA = 30\n",
    "DEV = 2"
   ]
  },
  {
   "cell_type": "code",
   "execution_count": 9,
   "metadata": {},
   "outputs": [],
   "source": [
    "data['sma'] = data['close'].rolling(SMA).mean()"
   ]
  },
  {
   "cell_type": "code",
   "execution_count": 10,
   "metadata": {},
   "outputs": [
    {
     "name": "stdout",
     "output_type": "stream",
     "text": [
      "[\u001b[34m2021-02-20 22:23:49,581\u001b[0m] {\u001b[34mutils.py:\u001b[0m141} INFO\u001b[0m - NumExpr defaulting to 4 threads.\u001b[0m\n"
     ]
    }
   ],
   "source": [
    "std = data['close'].rolling(SMA).std() * DEV"
   ]
  },
  {
   "cell_type": "code",
   "execution_count": 11,
   "metadata": {},
   "outputs": [],
   "source": [
    "data['lower'] = data['sma'] - std\n",
    "data['upper'] = data['sma'] + std"
   ]
  },
  {
   "cell_type": "code",
   "execution_count": 12,
   "metadata": {},
   "outputs": [
    {
     "data": {
      "image/png": "[encoded data removed]",
      "text/plain": [
       "<Figure size 864x576 with 1 Axes>"
      ]
     },
     "metadata": {
      "needs_background": "light"
     },
     "output_type": "display_data"
    }
   ],
   "source": [
    "data[['close', 'sma', 'lower', 'upper']] \\\n",
    "    .plot(figsize=(12, 8), title=f'Bollinger Bands with SMA: {SMA} and {DEV} std');"
   ]
  },
  {
   "cell_type": "code",
   "execution_count": 13,
   "metadata": {},
   "outputs": [],
   "source": [
    "data['distance'] = data['close'] - data['sma']"
   ]
  },
  {
   "cell_type": "code",
   "execution_count": 14,
   "metadata": {},
   "outputs": [],
   "source": [
    "data['position'] = np.where(data['close'] < data['lower'], 1, np.nan)"
   ]
  },
  {
   "cell_type": "code",
   "execution_count": 15,
   "metadata": {},
   "outputs": [],
   "source": [
    "data['position'] = np.where(data['close'] > data['upper'], -1, data['position'])"
   ]
  },
  {
   "cell_type": "code",
   "execution_count": 16,
   "metadata": {},
   "outputs": [],
   "source": [
    "data['position'] = np.where(data['distance'] * data['distance'].shift(1) < 0,\n",
    "                            0, data['position'])"
   ]
  },
  {
   "cell_type": "code",
   "execution_count": 17,
   "metadata": {},
   "outputs": [],
   "source": [
    "data['position'] = data['position'].ffill().fillna(0)"
   ]
  },
  {
   "cell_type": "code",
   "execution_count": 18,
   "metadata": {},
   "outputs": [
    {
     "data": {
      "text/plain": [
       " 0.0    169\n",
       "-1.0     89\n",
       "Name: position, dtype: int64"
      ]
     },
     "execution_count": 18,
     "metadata": {},
     "output_type": "execute_result"
    }
   ],
   "source": [
    "data['position'].value_counts()"
   ]
  },
  {
   "cell_type": "code",
   "execution_count": 19,
   "metadata": {},
   "outputs": [
    {
     "data": {
      "text/html": [
       "<div>\n",
       "<style scoped>\n",
       "    .dataframe tbody tr th:only-of-type {\n",
       "        vertical-align: middle;\n",
       "    }\n",
       "\n",
       "    .dataframe tbody tr th {\n",
       "        vertical-align: top;\n",
       "    }\n",
       "\n",
       "    .dataframe thead th {\n",
       "        text-align: right;\n",
       "    }\n",
       "</style>\n",
       "<table border=\"1\" class=\"dataframe\">\n",
       "  <thead>\n",
       "    <tr style=\"text-align: right;\">\n",
       "      <th></th>\n",
       "      <th>time</th>\n",
       "      <th>open</th>\n",
       "      <th>high</th>\n",
       "      <th>low</th>\n",
       "      <th>close</th>\n",
       "      <th>volume</th>\n",
       "      <th>sma</th>\n",
       "      <th>lower</th>\n",
       "      <th>upper</th>\n",
       "      <th>distance</th>\n",
       "      <th>position</th>\n",
       "    </tr>\n",
       "  </thead>\n",
       "  <tbody>\n",
       "    <tr>\n",
       "      <th>248</th>\n",
       "      <td>2021-02-10 07:00:00</td>\n",
       "      <td>136.51</td>\n",
       "      <td>137.34</td>\n",
       "      <td>134.41</td>\n",
       "      <td>135.39</td>\n",
       "      <td>15590571</td>\n",
       "      <td>133.817000</td>\n",
       "      <td>124.818347</td>\n",
       "      <td>142.815653</td>\n",
       "      <td>1.573000</td>\n",
       "      <td>0.0</td>\n",
       "    </tr>\n",
       "    <tr>\n",
       "      <th>249</th>\n",
       "      <td>2021-02-11 07:00:00</td>\n",
       "      <td>135.39</td>\n",
       "      <td>136.36</td>\n",
       "      <td>133.79</td>\n",
       "      <td>135.13</td>\n",
       "      <td>13551807</td>\n",
       "      <td>133.825667</td>\n",
       "      <td>124.822318</td>\n",
       "      <td>142.829016</td>\n",
       "      <td>1.304333</td>\n",
       "      <td>0.0</td>\n",
       "    </tr>\n",
       "    <tr>\n",
       "      <th>250</th>\n",
       "      <td>2021-02-12 07:00:00</td>\n",
       "      <td>134.80</td>\n",
       "      <td>135.50</td>\n",
       "      <td>133.71</td>\n",
       "      <td>135.37</td>\n",
       "      <td>14199593</td>\n",
       "      <td>133.880667</td>\n",
       "      <td>124.859846</td>\n",
       "      <td>142.901487</td>\n",
       "      <td>1.489333</td>\n",
       "      <td>0.0</td>\n",
       "    </tr>\n",
       "    <tr>\n",
       "      <th>251</th>\n",
       "      <td>2021-02-16 07:00:00</td>\n",
       "      <td>136.71</td>\n",
       "      <td>136.72</td>\n",
       "      <td>132.82</td>\n",
       "      <td>133.19</td>\n",
       "      <td>18658772</td>\n",
       "      <td>133.897333</td>\n",
       "      <td>124.883771</td>\n",
       "      <td>142.910895</td>\n",
       "      <td>-0.707333</td>\n",
       "      <td>0.0</td>\n",
       "    </tr>\n",
       "    <tr>\n",
       "      <th>252</th>\n",
       "      <td>2021-02-17 07:00:00</td>\n",
       "      <td>133.66</td>\n",
       "      <td>133.66</td>\n",
       "      <td>129.50</td>\n",
       "      <td>130.84</td>\n",
       "      <td>21042119</td>\n",
       "      <td>133.945000</td>\n",
       "      <td>125.014895</td>\n",
       "      <td>142.875105</td>\n",
       "      <td>-3.105000</td>\n",
       "      <td>0.0</td>\n",
       "    </tr>\n",
       "    <tr>\n",
       "      <th>253</th>\n",
       "      <td>2021-02-18 07:00:00</td>\n",
       "      <td>130.80</td>\n",
       "      <td>131.38</td>\n",
       "      <td>127.43</td>\n",
       "      <td>129.71</td>\n",
       "      <td>20428185</td>\n",
       "      <td>133.901667</td>\n",
       "      <td>124.900297</td>\n",
       "      <td>142.903037</td>\n",
       "      <td>-4.191667</td>\n",
       "      <td>0.0</td>\n",
       "    </tr>\n",
       "    <tr>\n",
       "      <th>254</th>\n",
       "      <td>2021-02-18 07:00:00</td>\n",
       "      <td>130.80</td>\n",
       "      <td>131.38</td>\n",
       "      <td>127.43</td>\n",
       "      <td>129.71</td>\n",
       "      <td>20428185</td>\n",
       "      <td>134.005333</td>\n",
       "      <td>125.284671</td>\n",
       "      <td>142.725996</td>\n",
       "      <td>-4.295333</td>\n",
       "      <td>0.0</td>\n",
       "    </tr>\n",
       "    <tr>\n",
       "      <th>255</th>\n",
       "      <td>2021-02-19 07:00:00</td>\n",
       "      <td>129.95</td>\n",
       "      <td>130.78</td>\n",
       "      <td>128.50</td>\n",
       "      <td>129.87</td>\n",
       "      <td>21624018</td>\n",
       "      <td>133.970333</td>\n",
       "      <td>125.190206</td>\n",
       "      <td>142.750461</td>\n",
       "      <td>-4.100333</td>\n",
       "      <td>0.0</td>\n",
       "    </tr>\n",
       "    <tr>\n",
       "      <th>256</th>\n",
       "      <td>2021-02-19 07:00:00</td>\n",
       "      <td>129.95</td>\n",
       "      <td>130.78</td>\n",
       "      <td>128.50</td>\n",
       "      <td>129.87</td>\n",
       "      <td>21624018</td>\n",
       "      <td>133.897667</td>\n",
       "      <td>125.016274</td>\n",
       "      <td>142.779059</td>\n",
       "      <td>-4.027667</td>\n",
       "      <td>0.0</td>\n",
       "    </tr>\n",
       "    <tr>\n",
       "      <th>257</th>\n",
       "      <td>2021-02-19 07:00:00</td>\n",
       "      <td>129.95</td>\n",
       "      <td>130.78</td>\n",
       "      <td>128.50</td>\n",
       "      <td>129.87</td>\n",
       "      <td>21624018</td>\n",
       "      <td>133.927333</td>\n",
       "      <td>125.108185</td>\n",
       "      <td>142.746482</td>\n",
       "      <td>-4.057333</td>\n",
       "      <td>0.0</td>\n",
       "    </tr>\n",
       "  </tbody>\n",
       "</table>\n",
       "</div>"
      ],
      "text/plain": [
       "                   time    open    high     low   close    volume         sma  \\\n",
       "248 2021-02-10 07:00:00  136.51  137.34  134.41  135.39  15590571  133.817000   \n",
       "249 2021-02-11 07:00:00  135.39  136.36  133.79  135.13  13551807  133.825667   \n",
       "250 2021-02-12 07:00:00  134.80  135.50  133.71  135.37  14199593  133.880667   \n",
       "251 2021-02-16 07:00:00  136.71  136.72  132.82  133.19  18658772  133.897333   \n",
       "252 2021-02-17 07:00:00  133.66  133.66  129.50  130.84  21042119  133.945000   \n",
       "253 2021-02-18 07:00:00  130.80  131.38  127.43  129.71  20428185  133.901667   \n",
       "254 2021-02-18 07:00:00  130.80  131.38  127.43  129.71  20428185  134.005333   \n",
       "255 2021-02-19 07:00:00  129.95  130.78  128.50  129.87  21624018  133.970333   \n",
       "256 2021-02-19 07:00:00  129.95  130.78  128.50  129.87  21624018  133.897667   \n",
       "257 2021-02-19 07:00:00  129.95  130.78  128.50  129.87  21624018  133.927333   \n",
       "\n",
       "          lower       upper  distance  position  \n",
       "248  124.818347  142.815653  1.573000       0.0  \n",
       "249  124.822318  142.829016  1.304333       0.0  \n",
       "250  124.859846  142.901487  1.489333       0.0  \n",
       "251  124.883771  142.910895 -0.707333       0.0  \n",
       "252  125.014895  142.875105 -3.105000       0.0  \n",
       "253  124.900297  142.903037 -4.191667       0.0  \n",
       "254  125.284671  142.725996 -4.295333       0.0  \n",
       "255  125.190206  142.750461 -4.100333       0.0  \n",
       "256  125.016274  142.779059 -4.027667       0.0  \n",
       "257  125.108185  142.746482 -4.057333       0.0  "
      ]
     },
     "execution_count": 19,
     "metadata": {},
     "output_type": "execute_result"
    }
   ],
   "source": [
    "data.tail(10)"
   ]
  },
  {
   "cell_type": "code",
   "execution_count": null,
   "metadata": {},
   "outputs": [],
   "source": []
  },
  {
   "cell_type": "code",
   "execution_count": null,
   "metadata": {},
   "outputs": [],
   "source": []
  }
 ],
 "metadata": {
  "kernelspec": {
   "display_name": "Python 3",
   "language": "python",
   "name": "python3"
  },
  "language_info": {
   "codemirror_mode": {
    "name": "ipython",
    "version": 3
   },
   "file_extension": ".py",
   "mimetype": "text/x-python",
   "name": "python",
   "nbconvert_exporter": "python",
   "pygments_lexer": "ipython3",
   "version": "3.8.5"
  }
 },
 "nbformat": 4,
 "nbformat_minor": 4
}
